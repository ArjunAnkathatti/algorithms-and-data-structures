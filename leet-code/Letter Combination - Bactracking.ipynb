{
 "cells": [
  {
   "cell_type": "markdown",
   "metadata": {},
   "source": [
    "### Letter Combination\n",
    "Given a string containing digits from 2-9 inclusive, return all possible letter combinations that the number could represent.\n",
    "\n",
    "A mapping of digit to letters (just like on the telephone buttons) is given below. Note that 1 does not map to any letters."
   ]
  },
  {
   "cell_type": "markdown",
   "metadata": {},
   "source": [
    "#### Solution - Backtracking\n",
    "Start from the end of the given digits and return the prefix to the next digit. \n",
    "For instanc, given digit = \"23\"\n",
    "Now, take all the possible letter of the digit \"3\" and send it to 2.\n",
    "At 2, take all for each prefix given by 3 add the letter of the digit 2.\n",
    "\n",
    "Stop this process when the len of the prefix is equal to the lenght of the digits."
   ]
  },
  {
   "cell_type": "code",
   "execution_count": 1,
   "metadata": {
    "collapsed": true
   },
   "outputs": [],
   "source": [
    "class Solution:\n",
    "    def letterCombinations(self, digits: str):\n",
    "        if len(digits) == 0: return []\n",
    "        return self.combination(digits, \"\")\n",
    "    \n",
    "    def combination(self, digits, prefix):\n",
    "        # base case\n",
    "        if (len(digits) == len(prefix)):\n",
    "            return [prefix]\n",
    "        \n",
    "        # construct letterMap to get the letter associated with a number\n",
    "        letterMap = dict()\n",
    "        letterMap[\"2\"] = [\"a\", \"b\", \"c\"]\n",
    "        letterMap[\"3\"] = [\"d\", \"e\", \"f\"]\n",
    "        \n",
    "        letterMap[\"4\"] = [\"g\", \"h\", \"i\"]\n",
    "        letterMap[\"5\"] = [\"j\", \"k\", \"l\"]\n",
    "        letterMap[\"6\"] = [\"m\", \"n\", \"o\"]\n",
    "        \n",
    "        letterMap[\"7\"] = [\"p\", \"q\", \"r\", \"s\"]\n",
    "        letterMap[\"8\"] = [\"t\", \"u\", \"v\"]\n",
    "        letterMap[\"9\"] = [\"w\", \"x\", \"y\", \"z\"]\n",
    "        \n",
    "        # get the current digit - current digit will be the lenght of the prefix\n",
    "        currentDigit = len(prefix)\n",
    "        # current letters = list of letters associated with the current digit\n",
    "        currentLetters = letterMap[digits[currentDigit]]\n",
    "        \n",
    "        combinations = []\n",
    "        # for all the current letters, recursively calculate the combination\n",
    "        for letter in currentLetters:\n",
    "            combinations.extend(self.combination(digits, prefix + letter))\n",
    "        \n",
    "        return combinations"
   ]
  },
  {
   "cell_type": "code",
   "execution_count": 2,
   "metadata": {},
   "outputs": [
    {
     "name": "stdout",
     "output_type": "stream",
     "text": [
      "['ad', 'ae', 'af', 'bd', 'be', 'bf', 'cd', 'ce', 'cf']\n"
     ]
    }
   ],
   "source": [
    "s = Solution()\n",
    "lc = s.letterCombinations(\"23\")\n",
    "print(lc)"
   ]
  }
 ],
 "metadata": {
  "kernelspec": {
   "display_name": "Python 3",
   "language": "python",
   "name": "python3"
  },
  "language_info": {
   "codemirror_mode": {
    "name": "ipython",
    "version": 3
   },
   "file_extension": ".py",
   "mimetype": "text/x-python",
   "name": "python",
   "nbconvert_exporter": "python",
   "pygments_lexer": "ipython3",
   "version": "3.6.10"
  }
 },
 "nbformat": 4,
 "nbformat_minor": 2
}
