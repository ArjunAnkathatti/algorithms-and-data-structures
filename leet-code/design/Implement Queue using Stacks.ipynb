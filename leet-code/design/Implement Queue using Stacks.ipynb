{
 "cells": [
  {
   "cell_type": "markdown",
   "metadata": {},
   "source": [
    "### Implement Queue using Stacks"
   ]
  },
  {
   "cell_type": "markdown",
   "metadata": {},
   "source": [
    "### Solution 01 - Using Two stacks\n",
    "<pre>\n",
    "When inserting a new element, we will pop all the elements from the main stack to the temp stack. \n",
    "Insert new element into the main stack. \n",
    "Finally, put back all the elements in the temp stack into main stack.\n",
    "\n",
    "Runtime of this approach,\n",
    "Push - O(N)\n",
    "Pop - O(1)\n",
    "Peek - O(1)\n",
    "</pre>"
   ]
  },
  {
   "cell_type": "code",
   "execution_count": 12,
   "metadata": {
    "collapsed": true
   },
   "outputs": [],
   "source": [
    "from collections import deque\n",
    "class MyQueue1:\n",
    "\n",
    "    def __init__(self):\n",
    "        \"\"\"\n",
    "        Initialize your data structure here.\n",
    "        \"\"\"\n",
    "        self.main_stack = deque()\n",
    "        self.temp_stack = deque()\n",
    "        self.size = 0\n",
    "        \n",
    "\n",
    "    def push(self, x: int) -> None:\n",
    "        \"\"\"\n",
    "        Push element x to the back of queue.\n",
    "        \"\"\"\n",
    "        self.size += 1\n",
    "        \n",
    "        # transfer all the elements in the main stack to the temp stack\n",
    "        while self.main_stack:\n",
    "            cur = self.main_stack.pop()\n",
    "            self.temp_stack.append(cur)\n",
    "        \n",
    "        # add new element to the main stack\n",
    "        # at this tage stack will be empty so the new element will be \n",
    "        # at the bottom of the stack\n",
    "        self.main_stack.append(x)\n",
    "        \n",
    "        # put back the elements from temp to main stack\n",
    "        while self.temp_stack:\n",
    "            cur = self.temp_stack.pop()\n",
    "            self.main_stack.append(cur)\n",
    "\n",
    "    def pop(self) -> int:\n",
    "        \"\"\"\n",
    "        Removes the element from in front of queue and returns that element.\n",
    "        \"\"\"\n",
    "        self.size -= 1\n",
    "        return self.main_stack.pop()\n",
    "\n",
    "    def peek(self) -> int:\n",
    "        \"\"\"\n",
    "        Get the front element.\n",
    "        \"\"\"\n",
    "        return self.main_stack[-1]\n",
    "\n",
    "    def empty(self) -> bool:\n",
    "        \"\"\"\n",
    "        Returns whether the queue is empty.\n",
    "        \"\"\"\n",
    "        return self.size == 0"
   ]
  },
  {
   "cell_type": "code",
   "execution_count": 13,
   "metadata": {},
   "outputs": [
    {
     "name": "stdout",
     "output_type": "stream",
     "text": [
      "10\n",
      "10\n",
      "True\n"
     ]
    }
   ],
   "source": [
    "obj = MyQueue1()\n",
    "obj.push(10)\n",
    "param_2 = obj.peek()\n",
    "param_3 = obj.pop()\n",
    "param_4 = obj.empty()\n",
    "print(param_2)\n",
    "print(param_3)\n",
    "print(param_4)"
   ]
  },
  {
   "cell_type": "markdown",
   "metadata": {},
   "source": [
    "### Solution 02 - Two stack with O(1) for Push\n",
    "This is similar to first approach however when we transfer elements to temp we will not immediatly put back into main stack. As the elements in the temp stack are already in the correct order i.e FIFO.\n",
    "When the temp stack is empty then we will transfer the main stack into empty stack, pop the topmost element in the temp stack."
   ]
  },
  {
   "cell_type": "code",
   "execution_count": 22,
   "metadata": {
    "collapsed": true
   },
   "outputs": [],
   "source": [
    "from collections import deque\n",
    "class MyQueue2:\n",
    "\n",
    "    def __init__(self):\n",
    "        \"\"\"\n",
    "        Initialize your data structure here.\n",
    "        \"\"\"\n",
    "        self.main_stack = deque()\n",
    "        self.temp_stack = deque()\n",
    "        self.size = 0\n",
    "        # extra variable to store the front of the stack\n",
    "        self.front = 0\n",
    "        \n",
    "\n",
    "    def push(self, x: int) -> None:\n",
    "        \"\"\"\n",
    "        Push element x to the back of queue.\n",
    "        \"\"\"\n",
    "        if len(self.main_stack) == 0:\n",
    "            self.front = x\n",
    "            \n",
    "        self.size += 1\n",
    "        # always push new element to the main stack\n",
    "        self.main_stack.append(x)\n",
    "\n",
    "    def pop(self) -> int:\n",
    "        \"\"\"\n",
    "        Removes the element from in front of queue and returns that element.\n",
    "        \"\"\"\n",
    "        # if temp stack is empty then copy main stack to temp stack\n",
    "        if len(self.temp_stack) == 0:\n",
    "            while len(self.main_stack):\n",
    "                self.temp_stack.append(self.main_stack.pop())\n",
    "        \n",
    "        \n",
    "        self.size -= 1\n",
    "        return self.temp_stack.pop()\n",
    "\n",
    "    def peek(self) -> int:\n",
    "        \"\"\"\n",
    "        Get the front element.\n",
    "        \"\"\"\n",
    "        if len(self.temp_stack):\n",
    "            return self.temp_stack[-1]\n",
    "        else:\n",
    "            return self.front\n",
    "\n",
    "    def empty(self) -> bool:\n",
    "        \"\"\"\n",
    "        Returns whether the queue is empty.\n",
    "        \"\"\"\n",
    "        return self.size == 0"
   ]
  },
  {
   "cell_type": "code",
   "execution_count": 23,
   "metadata": {},
   "outputs": [
    {
     "name": "stdout",
     "output_type": "stream",
     "text": [
      "10\n",
      "10\n",
      "20\n",
      "False\n",
      "20\n",
      "True\n"
     ]
    }
   ],
   "source": [
    "obj = MyQueue2()\n",
    "obj.push(10)\n",
    "obj.push(20)\n",
    "param_2 = obj.peek()\n",
    "param_3 = obj.pop()\n",
    "param_4 = obj.peek()\n",
    "param_5 = obj.empty()\n",
    "param_6 = obj.pop()\n",
    "param_7 = obj.empty()\n",
    "print(param_2)\n",
    "print(param_3)\n",
    "print(param_4)\n",
    "print(param_5)\n",
    "print(param_6)\n",
    "print(param_7)"
   ]
  },
  {
   "cell_type": "code",
   "execution_count": null,
   "metadata": {
    "collapsed": true
   },
   "outputs": [],
   "source": []
  }
 ],
 "metadata": {
  "kernelspec": {
   "display_name": "Python 3",
   "language": "python",
   "name": "python3"
  },
  "language_info": {
   "codemirror_mode": {
    "name": "ipython",
    "version": 3
   },
   "file_extension": ".py",
   "mimetype": "text/x-python",
   "name": "python",
   "nbconvert_exporter": "python",
   "pygments_lexer": "ipython3",
   "version": "3.6.10"
  }
 },
 "nbformat": 4,
 "nbformat_minor": 2
}
