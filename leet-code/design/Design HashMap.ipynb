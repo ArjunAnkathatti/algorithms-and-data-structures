{
 "cells": [
  {
   "cell_type": "markdown",
   "metadata": {},
   "source": [
    "### Design HashMap\n",
    "<pre>\n",
    "Design a HashMap without using any built-in hash table libraries.\n",
    "\n",
    "To be specific, your design should include these functions:\n",
    "\n",
    "put(key, value) : Insert a (key, value) pair into the HashMap. If the value already exists in the HashMap, update the value.\n",
    "get(key): Returns the value to which the specified key is mapped, or -1 if this map contains no mapping for the key.\n",
    "remove(key) : Remove the mapping for the value key if this map contains the mapping for the key.\n",
    "</pre>"
   ]
  },
  {
   "cell_type": "code",
   "execution_count": 6,
   "metadata": {
    "collapsed": true
   },
   "outputs": [],
   "source": [
    "class Bucket:\n",
    "    def __init__(self):\n",
    "        self.arr = list()\n",
    "        \n",
    "    def update(self, key, value):\n",
    "        found = False\n",
    "        for idx, (k, v) in enumerate(self.arr):\n",
    "            if k == key:\n",
    "                found = True\n",
    "                self.arr[idx] = (key, value)\n",
    "        \n",
    "        if not found:\n",
    "            self.arr.append((key, value))\n",
    "    \n",
    "    def remove(self, key):\n",
    "        for idx, (k, v) in enumerate(self.arr):\n",
    "            if k == key:\n",
    "                # swap the current with the last \n",
    "                self.arr[idx], self.arr[-1] = self.arr[-1], self.arr[idx]\n",
    "                \n",
    "                # remove last\n",
    "                self.arr.pop()\n",
    "                break\n",
    "                \n",
    "    def get(self, key):\n",
    "        for (k, v) in self.arr:\n",
    "            if k == key:\n",
    "                return v\n",
    "            \n",
    "        # return -1 when key not found\n",
    "        return -1\n",
    "    \n",
    "class MyHashMap:\n",
    "\n",
    "    def __init__(self):\n",
    "        \"\"\"\n",
    "        Initialize your data structure here.\n",
    "        \"\"\"\n",
    "        # some prime number\n",
    "        self.key_range = 2069\n",
    "        self.arr = [Bucket() for i in range(self.key_range)]\n",
    "    \n",
    "    def __hashfunc(self, key):\n",
    "        return key % self.key_range\n",
    "\n",
    "    def put(self, key: int, value: int) -> None:\n",
    "        \"\"\"\n",
    "        value will always be non-negative.\n",
    "        \"\"\"\n",
    "        hash_key = self.__hashfunc(key)\n",
    "        self.arr[hash_key].update(key, value)\n",
    "\n",
    "    def get(self, key: int) -> int:\n",
    "        \"\"\"\n",
    "        Returns the value to which the specified key is mapped, or -1 if this map contains no mapping for the key\n",
    "        \"\"\"\n",
    "        hash_key = self.__hashfunc(key)\n",
    "        return self.arr[hash_key].get(key)\n",
    "\n",
    "    def remove(self, key: int) -> None:\n",
    "        \"\"\"\n",
    "        Removes the mapping of the specified value key if this map contains a mapping for the key\n",
    "        \"\"\"\n",
    "        hash_key = self.__hashfunc(key)\n",
    "        return self.arr[hash_key].remove(key)"
   ]
  },
  {
   "cell_type": "code",
   "execution_count": 7,
   "metadata": {},
   "outputs": [],
   "source": [
    "obj = MyHashMap()\n",
    "obj.put(2,20)\n",
    "param_2 = obj.get(2)\n",
    "obj.remove(2)"
   ]
  },
  {
   "cell_type": "code",
   "execution_count": 8,
   "metadata": {},
   "outputs": [
    {
     "data": {
      "text/plain": [
       "20"
      ]
     },
     "execution_count": 8,
     "metadata": {},
     "output_type": "execute_result"
    }
   ],
   "source": [
    "param_2"
   ]
  }
 ],
 "metadata": {
  "kernelspec": {
   "display_name": "Python 3",
   "language": "python",
   "name": "python3"
  },
  "language_info": {
   "codemirror_mode": {
    "name": "ipython",
    "version": 3
   },
   "file_extension": ".py",
   "mimetype": "text/x-python",
   "name": "python",
   "nbconvert_exporter": "python",
   "pygments_lexer": "ipython3",
   "version": "3.6.10"
  }
 },
 "nbformat": 4,
 "nbformat_minor": 2
}
