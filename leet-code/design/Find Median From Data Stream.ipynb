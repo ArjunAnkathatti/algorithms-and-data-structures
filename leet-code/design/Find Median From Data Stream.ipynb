{
 "cells": [
  {
   "cell_type": "markdown",
   "metadata": {},
   "source": [
    "### Solution 01 - Simple Sorting\n",
    "Sort the input list or array before computing the median."
   ]
  },
  {
   "cell_type": "code",
   "execution_count": 13,
   "metadata": {
    "collapsed": true
   },
   "outputs": [],
   "source": [
    "class MedianFinder01:\n",
    "    def __init__(self):\n",
    "        self.data = []\n",
    "    \n",
    "    def addNum(self, num: int) -> int:\n",
    "        self.data.append(num)\n",
    "        \n",
    "    def findMedian(self) -> float:\n",
    "        self.data.sort()\n",
    "        l = len(self.data)\n",
    "        i = l // 2\n",
    "        n1 = self.data[i]\n",
    "        n2 = n1\n",
    "        if l % 2 == 0:\n",
    "            n2 = self.data[i-1]\n",
    "        \n",
    "        return (n1 + n2)/2"
   ]
  },
  {
   "cell_type": "code",
   "execution_count": 18,
   "metadata": {},
   "outputs": [
    {
     "name": "stdout",
     "output_type": "stream",
     "text": [
      "10.0\n",
      "8.0\n",
      "7.0\n",
      "7.5\n",
      "7.0\n"
     ]
    }
   ],
   "source": [
    "s1 = MedianFinder01()\n",
    "s1.addNum(10)\n",
    "print(s1.findMedian())\n",
    "s1.addNum(6)\n",
    "print(s1.findMedian())\n",
    "s1.addNum(7)\n",
    "print(s1.findMedian())\n",
    "s1.addNum(8)\n",
    "print(s1.findMedian())\n",
    "s1.addNum(2)\n",
    "print(s1.findMedian())"
   ]
  },
  {
   "cell_type": "markdown",
   "metadata": {},
   "source": [
    "### Solution 02 - Keep the data sorted \n",
    "Insert the new item at the correct place so that we keep our data sorted at all the time."
   ]
  },
  {
   "cell_type": "code",
   "execution_count": 216,
   "metadata": {},
   "outputs": [],
   "source": [
    "class MedianFinder02:\n",
    "    def __init__(self):\n",
    "        self.data = []\n",
    "        \n",
    "    # O(logn N) - to find the correct position\n",
    "    def __binarySearch(self, start, end, x):\n",
    "        if end < start:\n",
    "            return 0\n",
    "        \n",
    "        if start == end:\n",
    "            if self.data[start] < x:\n",
    "                return start + 1\n",
    "            else:\n",
    "                return start\n",
    "            \n",
    "        # this is mid of the current slice\n",
    "        # while accessing array add start to this mid\n",
    "        mid = (end - start) // 2\n",
    "        if self.data[start + mid] > x:\n",
    "            return self.__binarySearch(start, start+mid, x)\n",
    "        else:\n",
    "            return self.__binarySearch(start+mid+1, end, x)\n",
    "    \n",
    "    # O(N) + O(log N) so it will be O(N)\n",
    "    def addNum(self, num: int) -> None:\n",
    "        # O(log N) to find the correct position\n",
    "        pos = self.__binarySearch(0, len(self.data) -1, num)\n",
    "        \n",
    "        # O(N) for array shifting\n",
    "        self.data.insert(pos, num)\n",
    "        \n",
    "    def findMedian(self) -> float:\n",
    "        l = len(self.data)\n",
    "        i = l // 2\n",
    "        n1 = self.data[i]\n",
    "        n2 = n1\n",
    "        if l % 2 == 0:\n",
    "            n2 = self.data[i-1]\n",
    "        \n",
    "        return (n1 + n2)/2"
   ]
  },
  {
   "cell_type": "code",
   "execution_count": 217,
   "metadata": {},
   "outputs": [
    {
     "name": "stdout",
     "output_type": "stream",
     "text": [
      "10.0\n",
      "8.0\n",
      "7.0\n",
      "7.5\n",
      "7.0\n"
     ]
    }
   ],
   "source": [
    "s2 = MedianFinder02()\n",
    "s2.addNum(10)\n",
    "print(s2.findMedian())\n",
    "s2.addNum(6)\n",
    "print(s2.findMedian())\n",
    "s2.addNum(7)\n",
    "print(s2.findMedian())\n",
    "s2.addNum(8)\n",
    "print(s2.findMedian())\n",
    "s2.addNum(2)\n",
    "print(s2.findMedian())"
   ]
  },
  {
   "cell_type": "code",
   "execution_count": 201,
   "metadata": {},
   "outputs": [],
   "source": [
    "def binarySearch(nums, start, end, x):\n",
    "    if len(nums) == 0:\n",
    "        return 0\n",
    "    elif start == end:\n",
    "        if nums[start] < x:\n",
    "            return start + 1\n",
    "        else:\n",
    "            return start\n",
    "    \n",
    "    mid = (end - start) // 2\n",
    "    if nums[start + mid] > x:\n",
    "        return binarySearch(nums, start, start+mid, x)\n",
    "    else:\n",
    "        return binarySearch(nums, start+mid+1, end, x)"
   ]
  }
 ],
 "metadata": {
  "kernelspec": {
   "display_name": "Python 3",
   "language": "python",
   "name": "python3"
  },
  "language_info": {
   "codemirror_mode": {
    "name": "ipython",
    "version": 3
   },
   "file_extension": ".py",
   "mimetype": "text/x-python",
   "name": "python",
   "nbconvert_exporter": "python",
   "pygments_lexer": "ipython3",
   "version": "3.6.10"
  }
 },
 "nbformat": 4,
 "nbformat_minor": 2
}
