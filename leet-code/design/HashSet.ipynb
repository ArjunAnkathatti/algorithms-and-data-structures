{
 "cells": [
  {
   "cell_type": "markdown",
   "metadata": {},
   "source": [
    "### Design HashSet\n",
    "Design a HashSet without using any built-in hash table libraries.\n",
    "\n",
    "To be specific, your design should include these functions:\n",
    "\n",
    "add(value): Insert a value into the HashSet. \n",
    "contains(value) : Return whether the value exists in the HashSet or not.\n",
    "remove(value): Remove a value in the HashSet. If the value does not exist in the HashSet, do nothing."
   ]
  },
  {
   "cell_type": "code",
   "execution_count": 7,
   "metadata": {},
   "outputs": [],
   "source": [
    "class Bucket:\n",
    "    def __init__(self):\n",
    "        self.arr = list()\n",
    "    \n",
    "    def add(self, key) -> None:\n",
    "        key_exists = False\n",
    "        for k in self.arr:\n",
    "            if k == key:\n",
    "                key_exists = True\n",
    "                break\n",
    "        \n",
    "        if not key_exists:\n",
    "            self.arr.append(key)\n",
    "    \n",
    "    def remove(self, key) -> None:\n",
    "        for idx, val in enumerate(self.arr):\n",
    "            if val == key:\n",
    "                # swap the current value with the last \n",
    "                self.arr[idx], self.arr[-1] = self.arr[-1], self.arr[idx]\n",
    "                \n",
    "                # remove last\n",
    "                self.arr.pop()\n",
    "                break\n",
    "    \n",
    "    def contains(self, key) -> bool:\n",
    "        for val in self.arr:\n",
    "            if val == key:\n",
    "                return True\n",
    "        \n",
    "        return False\n",
    "        \n",
    "class MyHashSet:\n",
    "\n",
    "    def __init__(self):\n",
    "        \"\"\"\n",
    "        Initialize your data structure here.\n",
    "        \"\"\"\n",
    "        self.arr = [Bucket() for i in range(1000)]\n",
    "\n",
    "    def __hashfunc(self, key):\n",
    "        return key % 1000\n",
    "        \n",
    "    def add(self, key: int) -> None:\n",
    "        idx = self.__hashfunc(key)\n",
    "        self.arr[idx].add(key)\n",
    "        return\n",
    "\n",
    "    def remove(self, key: int) -> None:\n",
    "        idx = self.__hashfunc(key)\n",
    "        self.arr[idx].remove(key)\n",
    "\n",
    "    def contains(self, key: int) -> bool:\n",
    "        \"\"\"\n",
    "        Returns true if this set contains the specified element\n",
    "        \"\"\"\n",
    "        idx = self.__hashfunc(key)\n",
    "        return self.arr[idx].contains(key)"
   ]
  },
  {
   "cell_type": "code",
   "execution_count": 10,
   "metadata": {},
   "outputs": [],
   "source": [
    "# Your MyHashSet object will be instantiated and called as such:\n",
    "obj = MyHashSet()\n",
    "obj.add(3)\n",
    "obj.remove(2)\n",
    "param_3 = obj.contains(3)"
   ]
  },
  {
   "cell_type": "code",
   "execution_count": 11,
   "metadata": {},
   "outputs": [
    {
     "data": {
      "text/plain": [
       "True"
      ]
     },
     "execution_count": 11,
     "metadata": {},
     "output_type": "execute_result"
    }
   ],
   "source": [
    "param_3 "
   ]
  },
  {
   "cell_type": "code",
   "execution_count": null,
   "metadata": {
    "collapsed": true
   },
   "outputs": [],
   "source": []
  }
 ],
 "metadata": {
  "kernelspec": {
   "display_name": "Python 3",
   "language": "python",
   "name": "python3"
  },
  "language_info": {
   "codemirror_mode": {
    "name": "ipython",
    "version": 3
   },
   "file_extension": ".py",
   "mimetype": "text/x-python",
   "name": "python",
   "nbconvert_exporter": "python",
   "pygments_lexer": "ipython3",
   "version": "3.6.10"
  }
 },
 "nbformat": 4,
 "nbformat_minor": 2
}
