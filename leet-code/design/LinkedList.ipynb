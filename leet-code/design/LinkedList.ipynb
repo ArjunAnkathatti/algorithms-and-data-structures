{
 "cells": [
  {
   "cell_type": "markdown",
   "metadata": {},
   "source": [
    "### Design Linked List\n",
    "Design your implementation of the linked list. You can choose to use the singly linked list or the doubly linked list. <br>\n",
    "A node in a singly linked list should have two attributes: val and next. val is the value of the current node, and next is a pointer/reference to the next node.\n",
    "<br>\n",
    "If you want to use the doubly linked list, you will need one more attribute prev to indicate the previous node in the linked list. Assume all nodes in the linked list are 0-indexed.\n",
    "<br><br>\n",
    "Implement these functions in your linked list class:\n",
    "<br>\n",
    "1. get(index) : Get the value of the index-th node in the linked list. If the index is invalid, return -1.\n",
    "2. addAtHead(val) : Add a node of value val before the first element of the linked list. After the insertion, the new node will be the first node of the linked list.\n",
    "3. addAtTail(val) : Append a node of value val to the last element of the linked list.\n",
    "4. addAtIndex(index, val) : Add a node of value val before the index-th node in the linked list. If index equals to the length of linked list, the node will be appended to the end of linked list. If index is greater than the length, the node will not be inserted.\n",
    "5. deleteAtIndex(index) : Delete the index-th node in the linked list, if the index is valid."
   ]
  },
  {
   "cell_type": "markdown",
   "metadata": {},
   "source": [
    "### Solution 01 - Using Single linked list and one sentinel head\n",
    "__Sentinel nodes__ are widely used in the trees and linked lists as pseudo-heads, pseudo-tails, etc. They serve as the guardians, as the name suggests, and usually they do not hold any data."
   ]
  },
  {
   "cell_type": "code",
   "execution_count": 4,
   "metadata": {
    "collapsed": true
   },
   "outputs": [],
   "source": [
    "class ListNode:\n",
    "    def __init__(self, val):\n",
    "        self.val = val\n",
    "        self.next = None"
   ]
  },
  {
   "cell_type": "code",
   "execution_count": 5,
   "metadata": {
    "collapsed": true
   },
   "outputs": [],
   "source": [
    "class MyLinkedList:\n",
    "    def __init__(self):\n",
    "        self.size = 0\n",
    "        self.head = ListNode(0) # pseudo head or sentinel head\n",
    "    \n",
    "    def get(self, idx):\n",
    "        if idx < 0 or idx >= self.size:\n",
    "            return -1\n",
    "        \n",
    "        # increment cur all the way up to the node\n",
    "        cur = self.head\n",
    "        for _ in range(idx+1):\n",
    "            cur = cur.next\n",
    "        \n",
    "        return cur.val\n",
    "    \n",
    "    def addAtHead(self, val):\n",
    "        self.addAtIndex(0, val)\n",
    "    \n",
    "    def addAtTail(self, val):\n",
    "        self.addAtIndex(self.size, val)\n",
    "    \n",
    "    def addAtIndex(self, idx, val):\n",
    "        if idx > self.size:\n",
    "            return \n",
    "        \n",
    "        if idx < 0:\n",
    "            idx = 0\n",
    "        \n",
    "        self.size += 1\n",
    "        # increment all the way upto the node previous to the ith node\n",
    "        prev = self.head\n",
    "        for _ in range(idx):\n",
    "            prev = prev.next\n",
    "        \n",
    "        to_be_added = ListNode(val)\n",
    "        to_be_added.next = prev.next\n",
    "        prev.next = to_be_added\n",
    "    \n",
    "    def deleteAtIndex(self, idx):\n",
    "        if idx < 0 or idx >= self.size:\n",
    "            return \n",
    "        \n",
    "        self.size -= 1\n",
    "        prev = self.head\n",
    "        for _ in range(idx):\n",
    "            prev = prev.next\n",
    "        \n",
    "        to_be_deleted = prev.next\n",
    "        prev.next = to_be_deleted.next"
   ]
  },
  {
   "cell_type": "code",
   "execution_count": 6,
   "metadata": {},
   "outputs": [],
   "source": [
    "ll = MyLinkedList()"
   ]
  },
  {
   "cell_type": "code",
   "execution_count": 21,
   "metadata": {},
   "outputs": [],
   "source": [
    "ll.addAtIndex(0, 12)\n",
    "ll.addAtIndex(0, 11)"
   ]
  },
  {
   "cell_type": "code",
   "execution_count": 24,
   "metadata": {},
   "outputs": [
    {
     "data": {
      "text/plain": [
       "11"
      ]
     },
     "execution_count": 24,
     "metadata": {},
     "output_type": "execute_result"
    }
   ],
   "source": [
    "ll.get(0)"
   ]
  },
  {
   "cell_type": "code",
   "execution_count": 25,
   "metadata": {},
   "outputs": [
    {
     "data": {
      "text/plain": [
       "12"
      ]
     },
     "execution_count": 25,
     "metadata": {},
     "output_type": "execute_result"
    }
   ],
   "source": [
    "ll.get(1)"
   ]
  },
  {
   "cell_type": "markdown",
   "metadata": {},
   "source": [
    "### Solution 02 - Using Double linked list\n",
    "This contains a size, sentinel head and sentinel tail."
   ]
  },
  {
   "cell_type": "code",
   "execution_count": 26,
   "metadata": {
    "collapsed": true
   },
   "outputs": [],
   "source": [
    "class ListNode:\n",
    "    def __init__(self, val):\n",
    "        self.val = val \n",
    "        self.prev = None\n",
    "        self.next = None"
   ]
  },
  {
   "cell_type": "code",
   "execution_count": 128,
   "metadata": {
    "collapsed": true
   },
   "outputs": [],
   "source": [
    "class MyLinkedList:\n",
    "    def __init__(self):\n",
    "        self.size = 0\n",
    "        self.head = ListNode(0) # sentinel head\n",
    "        self.tail = ListNode(0) # sentinel tail\n",
    "        \n",
    "        self.head.next = self.tail # link head to tail\n",
    "        self.tail.prev = self.head # link tail to head\n",
    "    \n",
    "    \n",
    "    def get(self, idx):\n",
    "        if idx < 0 or idx >= self.size:\n",
    "            return -1\n",
    "        \n",
    "        if self.size - idx < idx + 1:\n",
    "            # search from backside\n",
    "            cur = self.tail\n",
    "            for _ in range(self.size - idx):\n",
    "                cur = cur.prev\n",
    "            \n",
    "            return cur.val\n",
    "        else:\n",
    "            # search from frontside\n",
    "            cur = self.head\n",
    "            for _ in range(idx+1):\n",
    "                cur = cur.next\n",
    "            \n",
    "            return cur.val\n",
    "    \n",
    "    def addAtHead(self, val):\n",
    "        self.size += 1\n",
    "        to_be_added = ListNode(val)\n",
    "        \n",
    "        to_be_added.prev = self.head\n",
    "        to_be_added.next = self.head.next\n",
    "        \n",
    "        self.head.next.prev = to_be_added\n",
    "        self.head.next = to_be_added\n",
    "    \n",
    "    def addAtTail(self, val):\n",
    "        self.size += 1\n",
    "        to_be_added = ListNode(val)\n",
    "        \n",
    "        to_be_added.next = self.tail\n",
    "        to_be_added.prev = self.tail.prev\n",
    "        \n",
    "        self.tail.prev.next = to_be_added\n",
    "        self.tail.prev = to_be_added\n",
    "    \n",
    "    def addAtIndex(self, idx, val):\n",
    "        if idx > self.size:\n",
    "            return \n",
    "        \n",
    "        if idx <= 0:\n",
    "            return self.addAtHead(val)\n",
    "        \n",
    "        if idx == self.size:\n",
    "            return self.addAtTail(val)\n",
    "        \n",
    "        suc = self.head\n",
    "        for _ in range(idx):\n",
    "            suc = suc.next\n",
    "        \n",
    "        self.size += 1\n",
    "        prev = suc.prev\n",
    "        \n",
    "        to_be_added = ListNode(val)\n",
    "        to_be_added.prev = prev\n",
    "        to_be_added.next = suc\n",
    "        \n",
    "        prev.next = to_be_added\n",
    "        suc.prev = to_be_added\n",
    "        \n",
    "            \n",
    "    \n",
    "    def deleteAtIndex(self, idx):\n",
    "        if idx < 0 or idx >= self.size:\n",
    "            return \n",
    "        \n",
    "        self.size -= 1\n",
    "        cur = self.head\n",
    "        for _ in range(idx+1):\n",
    "            cur = cur.next\n",
    "        \n",
    "        \n",
    "        prev = cur.prev\n",
    "        suc = cur.next\n",
    "        \n",
    "        prev.next = suc\n",
    "        suc.prev = prev\n",
    "        "
   ]
  },
  {
   "cell_type": "code",
   "execution_count": 129,
   "metadata": {
    "collapsed": true
   },
   "outputs": [],
   "source": [
    "ll = MyLinkedList()"
   ]
  },
  {
   "cell_type": "code",
   "execution_count": 130,
   "metadata": {},
   "outputs": [],
   "source": [
    "ll.addAtHead(1)"
   ]
  },
  {
   "cell_type": "code",
   "execution_count": 131,
   "metadata": {},
   "outputs": [
    {
     "data": {
      "text/plain": [
       "1"
      ]
     },
     "execution_count": 131,
     "metadata": {},
     "output_type": "execute_result"
    }
   ],
   "source": [
    "ll.get(0)"
   ]
  },
  {
   "cell_type": "code",
   "execution_count": 132,
   "metadata": {
    "collapsed": true
   },
   "outputs": [],
   "source": [
    "ll.addAtTail(2)"
   ]
  },
  {
   "cell_type": "code",
   "execution_count": 133,
   "metadata": {},
   "outputs": [
    {
     "data": {
      "text/plain": [
       "2"
      ]
     },
     "execution_count": 133,
     "metadata": {},
     "output_type": "execute_result"
    }
   ],
   "source": [
    "ll.get(1)"
   ]
  },
  {
   "cell_type": "code",
   "execution_count": 134,
   "metadata": {},
   "outputs": [],
   "source": [
    "ll.deleteAtIndex(0)"
   ]
  },
  {
   "cell_type": "code",
   "execution_count": 135,
   "metadata": {},
   "outputs": [
    {
     "data": {
      "text/plain": [
       "-1"
      ]
     },
     "execution_count": 135,
     "metadata": {},
     "output_type": "execute_result"
    }
   ],
   "source": [
    "ll.get(1)"
   ]
  },
  {
   "cell_type": "code",
   "execution_count": 136,
   "metadata": {},
   "outputs": [
    {
     "data": {
      "text/plain": [
       "2"
      ]
     },
     "execution_count": 136,
     "metadata": {},
     "output_type": "execute_result"
    }
   ],
   "source": [
    "ll.get(0)"
   ]
  },
  {
   "cell_type": "code",
   "execution_count": 137,
   "metadata": {
    "collapsed": true
   },
   "outputs": [],
   "source": [
    "ll.addAtIndex(1, 3)"
   ]
  },
  {
   "cell_type": "code",
   "execution_count": 138,
   "metadata": {},
   "outputs": [
    {
     "data": {
      "text/plain": [
       "3"
      ]
     },
     "execution_count": 138,
     "metadata": {},
     "output_type": "execute_result"
    }
   ],
   "source": [
    "ll.get(1)"
   ]
  },
  {
   "cell_type": "code",
   "execution_count": 139,
   "metadata": {},
   "outputs": [
    {
     "data": {
      "text/plain": [
       "2"
      ]
     },
     "execution_count": 139,
     "metadata": {},
     "output_type": "execute_result"
    }
   ],
   "source": [
    "ll.get(0)"
   ]
  },
  {
   "cell_type": "code",
   "execution_count": 140,
   "metadata": {},
   "outputs": [
    {
     "data": {
      "text/plain": [
       "-1"
      ]
     },
     "execution_count": 140,
     "metadata": {},
     "output_type": "execute_result"
    }
   ],
   "source": [
    "ll.get(2)"
   ]
  },
  {
   "cell_type": "code",
   "execution_count": 141,
   "metadata": {
    "collapsed": true
   },
   "outputs": [],
   "source": [
    "ll.addAtIndex(0, -37)"
   ]
  },
  {
   "cell_type": "code",
   "execution_count": 142,
   "metadata": {},
   "outputs": [
    {
     "data": {
      "text/plain": [
       "-37"
      ]
     },
     "execution_count": 142,
     "metadata": {},
     "output_type": "execute_result"
    }
   ],
   "source": [
    "ll.get(0)"
   ]
  },
  {
   "cell_type": "code",
   "execution_count": 143,
   "metadata": {},
   "outputs": [
    {
     "data": {
      "text/plain": [
       "2"
      ]
     },
     "execution_count": 143,
     "metadata": {},
     "output_type": "execute_result"
    }
   ],
   "source": [
    "ll.get(1)"
   ]
  },
  {
   "cell_type": "code",
   "execution_count": 144,
   "metadata": {},
   "outputs": [
    {
     "data": {
      "text/plain": [
       "3"
      ]
     },
     "execution_count": 144,
     "metadata": {},
     "output_type": "execute_result"
    }
   ],
   "source": [
    "ll.get(2)"
   ]
  },
  {
   "cell_type": "code",
   "execution_count": 146,
   "metadata": {},
   "outputs": [
    {
     "data": {
      "text/plain": [
       "-1"
      ]
     },
     "execution_count": 146,
     "metadata": {},
     "output_type": "execute_result"
    }
   ],
   "source": [
    "ll.get(4)"
   ]
  },
  {
   "cell_type": "code",
   "execution_count": null,
   "metadata": {
    "collapsed": true
   },
   "outputs": [],
   "source": []
  }
 ],
 "metadata": {
  "kernelspec": {
   "display_name": "Python 3",
   "language": "python",
   "name": "python3"
  },
  "language_info": {
   "codemirror_mode": {
    "name": "ipython",
    "version": 3
   },
   "file_extension": ".py",
   "mimetype": "text/x-python",
   "name": "python",
   "nbconvert_exporter": "python",
   "pygments_lexer": "ipython3",
   "version": "3.6.10"
  }
 },
 "nbformat": 4,
 "nbformat_minor": 2
}
