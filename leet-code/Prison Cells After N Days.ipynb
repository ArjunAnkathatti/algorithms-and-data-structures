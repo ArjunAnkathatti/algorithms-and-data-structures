{
 "cells": [
  {
   "cell_type": "markdown",
   "metadata": {},
   "source": [
    "### Prison Cells After N Days\n",
    "There are 8 prison cells in a row, and each cell is either occupied or vacant.\n",
    "<br>\n",
    "Each day, whether the cell is occupied or vacant changes according to the following rules:\n",
    "<br>\n",
    "If a cell has two adjacent neighbors that are both occupied or both vacant, then the cell becomes occupied.\n",
    "Otherwise, it becomes vacant.<br>\n",
    "(Note that because the prison is a row, the first and the last cells in the row can't have two adjacent neighbors.)\n",
    "<br>\n",
    "We describe the current state of the prison in the following way: cells[i] == 1 if the i-th cell is occupied, else cells[i] == 0.\n",
    "<br>\n",
    "Given the initial state of the prison, return the state of the prison after N days (and N such changes described above.)\n",
    "<br><br>\n",
    "Example 1:\n",
    "<br>\n",
    "Input: cells = [0,1,0,1,1,0,0,1], N = 7<br>\n",
    "Output: [0,0,1,1,0,0,0,0]<br>\n",
    "Explanation: <br>\n",
    "The following table summarizes the state of the prison on each day:<br>\n",
    "Day 0: [0, 1, 0, 1, 1, 0, 0, 1]<br>\n",
    "Day 1: [0, 1, 1, 0, 0, 0, 0, 0]<br>\n",
    "Day 2: [0, 0, 0, 0, 1, 1, 1, 0]<br>\n",
    "Day 3: [0, 1, 1, 0, 0, 1, 0, 0]<br>\n",
    "Day 4: [0, 0, 0, 0, 0, 1, 0, 0]<br>\n",
    "Day 5: [0, 1, 1, 1, 0, 1, 0, 0]<br>\n",
    "Day 6: [0, 0, 1, 0, 1, 1, 0, 0]<br>\n",
    "Day 7: [0, 0, 1, 1, 0, 0, 0, 0]<br>"
   ]
  },
  {
   "cell_type": "code",
   "execution_count": 16,
   "metadata": {
    "collapsed": true
   },
   "outputs": [],
   "source": [
    "from typing import List\n",
    "def prisonAfterNDays(cells: List[int], N: int) -> List[int]:\n",
    "    # to store the already seen cell state\n",
    "    seen = dict()\n",
    "    \n",
    "    while N > 0:\n",
    "        cell_state = tuple(cells)\n",
    "        \n",
    "        if cell_state in seen:\n",
    "            # update N i.e fast forward N\n",
    "            N = N % (seen[cell_state] - N)\n",
    "        else:\n",
    "            # add the current state to the set\n",
    "            seen[cell_state] = N\n",
    "            \n",
    "        if N > 0:\n",
    "            # simulate \n",
    "            # 1st cell \n",
    "            res = [0]\n",
    "            \n",
    "            # update the cell state in res\n",
    "            for i in range(1, len(cells)-1):\n",
    "                res.append(int(cells[i-1] == cells[i+1]))\n",
    "            \n",
    "            # last cell \n",
    "            res.append(0)\n",
    "            \n",
    "            \n",
    "            # copy res back to cells \n",
    "            for i, r in enumerate(res):\n",
    "                cells[i] = r\n",
    "            \n",
    "            # decrement N\n",
    "            N -= 1\n",
    "    \n",
    "    return cells"
   ]
  },
  {
   "cell_type": "code",
   "execution_count": 21,
   "metadata": {},
   "outputs": [
    {
     "name": "stdout",
     "output_type": "stream",
     "text": [
      "[0, 0, 0, 0, 0, 1, 1, 0]\n"
     ]
    }
   ],
   "source": [
    "cells = [0,1,0,1,1,0,0,1]\n",
    "N = 36\n",
    "print(prisonAfterNDays(cells, N))"
   ]
  }
 ],
 "metadata": {
  "kernelspec": {
   "display_name": "Python 3",
   "language": "python",
   "name": "python3"
  },
  "language_info": {
   "codemirror_mode": {
    "name": "ipython",
    "version": 3
   },
   "file_extension": ".py",
   "mimetype": "text/x-python",
   "name": "python",
   "nbconvert_exporter": "python",
   "pygments_lexer": "ipython3",
   "version": "3.6.10"
  }
 },
 "nbformat": 4,
 "nbformat_minor": 2
}
