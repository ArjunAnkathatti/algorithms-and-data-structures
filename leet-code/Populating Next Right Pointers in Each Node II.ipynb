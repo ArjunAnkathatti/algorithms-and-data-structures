{
 "cells": [
  {
   "cell_type": "markdown",
   "metadata": {},
   "source": [
    "### Populating Next Right Pointers in Each Node II\n",
    "<pre>\n",
    "Given a binary tree\n",
    "\n",
    "struct Node {\n",
    "  int val;\n",
    "  Node *left;\n",
    "  Node *right;\n",
    "  Node *next;\n",
    "}\n",
    "Populate each next pointer to point to its next right node. If there is no next right node, the next pointer should be set to NULL.\n",
    "\n",
    "Initially, all next pointers are set to NULL.\n",
    "\n",
    "Follow up:\n",
    "\n",
    "You may only use constant extra space.\n",
    "Recursive approach is fine, you may assume implicit stack space does not count as extra space for this problem.\n",
    "\n",
    "</pre>\n",
    "![alt text](connect_next_right_02.png \"Sample Tree Structure\")"
   ]
  },
  {
   "cell_type": "code",
   "execution_count": 1,
   "metadata": {
    "collapsed": true
   },
   "outputs": [],
   "source": [
    "class Node:\n",
    "    def __init__(self, val: int = 0, left: 'Node' = None, right: 'Node' = None, next: 'Node' = None):\n",
    "        self.val = val\n",
    "        self.left = left\n",
    "        self.right = right\n",
    "        self.next = next"
   ]
  },
  {
   "cell_type": "code",
   "execution_count": 2,
   "metadata": {
    "collapsed": true
   },
   "outputs": [],
   "source": [
    "def connect(root: 'Node') -> 'Node':\n",
    "    if not root:\n",
    "        return None\n",
    "    \n",
    "    def processChild(child, prev, leftmost):\n",
    "        if child:\n",
    "            if prev:\n",
    "                prev.next = child\n",
    "            else:\n",
    "                leftmost = child\n",
    "            \n",
    "            prev = child\n",
    "        \n",
    "        return prev, leftmost\n",
    "    \n",
    "    leftmost = root\n",
    "    while leftmost:\n",
    "        prev, cur = None, leftmost\n",
    "        \n",
    "        leftmost = None\n",
    "        \n",
    "        while cur:\n",
    "            prev, leftmost = processChild(cur.left, prev, leftmost)\n",
    "            prev, leftmost = processChild(cur.right, prev, leftmost)\n",
    "            \n",
    "            cur = cur.next\n",
    "        \n",
    "    \n",
    "    return root"
   ]
  },
  {
   "cell_type": "code",
   "execution_count": 11,
   "metadata": {
    "collapsed": true
   },
   "outputs": [],
   "source": [
    "# sample input tree\n",
    "head = Node(3)\n",
    "head.left = Node(9)\n",
    "head.right = Node(20)\n",
    "head.right.left = Node(15)\n",
    "head.right.right = Node(17)"
   ]
  },
  {
   "cell_type": "code",
   "execution_count": 12,
   "metadata": {
    "collapsed": true
   },
   "outputs": [],
   "source": [
    "head = connect(head)"
   ]
  },
  {
   "cell_type": "code",
   "execution_count": 13,
   "metadata": {},
   "outputs": [
    {
     "data": {
      "text/plain": [
       "'9->20'"
      ]
     },
     "execution_count": 13,
     "metadata": {},
     "output_type": "execute_result"
    }
   ],
   "source": [
    "\"->\".join([str(head.left.val), str(head.left.next.val)])"
   ]
  },
  {
   "cell_type": "code",
   "execution_count": 14,
   "metadata": {},
   "outputs": [
    {
     "data": {
      "text/plain": [
       "'15->17'"
      ]
     },
     "execution_count": 14,
     "metadata": {},
     "output_type": "execute_result"
    }
   ],
   "source": [
    "\"->\".join([str(head.right.left.val), str(head.right.left.next.val)])"
   ]
  },
  {
   "cell_type": "code",
   "execution_count": null,
   "metadata": {
    "collapsed": true
   },
   "outputs": [],
   "source": []
  }
 ],
 "metadata": {
  "kernelspec": {
   "display_name": "Python 3",
   "language": "python",
   "name": "python3"
  },
  "language_info": {
   "codemirror_mode": {
    "name": "ipython",
    "version": 3
   },
   "file_extension": ".py",
   "mimetype": "text/x-python",
   "name": "python",
   "nbconvert_exporter": "python",
   "pygments_lexer": "ipython3",
   "version": "3.6.10"
  }
 },
 "nbformat": 4,
 "nbformat_minor": 2
}
