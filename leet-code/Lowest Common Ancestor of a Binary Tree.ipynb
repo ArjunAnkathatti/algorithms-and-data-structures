{
 "cells": [
  {
   "cell_type": "markdown",
   "metadata": {},
   "source": [
    "### Lowest Common Ancestor of a Binary Tree\n",
    "Given a binary tree, find the lowest common ancestor (LCA) of two given nodes in the tree.\n",
    "<br>\n",
    "According to the definition of LCA on Wikipedia: “The lowest common ancestor is defined between two nodes p and q as the lowest node in T that has both p and q as descendants (where we allow a node to be a descendant of itself).”\n",
    "<br>\n",
    "<br>\n",
    "__Example 1:__\n",
    "<br>\n",
    "Input: root = [3,5,1,6,2,0,8,null,null,7,4], p = 5, q = 1<br>\n",
    "Output: 3<br>\n",
    "Explanation: The LCA of nodes 5 and 1 is 3.<br>\n",
    "<br>"
   ]
  },
  {
   "cell_type": "code",
   "execution_count": 6,
   "metadata": {},
   "outputs": [],
   "source": [
    "class TreeNode:\n",
    "    def __init__(self, x):\n",
    "        self.val = x\n",
    "        self.left = None\n",
    "        self.right = None"
   ]
  },
  {
   "cell_type": "markdown",
   "metadata": {},
   "source": [
    "### Solution 01 - Backtracking\n",
    "We recursively search for q and q. When we find either p or q we return True. We check if the given node is equal to p or q and set the flag mid to true or false. We also will have flags for searching left and right subtrees. <br>\n",
    "When we find either left or right we return True. <br>\n",
    "At any given node if any of the two flags out of the three mid, left and right is true then we have found our answer.\n",
    "The node at which sum of mid + left + right is more than two is our final answer."
   ]
  },
  {
   "cell_type": "code",
   "execution_count": 128,
   "metadata": {
    "collapsed": true
   },
   "outputs": [],
   "source": [
    "def lowestCommonAncestor(root: 'TreeNode', p: 'TreeNode', q: 'TreeNode') -> 'TreeNode':\n",
    "    ans = None\n",
    "    def recurse(cur_node) -> bool:\n",
    "        if not cur_node:\n",
    "            return False\n",
    "        \n",
    "        mid = cur_node == p or cur_node == q\n",
    "        left = recurse(cur_node.left)\n",
    "        right = recurse(cur_node.right)\n",
    "        \n",
    "        nonlocal ans\n",
    "        if mid + left + right >= 2:\n",
    "            ans = cur_node\n",
    "        \n",
    "        return left or right or mid\n",
    "    \n",
    "    recurse(root)\n",
    "    return ans"
   ]
  },
  {
   "cell_type": "code",
   "execution_count": 134,
   "metadata": {},
   "outputs": [],
   "source": [
    "head = TreeNode(3)\n",
    "hleft = TreeNode(5)\n",
    "hright = TreeNode(1)\n",
    "head.left = hleft\n",
    "head.right = hright\n",
    "\n",
    "hleft.left = TreeNode(6)\n",
    "h1right = TreeNode(2)\n",
    "hleft.right = h1right\n",
    "h1right.left = TreeNode(7)\n",
    "h1right.right = TreeNode(4)\n",
    "\n",
    "hright.left = TreeNode(0)\n",
    "hright.right = TreeNode(8)"
   ]
  },
  {
   "cell_type": "code",
   "execution_count": 130,
   "metadata": {},
   "outputs": [],
   "source": [
    "lca = lowestCommonAncestor(head, hleft.left, hright.right)"
   ]
  },
  {
   "cell_type": "code",
   "execution_count": 131,
   "metadata": {},
   "outputs": [
    {
     "name": "stdout",
     "output_type": "stream",
     "text": [
      "3\n"
     ]
    }
   ],
   "source": [
    "print(lca.val)"
   ]
  },
  {
   "cell_type": "markdown",
   "metadata": {},
   "source": [
    "### Solution 02 - Iteration \n",
    "Construct a dictionary of all the nodes and their parents. We just have to have this dictionary until we find both p and q.\n",
    "<br>\n",
    "Once we have this dictionary, starting from p we keep adding all the parents of the p including p into a ancestor set.\n",
    "<br>\n",
    "Now, for q, we check whether q or any of it's parents are in the ancestors are not. If so then that will become the LCA.\n",
    "<br>"
   ]
  },
  {
   "cell_type": "code",
   "execution_count": 133,
   "metadata": {
    "collapsed": true
   },
   "outputs": [],
   "source": [
    "from collections import deque\n",
    "def lowestCommonAncestor(root: 'TreeNode', p: 'TreeNode', q: 'TreeNode') -> 'TreeNode':\n",
    "    stack = deque()\n",
    "    \n",
    "    parents = {root: None}\n",
    "    \n",
    "    stack.append(root)\n",
    "    \n",
    "    # until we find both p and q \n",
    "    while p not in parents or q not in parents:\n",
    "        node = stack.pop()\n",
    "        \n",
    "        if node.left:\n",
    "            parents[node.left] = node\n",
    "            stack.append(node.left)\n",
    "        \n",
    "        if node.right:\n",
    "            parents[node.right] = node\n",
    "            stack.append(node.right)\n",
    "    \n",
    "    \n",
    "    # create a set of ancestors to store parents of p\n",
    "    ancestors = set()\n",
    "    while p:\n",
    "        ancestors.add(p)\n",
    "        # p will become it's parents so that we can move up the tree and add all the parents of p\n",
    "        p = parents[p]\n",
    "    \n",
    "    \n",
    "    # check if q or its's parents or in the p's ancesotrs or not\n",
    "    while q not in ancestors:\n",
    "        # when we break out of this loop \n",
    "        # the node pointed by the q will be our LCA\n",
    "        q = parents[q]\n",
    "    \n",
    "    \n",
    "    return q"
   ]
  },
  {
   "cell_type": "code",
   "execution_count": 137,
   "metadata": {
    "collapsed": true
   },
   "outputs": [],
   "source": [
    "lca = lowestCommonAncestor(head, hleft, h1right.right)"
   ]
  },
  {
   "cell_type": "code",
   "execution_count": 138,
   "metadata": {},
   "outputs": [
    {
     "data": {
      "text/plain": [
       "5"
      ]
     },
     "execution_count": 138,
     "metadata": {},
     "output_type": "execute_result"
    }
   ],
   "source": [
    "lca.val"
   ]
  },
  {
   "cell_type": "code",
   "execution_count": null,
   "metadata": {
    "collapsed": true
   },
   "outputs": [],
   "source": []
  }
 ],
 "metadata": {
  "kernelspec": {
   "display_name": "Python 3",
   "language": "python",
   "name": "python3"
  },
  "language_info": {
   "codemirror_mode": {
    "name": "ipython",
    "version": 3
   },
   "file_extension": ".py",
   "mimetype": "text/x-python",
   "name": "python",
   "nbconvert_exporter": "python",
   "pygments_lexer": "ipython3",
   "version": "3.6.10"
  }
 },
 "nbformat": 4,
 "nbformat_minor": 2
}
