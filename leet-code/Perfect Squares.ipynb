{
 "cells": [
  {
   "cell_type": "markdown",
   "metadata": {},
   "source": [
    "### Perfect Squares\n",
    "<pre>\n",
    "Given a positive integer n, find the least number of perfect square numbers (for example, 1, 4, 9, 16, ...) which sum to n.\n",
    "\n",
    "Example 1:\n",
    "\n",
    "Input: n = 12\n",
    "Output: 3 \n",
    "Explanation: 12 = 4 + 4 + 4.\n",
    "Example 2:\n",
    "\n",
    "Input: n = 13\n",
    "Output: 2\n",
    "Explanation: 13 = 4 + 9.\n",
    "</pre>"
   ]
  },
  {
   "cell_type": "markdown",
   "metadata": {},
   "source": [
    "### Solution 01 - BFS \n",
    "<pre>\n",
    "We are basically traversing n-ary tree. At each tree node, it can have many children nodes. \n",
    "Square numbers till the square root of a given number will be possible children nodes.\n",
    "</pre>"
   ]
  },
  {
   "cell_type": "code",
   "execution_count": 12,
   "metadata": {},
   "outputs": [],
   "source": [
    "from math import ceil\n",
    "def numSquares(n: int) -> int:\n",
    "    # all perfect squares less than n \n",
    "    squares = [i**2 for i in range(1, ceil(n**0.5))]\n",
    "    \n",
    "    # initialize q with the given number\n",
    "    q = {n}\n",
    "    level = 0\n",
    "    \n",
    "    while q:\n",
    "        level += 1\n",
    "        \n",
    "        # set is used here to eliminate the duplicates\n",
    "        next_queue = set()\n",
    "        for target in q:\n",
    "            for s in squares:\n",
    "                if target == s:\n",
    "                    return level\n",
    "                elif target < s:\n",
    "                    break\n",
    "                else:\n",
    "                    next_queue.add(target - s)\n",
    "        q = next_queue"
   ]
  },
  {
   "cell_type": "code",
   "execution_count": 13,
   "metadata": {},
   "outputs": [
    {
     "data": {
      "text/plain": [
       "4"
      ]
     },
     "execution_count": 13,
     "metadata": {},
     "output_type": "execute_result"
    }
   ],
   "source": [
    "numSquares(375)"
   ]
  },
  {
   "cell_type": "code",
   "execution_count": null,
   "metadata": {
    "collapsed": true
   },
   "outputs": [],
   "source": []
  }
 ],
 "metadata": {
  "kernelspec": {
   "display_name": "Python 3",
   "language": "python",
   "name": "python3"
  },
  "language_info": {
   "codemirror_mode": {
    "name": "ipython",
    "version": 3
   },
   "file_extension": ".py",
   "mimetype": "text/x-python",
   "name": "python",
   "nbconvert_exporter": "python",
   "pygments_lexer": "ipython3",
   "version": "3.6.10"
  }
 },
 "nbformat": 4,
 "nbformat_minor": 2
}
