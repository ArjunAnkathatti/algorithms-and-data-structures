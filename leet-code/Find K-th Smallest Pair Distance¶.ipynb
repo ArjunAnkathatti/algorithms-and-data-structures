{
 "cells": [
  {
   "cell_type": "markdown",
   "metadata": {},
   "source": [
    "### Find K-th Smallest Pair Distance\n",
    "<pre>\n",
    "Given an integer array, return the k-th smallest distance among all the pairs. The distance of a pair (A, B) is defined as the absolute difference between A and B.\n",
    "\n",
    "Example 1:\n",
    "Input:\n",
    "nums = [1,3,1]\n",
    "k = 1\n",
    "Output: 0 \n",
    "Explanation:\n",
    "Here are all the pairs:\n",
    "(1,3) -> 2\n",
    "(1,1) -> 0\n",
    "(3,1) -> 2\n",
    "Then the 1st smallest distance pair is (1,1), and its distance is 0.\n",
    "</pre>"
   ]
  },
  {
   "cell_type": "markdown",
   "metadata": {},
   "source": [
    "### Solution 01: Brute Force\n",
    "<pre>\n",
    "Step 01: Sort the given array\n",
    "Step 02: Find the maximum possible distance. This will be the difference between maximum value in the array to the minimum value in the array.\n",
    "Step03: Create a new array whose length is equal to maximum possible distance + 1. We will use this array to store the number of combinations that will yeild the distance.\n",
    "Step 04: Use two loops to generate all possible combinations and calculate the distance. Update the count of the distance in the previously create array.\n",
    "Step 05: Starting from 0 index, find the index whose count is greater than or equal to given k and return this index. Remember that index in the count array is nothing but the distance.\n",
    "</pre>"
   ]
  },
  {
   "cell_type": "code",
   "execution_count": 38,
   "metadata": {
    "collapsed": true
   },
   "outputs": [],
   "source": [
    "from typing import List\n",
    "def smallestDistancePair(nums: List[int], k: int) -> int:\n",
    "    # sort the array \n",
    "    nums.sort()\n",
    "    \n",
    "    min_val = nums[0]\n",
    "    max_val = nums[-1]\n",
    "    \n",
    "    # max distance\n",
    "    max_dist = max_val - min_val\n",
    "    \n",
    "    # create an array of lenght equal to \n",
    "    # index will be the possible distance\n",
    "    count = [0]*(max_dist + 1)\n",
    "    \n",
    "    \n",
    "    # loop to find out all possible combinations and theri distances\n",
    "    for i in range(len(nums)-1):\n",
    "        for j in range(i+1, len(nums)):\n",
    "            dist = nums[j] - nums[i]\n",
    "            count[dist] += 1\n",
    "    \n",
    "    # now find the index in the count whose count is greater than or equal to k\n",
    "    for i in range(len(count)):\n",
    "            if count[i] >= k:\n",
    "                return i"
   ]
  },
  {
   "cell_type": "code",
   "execution_count": 39,
   "metadata": {
    "collapsed": true
   },
   "outputs": [],
   "source": [
    "nums = [1,3,1]"
   ]
  },
  {
   "cell_type": "code",
   "execution_count": 40,
   "metadata": {},
   "outputs": [
    {
     "data": {
      "text/plain": [
       "0"
      ]
     },
     "execution_count": 40,
     "metadata": {},
     "output_type": "execute_result"
    }
   ],
   "source": [
    "smallestDistancePair(nums, 1)"
   ]
  },
  {
   "cell_type": "markdown",
   "metadata": {},
   "source": [
    "### Solution 02: Binary Search + Sliding Window\n",
    "<pre>\n",
    "Step 01: Sort the given array.\n",
    "Step 02: Find the lower and upper bound of the possible distances. These bounds will be used for the binary search.\n",
    "         The distance will be in the range [0, w] where w = max_val - min_val in the given array.\n",
    "Step 03: Now use the binary search to find a mid such that, the number of combinations that will give the length are greater or equal to mid.\n",
    "Step 04: Use sliding window to calculate the number of combinations that will give a distance greater or equal to given number.\n",
    "Step 04: Return the left/low and that will be our answer.\n",
    "</pre>"
   ]
  },
  {
   "cell_type": "code",
   "execution_count": 53,
   "metadata": {
    "collapsed": true
   },
   "outputs": [],
   "source": [
    "from typing import List\n",
    "def smallestDistancePair(nums: List[int], k: int) -> int:\n",
    "    # sort the given array\n",
    "    nums.sort()\n",
    "    \n",
    "    min_val = nums[0]\n",
    "    max_val = nums[-1]\n",
    "    \n",
    "    max_dist = max_val - min_val\n",
    "    \n",
    "    # initialize lower and upper bounds for binary search\n",
    "    low = 0\n",
    "    high = max_dist\n",
    "    \n",
    "    # goal is to find a distance such that the number of combinations that will yeild that distance \n",
    "    # are greater than or equal to k\n",
    "    while low < high:\n",
    "        mid = (low + high) // 2\n",
    "        \n",
    "        number_of_pairs = 0\n",
    "        j = 0\n",
    "        # calculate the number of pairs that will yeild mid as distance \n",
    "        for i in range(len(nums)):\n",
    "            while j < len(nums) and nums[j] - nums[i] <= mid:\n",
    "                # increase the window\n",
    "                j += 1\n",
    "            number_of_pairs += j - i -1\n",
    "        \n",
    "        if number_of_pairs < k:\n",
    "            # increase the distance\n",
    "            low = mid + 1\n",
    "        else:\n",
    "            # decrease the distance\n",
    "            high = mid\n",
    "    \n",
    "    return low"
   ]
  },
  {
   "cell_type": "code",
   "execution_count": 54,
   "metadata": {},
   "outputs": [
    {
     "data": {
      "text/plain": [
       "4"
      ]
     },
     "execution_count": 54,
     "metadata": {},
     "output_type": "execute_result"
    }
   ],
   "source": [
    "nums = [1,3,5]\n",
    "smallestDistancePair(nums, 3)"
   ]
  },
  {
   "cell_type": "code",
   "execution_count": null,
   "metadata": {
    "collapsed": true
   },
   "outputs": [],
   "source": []
  }
 ],
 "metadata": {
  "kernelspec": {
   "display_name": "Python 3",
   "language": "python",
   "name": "python3"
  },
  "language_info": {
   "codemirror_mode": {
    "name": "ipython",
    "version": 3
   },
   "file_extension": ".py",
   "mimetype": "text/x-python",
   "name": "python",
   "nbconvert_exporter": "python",
   "pygments_lexer": "ipython3",
   "version": "3.6.10"
  }
 },
 "nbformat": 4,
 "nbformat_minor": 2
}
