{
 "cells": [
  {
   "cell_type": "markdown",
   "metadata": {},
   "source": [
    "### Palindrome Pairs\n",
    "<pre>\n",
    "Given a list of unique words, find all pairs of distinct indices (i, j) in the given list, so that the concatenation of the two words, i.e. words[i] + words[j] is a palindrome.\n",
    "\n",
    "Example 1:\n",
    "\n",
    "Input: [\"abcd\",\"dcba\",\"lls\",\"s\",\"sssll\"]\n",
    "Output: [[0,1],[1,0],[3,2],[2,4]] \n",
    "Explanation: The palindromes are [\"dcbaabcd\",\"abcddcba\",\"slls\",\"llssssll\"]\n",
    "Example 2:\n",
    "\n",
    "Input: [\"bat\",\"tab\",\"cat\"]\n",
    "Output: [[0,1],[1,0]] \n",
    "Explanation: The palindromes are [\"battab\",\"tabbat\"]\n",
    "</pre>"
   ]
  },
  {
   "cell_type": "markdown",
   "metadata": {},
   "source": [
    "### Solution 01 - Using HashMap or HashTable\n",
    "We store all the words in the hasmap. The map will have word as key and it's index as value"
   ]
  },
  {
   "cell_type": "code",
   "execution_count": 106,
   "metadata": {},
   "outputs": [],
   "source": [
    "from typing import List\n",
    "def getAllValidSuffixes(word: str) -> List[str]:\n",
    "    # a valid suffix is one where it's prefix is a palindrome\n",
    "    # find all the palindromes starting from 0index till the last but one index\n",
    "    valid_suffixes = []\n",
    "    for i in range(1, len(word)):\n",
    "        prefix = word[:i]\n",
    "        if prefix == prefix[::-1]:\n",
    "            valid_suffixes.append(word[i:])\n",
    "    return valid_suffixes\n",
    "\n",
    "def getAllValidPrefixes(word: str) -> List[str]:\n",
    "    # a valid prefix is one where it's suffix is a palindrome\n",
    "    # find all the suffixes which will be palindroms\n",
    "    valid_prefixes = []\n",
    "    for i in range(len(word)-1, 0, -1):\n",
    "        suffix = word[i:]\n",
    "        if suffix == suffix[::-1]:\n",
    "            valid_prefixes.append(word[:i])\n",
    "    return valid_prefixes\n",
    "\n",
    "def palindromePairs(words: List[str]) -> List[List[int]]:\n",
    "    \n",
    "    # add all the words and their index to the hashmap\n",
    "    hm = {}\n",
    "    for idx, word in enumerate(words):\n",
    "        hm[word] = idx\n",
    "    \n",
    "    \n",
    "    ans = []\n",
    "    # for each word check if there are palindromic pairs\n",
    "    for idx, word in enumerate(words):\n",
    "        # Case 01: if reverese of the word is present \n",
    "        reverse_word = word[::-1]\n",
    "        # also check if the reversed word is not the same as the current word\n",
    "        if reverse_word in hm and hm[reverse_word] != idx:\n",
    "            ans.append([idx, hm[reverse_word]])\n",
    "        \n",
    "        # Case 02: if the word is the second word which is longer\n",
    "        for suffix in getAllValidSuffixes(word):\n",
    "            reverse_suffix = suffix[::-1]\n",
    "            if reverse_suffix in hm:\n",
    "                ans.append([hm[reverse_suffix], idx])\n",
    "        \n",
    "        # Case 03: if the word is the first word which is shorter\n",
    "        for prefix in getAllValidPrefixes(word):\n",
    "            reverse_prefix = prefix[::-1]\n",
    "            if reverse_prefix in hm:\n",
    "                ans.append([idx, hm[reverse_prefix]])\n",
    "    \n",
    "    return ans"
   ]
  },
  {
   "cell_type": "code",
   "execution_count": 107,
   "metadata": {},
   "outputs": [
    {
     "name": "stdout",
     "output_type": "stream",
     "text": [
      "[[0, 1], [1, 0], [3, 2], [2, 4]]\n"
     ]
    }
   ],
   "source": [
    "words = [\"abcd\",\"dcba\",\"lls\",\"s\",\"sssll\"]\n",
    "ans = palindromePairs(words)\n",
    "print(ans)"
   ]
  },
  {
   "cell_type": "code",
   "execution_count": null,
   "metadata": {
    "collapsed": true
   },
   "outputs": [],
   "source": []
  }
 ],
 "metadata": {
  "kernelspec": {
   "display_name": "Python 3",
   "language": "python",
   "name": "python3"
  },
  "language_info": {
   "codemirror_mode": {
    "name": "ipython",
    "version": 3
   },
   "file_extension": ".py",
   "mimetype": "text/x-python",
   "name": "python",
   "nbconvert_exporter": "python",
   "pygments_lexer": "ipython3",
   "version": "3.6.10"
  }
 },
 "nbformat": 4,
 "nbformat_minor": 2
}
