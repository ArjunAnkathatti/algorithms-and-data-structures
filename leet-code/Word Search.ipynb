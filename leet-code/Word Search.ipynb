{
 "cells": [
  {
   "cell_type": "markdown",
   "metadata": {},
   "source": [
    "### Word Search\n",
    "Given a 2D board and a word, find if the word exists in the grid.\n",
    "<br>\n",
    "<br>\n",
    "The word can be constructed from letters of sequentially adjacent cell, where \"adjacent\" cells are those horizontally or vertically neighboring. The same letter cell may not be used more than once.\n",
    "<br><br>\n",
    "__Example:__\n",
    "<br>\n",
    "board =\n",
    "<br>\n",
    "[\n",
    "<br>\n",
    "  ['A','B','C','E'],<br>\n",
    "  ['S','F','C','S'],<br>\n",
    "  ['A','D','E','E']<br>\n",
    "]<br>\n",
    "<br>\n",
    "Given word = \"ABCCED\", return true.\n",
    "<br>\n",
    "Given word = \"SEE\", return true.\n",
    "<br>\n",
    "Given word = \"ABCB\", return false.\n",
    "<br>"
   ]
  },
  {
   "cell_type": "code",
   "execution_count": 22,
   "metadata": {},
   "outputs": [],
   "source": [
    "def exist(board, word: str) -> bool:\n",
    "    def backtrack(row, col, suffix):\n",
    "        # when suffix is empty we have found the word\n",
    "        if len(suffix) == 0:\n",
    "            return True\n",
    "        \n",
    "        # if a cell is invalid or letter in board doesn't match the first letter in the suffix\n",
    "        if row < 0 or row >= len(board) or col < 0 or col >= len(board[row]) or board[row][col] != suffix[0]:\n",
    "            return False\n",
    "        \n",
    "        #mark the current cell as visited by updating it to some value\n",
    "        board[row][col] = \"#\"\n",
    "        res = False\n",
    "        directions = [(1,0),(-1, 0),(0,1),(0,-1)]\n",
    "        for dr,dc in directions:\n",
    "            res = backtrack(row+dr, col+dc, suffix[1:])\n",
    "            if res:\n",
    "                break\n",
    "        \n",
    "        # revert the marked cell back to it's initial value\n",
    "        board[row][col] = suffix[0]\n",
    "        return res\n",
    "    \n",
    "    \n",
    "    # call the backtracking function for very cell in the borad\n",
    "    for i in range(len(board)):\n",
    "        for j in range(len(board[i])):\n",
    "            if backtrack(i, j, word):\n",
    "                return True\n",
    "    \n",
    "    return False"
   ]
  },
  {
   "cell_type": "code",
   "execution_count": 23,
   "metadata": {},
   "outputs": [],
   "source": [
    "board = [['A','B','C','E'],['S','F','C','S'],['A','D','E','E']]"
   ]
  },
  {
   "cell_type": "code",
   "execution_count": null,
   "metadata": {
    "collapsed": true
   },
   "outputs": [],
   "source": [
    "Given word = \"ABCCED\", return true.\n",
    "Given word = \"SEE\", return true.\n",
    "Given word = \"ABCB\", return false."
   ]
  },
  {
   "cell_type": "code",
   "execution_count": 24,
   "metadata": {},
   "outputs": [
    {
     "data": {
      "text/plain": [
       "True"
      ]
     },
     "execution_count": 24,
     "metadata": {},
     "output_type": "execute_result"
    }
   ],
   "source": [
    "exist(board, \"ABCCED\")"
   ]
  },
  {
   "cell_type": "code",
   "execution_count": 25,
   "metadata": {},
   "outputs": [
    {
     "data": {
      "text/plain": [
       "True"
      ]
     },
     "execution_count": 25,
     "metadata": {},
     "output_type": "execute_result"
    }
   ],
   "source": [
    "exist(board, \"SEE\")"
   ]
  },
  {
   "cell_type": "code",
   "execution_count": 26,
   "metadata": {},
   "outputs": [
    {
     "data": {
      "text/plain": [
       "False"
      ]
     },
     "execution_count": 26,
     "metadata": {},
     "output_type": "execute_result"
    }
   ],
   "source": [
    "exist(board, \"ABCB\")"
   ]
  },
  {
   "cell_type": "code",
   "execution_count": null,
   "metadata": {
    "collapsed": true
   },
   "outputs": [],
   "source": []
  }
 ],
 "metadata": {
  "kernelspec": {
   "display_name": "Python 3",
   "language": "python",
   "name": "python3"
  },
  "language_info": {
   "codemirror_mode": {
    "name": "ipython",
    "version": 3
   },
   "file_extension": ".py",
   "mimetype": "text/x-python",
   "name": "python",
   "nbconvert_exporter": "python",
   "pygments_lexer": "ipython3",
   "version": "3.6.10"
  }
 },
 "nbformat": 4,
 "nbformat_minor": 2
}
