{
 "cells": [
  {
   "cell_type": "markdown",
   "metadata": {},
   "source": [
    "### Intersection of Two Arrays\n",
    "<pre>\n",
    "Given two arrays, write a function to compute their intersection.\n",
    "\n",
    "Example 1:\n",
    "\n",
    "Input: nums1 = [1,2,2,1], nums2 = [2,2]\n",
    "Output: [2]\n",
    "Example 2:\n",
    "\n",
    "Input: nums1 = [4,9,5], nums2 = [9,4,9,8,4]\n",
    "Output: [9,4]\n",
    "Note:\n",
    "\n",
    "Each element in the result must be unique.\n",
    "The result can be in any order.\n",
    "</pre>"
   ]
  },
  {
   "cell_type": "markdown",
   "metadata": {},
   "source": [
    "### Solution 01 - Using HashSet\n",
    "<pre>\n",
    "-> Use a HashSet to store all the values of one of the list. \n",
    "-> Traverse through other list and check if the number is in the set or not. \n",
    "-> If number exists, add the number to the result set.\n",
    "-> Finally, convert the result set into list and return this list.\n",
    "</pre>"
   ]
  },
  {
   "cell_type": "code",
   "execution_count": 12,
   "metadata": {
    "collapsed": true
   },
   "outputs": [],
   "source": [
    "from typing import List\n",
    "def intersection(nums1: List[int], nums2: List[int]) -> List[int]:\n",
    "    seen = set(nums1)\n",
    "    res = set()\n",
    "    for num in nums2:\n",
    "        if num in seen:\n",
    "            res.add(num)\n",
    "    \n",
    "    return list(res)"
   ]
  },
  {
   "cell_type": "code",
   "execution_count": 13,
   "metadata": {},
   "outputs": [
    {
     "name": "stdout",
     "output_type": "stream",
     "text": [
      "[9, 4]\n"
     ]
    }
   ],
   "source": [
    "nums1 = [4, 5, 9]\n",
    "nums2 = [4, 4, 8, 9, 9]\n",
    "res = intersection(nums1, nums2)\n",
    "print(res)"
   ]
  },
  {
   "cell_type": "markdown",
   "metadata": {},
   "source": [
    "### Solution 02 - When arrays are sorted\n",
    "<pre>\n",
    "-> If given arrays are sorted then, we don't actually need HashSet.\n",
    "-> We can solve this by simple list traversing technique.\n",
    "-> This solution will take care of duplicate values and empty lists as well.\n",
    "\n",
    "-> Algorithm\n",
    "-> Start from the leftmost end of the both the list and traverse all until you reach the end of the one of list first.\n",
    "-> At each step, compare elements at current position in both the lists, if they are same then add it to the result list. After adding, increment the pointers of both the list to point to the next unique number.\n",
    "-> If the numbers at current position are not equal, then, increment the pointer of the number that is less to the next unique number.\n",
    "</pre>"
   ]
  },
  {
   "cell_type": "code",
   "execution_count": 14,
   "metadata": {
    "collapsed": true
   },
   "outputs": [],
   "source": [
    "def intersection(nums1: List[int], nums2: List[int]) -> List[int]:\n",
    "    # we can use the HashSet approach if the arrays are not sorted\n",
    "    # if arrays are sorted then we will just parse the two arrays \n",
    "    # in here given arrays may not be sorted so sort the given arrays\n",
    "\n",
    "    # sorting will be O(nlog(n))\n",
    "    nums1.sort()\n",
    "    nums2.sort()\n",
    "\n",
    "    l1 = 0\n",
    "    l2 = 0\n",
    "    L1 = len(nums1)\n",
    "    L2 = len(nums2)\n",
    "\n",
    "    intersection = []\n",
    "\n",
    "    # loop till you reach the end of \n",
    "    # the one of these lists or both\n",
    "    while l1 < L1 and l2 < L2:\n",
    "        l1_num = nums1[l1]\n",
    "        l2_num = nums2[l2]\n",
    "\n",
    "        if l1_num == l2_num:\n",
    "            # add the element to the result\n",
    "            intersection.append(l1_num)\n",
    "\n",
    "            # move the pointer l1 to the next unique number\n",
    "            # we need these while loops to handle the duplicate values\n",
    "            while l1 < L1 and nums1[l1] == l1_num:\n",
    "                l1 += 1\n",
    "\n",
    "            # move the pointers l2 to the next unique number\n",
    "            # we need these while loops to handle the duplicate values\n",
    "            while l2 < L2 and nums2[l2] == l2_num:\n",
    "                l2 += 1\n",
    "        elif l1_num < l2_num:\n",
    "            # we need these while loops to handle the duplicate values\n",
    "            # increment the l1 till we reach the next higher number\n",
    "            while l1 < L1 and nums1[l1] == l1_num:\n",
    "                l1 += 1\n",
    "        else:\n",
    "            # we need these while loops to handle the duplicate values\n",
    "            # increment the l2 till we reach the next higher number\n",
    "            while l2 < L2 and nums2[l2] == l2_num:\n",
    "                l2 += 1\n",
    "\n",
    "    return intersection"
   ]
  },
  {
   "cell_type": "code",
   "execution_count": 15,
   "metadata": {},
   "outputs": [
    {
     "name": "stdout",
     "output_type": "stream",
     "text": [
      "[4, 9]\n"
     ]
    }
   ],
   "source": [
    "nums1 = [4, 5, 9]\n",
    "nums2 = [4, 4, 8, 9, 9]\n",
    "res = intersection(nums1, nums2)\n",
    "print(res)"
   ]
  },
  {
   "cell_type": "code",
   "execution_count": null,
   "metadata": {
    "collapsed": true
   },
   "outputs": [],
   "source": []
  }
 ],
 "metadata": {
  "kernelspec": {
   "display_name": "Python 3",
   "language": "python",
   "name": "python3"
  },
  "language_info": {
   "codemirror_mode": {
    "name": "ipython",
    "version": 3
   },
   "file_extension": ".py",
   "mimetype": "text/x-python",
   "name": "python",
   "nbconvert_exporter": "python",
   "pygments_lexer": "ipython3",
   "version": "3.6.10"
  }
 },
 "nbformat": 4,
 "nbformat_minor": 2
}
