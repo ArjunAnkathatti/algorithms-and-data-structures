{
 "cells": [
  {
   "cell_type": "markdown",
   "metadata": {},
   "source": [
    "### Cut Off Trees for Golf Event\n",
    "You are asked to cut off trees in a forest for a golf event. The forest is represented as a non-negative 2D map, in this map:\n",
    "<br><br>\n",
    "0 represents the obstacle can't be reached.<br>\n",
    "1 represents the ground can be walked through.<br>\n",
    "The place with number bigger than 1 represents a tree can be walked through, and this positive number represents the tree's height.\n",
    "<br><br>\n",
    "In one step you can walk in any of the four directions top, bottom, left and right also when standing in a point which is a tree you can decide whether or not to cut off the tree.\n",
    "<br><br>\n",
    "You are asked to cut off all the trees in this forest in the order of tree's height - always cut off the tree with lowest height first. And after cutting, the original place has the tree will become a grass (value 1).\n",
    "<br><br>\n",
    "You will start from the point (0, 0) and you should output the minimum steps you need to walk to cut off all the trees. If you can't cut off all the trees, output -1 in that situation.\n",
    "<br><br>\n",
    "You are guaranteed that no two trees have the same height and there is at least one tree needs to be cut off.\n",
    "<br>\n",
    "<br>\n",
    "__Example 1:__\n",
    "<br>\n",
    "Input: <br>\n",
    "[<br>\n",
    " [1,2,3],<br>\n",
    " [0,0,4],<br>\n",
    " [7,6,5]<br>\n",
    "]<br>\n",
    "Output: 6<br>"
   ]
  },
  {
   "cell_type": "code",
   "execution_count": 46,
   "metadata": {},
   "outputs": [],
   "source": [
    "from typing import List\n",
    "from collections import deque\n",
    "\n",
    "def cutOffTree(forest: List[List[int]]) -> int:\n",
    "    R = len(forest)\n",
    "    C = len(forest[0])\n",
    "    def dist(sr, sc, tr, tc) -> int:\n",
    "        seen = {(sr, sc)}\n",
    "        q = deque([(sr, sc, 0)])\n",
    "        \n",
    "        while q:\n",
    "            r, c, d = q.popleft()\n",
    "            \n",
    "            if r == tr and c == tc:\n",
    "                return d\n",
    "            \n",
    "            for nr, nc in ((r+1, c),(r-1, c),(r, c+1),(r, c-1)):\n",
    "                if 0 <= nr < R and 0 <= nc < C and forest[nr][nc] != 0 and (nr, nc) not in seen:\n",
    "                    seen.add((nr, nc))\n",
    "                    q.append((nr, nc, d+1))\n",
    "        \n",
    "        return -1\n",
    "    \n",
    "    # filter only the cells which has trees in the ascending order since we have to cut the smaller trees first\n",
    "    trees = sorted((v, r, c) for r, row in enumerate(forest) for c, v in enumerate(row) if v > 1)\n",
    "    print(trees)\n",
    "    \n",
    "    ans = 0    \n",
    "    sr = sc = 0\n",
    "    \n",
    "    for _, tr, tc in trees:\n",
    "        d = dist(sr, sc, tr, tc)\n",
    "        \n",
    "        if d < 0:\n",
    "            return -1\n",
    "        \n",
    "        ans += d\n",
    "        \n",
    "        sr, sc = tr, tc\n",
    "    \n",
    "    return ans"
   ]
  },
  {
   "cell_type": "code",
   "execution_count": 47,
   "metadata": {
    "collapsed": true
   },
   "outputs": [],
   "source": [
    "forest = [[1,2,3],[0,0,4],[7,6,5]]"
   ]
  },
  {
   "cell_type": "code",
   "execution_count": 48,
   "metadata": {},
   "outputs": [
    {
     "name": "stdout",
     "output_type": "stream",
     "text": [
      "[(2, 0, 1), (3, 0, 2), (4, 1, 2), (5, 2, 2), (6, 2, 1), (7, 2, 0)]\n"
     ]
    },
    {
     "data": {
      "text/plain": [
       "6"
      ]
     },
     "execution_count": 48,
     "metadata": {},
     "output_type": "execute_result"
    }
   ],
   "source": [
    "cutOffTree(forest)"
   ]
  },
  {
   "cell_type": "code",
   "execution_count": null,
   "metadata": {
    "collapsed": true
   },
   "outputs": [],
   "source": []
  }
 ],
 "metadata": {
  "kernelspec": {
   "display_name": "Python 3",
   "language": "python",
   "name": "python3"
  },
  "language_info": {
   "codemirror_mode": {
    "name": "ipython",
    "version": 3
   },
   "file_extension": ".py",
   "mimetype": "text/x-python",
   "name": "python",
   "nbconvert_exporter": "python",
   "pygments_lexer": "ipython3",
   "version": "3.6.10"
  }
 },
 "nbformat": 4,
 "nbformat_minor": 2
}
