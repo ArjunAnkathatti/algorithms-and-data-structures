{
 "cells": [
  {
   "cell_type": "markdown",
   "metadata": {},
   "source": [
    "### Coin Change\n",
    "You are given coins of different denominations and a total amount of money amount. Write a function to compute the fewest number of coins that you need to make up that amount. If that amount of money cannot be made up by any combination of the coins, return -1.\n",
    "\n",
    "__Example 1:__\n",
    "<br>\n",
    "Input: coins = [1, 2, 5], amount = 11\n",
    "<br>\n",
    "Output: 3 \n",
    "<br>\n",
    "Explanation: 11 = 5 + 5 + 1\n",
    "<br><br>\n",
    "\n",
    "Example 2:\n",
    "<br>\n",
    "Input: coins = [2], amount = 3\n",
    "<br>\n",
    "Output: -1\n",
    "<br>"
   ]
  },
  {
   "cell_type": "markdown",
   "metadata": {},
   "source": [
    "### Solution 01 - Backtracking without memoization\n",
    "Given a set of coins, for each coin calculate the number of coins it takes if we were to use the coin.\n",
    "F(A) = F(A-Ci) + 1\n",
    "\n",
    "F(A) = number of coins to make the amount A\n",
    "F(A-Ci) = number of coins to make the amount A-Ci where Ci is a coin in the given set of coins\n",
    "\n",
    "Take the minCost amoung all the coins and return it.\n",
    "\n",
    "![](Coin_Change.png)"
   ]
  },
  {
   "cell_type": "code",
   "execution_count": 2,
   "metadata": {},
   "outputs": [],
   "source": [
    "def noOfCoins(coins, amount):\n",
    "    if amount == 0:\n",
    "        return 0\n",
    "    \n",
    "    minCost = 2**31 - 1\n",
    "    for c in coins:\n",
    "        if amount - c >= 0:\n",
    "            res = noOfCoins(coins, amount - c)\n",
    "            if res != -1:\n",
    "                minCost = min(minCost, res + 1)\n",
    "    \n",
    "    return -1 if minCost == 2**31 -1 else minCost"
   ]
  },
  {
   "cell_type": "code",
   "execution_count": 11,
   "metadata": {},
   "outputs": [
    {
     "data": {
      "text/plain": [
       "2"
      ]
     },
     "execution_count": 11,
     "metadata": {},
     "output_type": "execute_result"
    }
   ],
   "source": [
    "coins = [1,2,5]\n",
    "noOfCoins(coins, 10)"
   ]
  },
  {
   "cell_type": "markdown",
   "metadata": {},
   "source": [
    "### Solution 02: Backtracking using Memoisation \n",
    "Rememeber the output of the subproblem that is already seen so far."
   ]
  },
  {
   "cell_type": "code",
   "execution_count": 16,
   "metadata": {
    "collapsed": true
   },
   "outputs": [],
   "source": [
    "def helper(memo, coins, amount):\n",
    "    # check if we have already solved the problem \n",
    "    if memo[amount] == amount:\n",
    "        return memo[amount]\n",
    "    \n",
    "    minCost = 2**31 -1\n",
    "    for c in coins:\n",
    "        if amount - c >= 0:\n",
    "            res = helper(memo, coins, amount - c)\n",
    "            if res != -1:\n",
    "                minCost = min(minCost, res + 1)\n",
    "    \n",
    "    if minCost == 2**31 -1:\n",
    "        memo[amount] = -1\n",
    "    else:\n",
    "        memo[amount] = minCost\n",
    "        \n",
    "    return memo[amount]\n",
    "    \n",
    "def noOfCoins(coins, amount):\n",
    "    memo = []\n",
    "    # initialize the memo for all the amounts upto the given amount to some number \n",
    "    # greater than the given amount\n",
    "    for i in range(amount+1):\n",
    "        memo.append(amount+1)\n",
    "    \n",
    "    # set the base case, i.e number of coins needed to make the amount = 0 is 0\n",
    "    memo[0] = 0\n",
    "    print(memo)\n",
    "    res = helper(memo, coins, amount)\n",
    "    print(memo)\n",
    "    return res"
   ]
  },
  {
   "cell_type": "code",
   "execution_count": 21,
   "metadata": {},
   "outputs": [
    {
     "name": "stdout",
     "output_type": "stream",
     "text": [
      "[0, 12, 12, 12, 12, 12, 12, 12, 12, 12, 12, 12]\n",
      "[0, 1, 1, 2, 2, 1, 2, 2, 3, 3, 2, 3]\n"
     ]
    },
    {
     "data": {
      "text/plain": [
       "3"
      ]
     },
     "execution_count": 21,
     "metadata": {},
     "output_type": "execute_result"
    }
   ],
   "source": [
    "coins = [1,2,5]\n",
    "noOfCoins(coins, 11)"
   ]
  },
  {
   "cell_type": "markdown",
   "metadata": {},
   "source": [
    "### Solution 03 - Bottom Up Approach\n",
    "Even with memoisation i.e(top-down) approach the algroithm will take lot of time becuase of too many recursivel calls.\n",
    "We can use the bottom up approach here to solve this problem in linear time.\n",
    "F(A) = F(A-1) + 1\n",
    "Will start from amount 0 and go all the way up to the given amount."
   ]
  },
  {
   "cell_type": "code",
   "execution_count": 28,
   "metadata": {
    "collapsed": true
   },
   "outputs": [],
   "source": [
    "def noOfCoins(coins, amount):\n",
    "    memo = []\n",
    "    # initialize the memo for all the amounts upto the given amount to some number \n",
    "    # greater than the given amount\n",
    "    for i in range(amount+1):\n",
    "        memo.append(amount+1)\n",
    "    \n",
    "    # set the base case, i.e number of coins needed to make the amount = 0 is 0\n",
    "    memo[0] = 0\n",
    "    print(memo)\n",
    "    \n",
    "    for a in range(1, len(memo)):\n",
    "        minCost = 2**31 -1\n",
    "        for c in coins:\n",
    "            # check if the current coin is less than or equal to the amount\n",
    "            # and also we have solution for the previous problem i.e memo[a-c]\n",
    "            if c <= a and memo[a-c] <= amount:\n",
    "                minCost = min(minCost, memo[a-c] + 1)\n",
    "        memo[a] = minCost\n",
    "                \n",
    "    print(memo)\n",
    "    return -1 if memo[amount] == 2**31-1 else memo[amount]"
   ]
  },
  {
   "cell_type": "code",
   "execution_count": 29,
   "metadata": {},
   "outputs": [
    {
     "name": "stdout",
     "output_type": "stream",
     "text": [
      "[0, 101, 101, 101, 101, 101, 101, 101, 101, 101, 101, 101, 101, 101, 101, 101, 101, 101, 101, 101, 101, 101, 101, 101, 101, 101, 101, 101, 101, 101, 101, 101, 101, 101, 101, 101, 101, 101, 101, 101, 101, 101, 101, 101, 101, 101, 101, 101, 101, 101, 101, 101, 101, 101, 101, 101, 101, 101, 101, 101, 101, 101, 101, 101, 101, 101, 101, 101, 101, 101, 101, 101, 101, 101, 101, 101, 101, 101, 101, 101, 101, 101, 101, 101, 101, 101, 101, 101, 101, 101, 101, 101, 101, 101, 101, 101, 101, 101, 101, 101, 101]\n",
      "[0, 1, 1, 2, 2, 1, 2, 2, 3, 3, 2, 3, 3, 4, 4, 3, 4, 4, 5, 5, 4, 5, 5, 6, 6, 5, 6, 6, 7, 7, 6, 7, 7, 8, 8, 7, 8, 8, 9, 9, 8, 9, 9, 10, 10, 9, 10, 10, 11, 11, 10, 11, 11, 12, 12, 11, 12, 12, 13, 13, 12, 13, 13, 14, 14, 13, 14, 14, 15, 15, 14, 15, 15, 16, 16, 15, 16, 16, 17, 17, 16, 17, 17, 18, 18, 17, 18, 18, 19, 19, 18, 19, 19, 20, 20, 19, 20, 20, 21, 21, 20]\n"
     ]
    },
    {
     "data": {
      "text/plain": [
       "20"
      ]
     },
     "execution_count": 29,
     "metadata": {},
     "output_type": "execute_result"
    }
   ],
   "source": [
    "coins = [1,2,5]\n",
    "noOfCoins(coins, 100)"
   ]
  }
 ],
 "metadata": {
  "kernelspec": {
   "display_name": "Python 3",
   "language": "python",
   "name": "python3"
  },
  "language_info": {
   "codemirror_mode": {
    "name": "ipython",
    "version": 3
   },
   "file_extension": ".py",
   "mimetype": "text/x-python",
   "name": "python",
   "nbconvert_exporter": "python",
   "pygments_lexer": "ipython3",
   "version": "3.6.10"
  }
 },
 "nbformat": 4,
 "nbformat_minor": 2
}
