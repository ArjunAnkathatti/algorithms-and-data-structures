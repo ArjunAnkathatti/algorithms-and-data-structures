{
 "cells": [
  {
   "cell_type": "markdown",
   "metadata": {},
   "source": [
    "### Minimum Window Substring\n",
    "Given a string S and a string T, find the minimum window in S which will contain all the characters in T in complexity O(n).\n",
    "<br>\n",
    "<br>\n",
    "__Example:__\n",
    "<br>\n",
    "<br>\n",
    "Input: S = \"ADOBECODEBANC\", T = \"ABC\"\n",
    "<br>\n",
    "Output: \"BANC\"\n",
    "<br>"
   ]
  },
  {
   "cell_type": "code",
   "execution_count": 29,
   "metadata": {
    "collapsed": true
   },
   "outputs": [],
   "source": [
    "from collections import Counter\n",
    "def minWindow(s: str, t: str) -> str:\n",
    "    # dict to store the given target string\n",
    "    # this will store the letter and it's frequency\n",
    "    target = Counter(t)\n",
    "    \n",
    "    # total number of unique characters in the target \n",
    "    required = len(target)\n",
    "    \n",
    "    # dictionary to store letter and their frequency in the current window\n",
    "    # that is sliding window \n",
    "    window = dict()\n",
    "    \n",
    "    # if a charcter and its frequency is same in both target as well as window then\n",
    "    # this will keep count of how many characters we have matched so far\n",
    "    formed = 0\n",
    "    \n",
    "    # answer will be a tuple with length of the window, start index and end index\n",
    "    ans = float(\"-inf\"), None, None\n",
    "    \n",
    "    # two pointers left and right both starting at 0\n",
    "    l = r = 0\n",
    "    while r < len(s):\n",
    "        cl = s[r]\n",
    "        \n",
    "        window[cl] = window.get(cl, 0) + 1\n",
    "        \n",
    "        if cl in target and target[cl] == window[cl]:\n",
    "            formed += 1\n",
    "        \n",
    "        \n",
    "        while l <= r and formed == required:\n",
    "            lc = s[l]\n",
    "            \n",
    "            ans = (r - l + 1, l, r)\n",
    "            \n",
    "            window[lc] -= 1\n",
    "            \n",
    "            if lc in target and window[lc] < target[lc]:\n",
    "                formed -= 1\n",
    "            \n",
    "            l += 1\n",
    "        \n",
    "        \n",
    "        r += 1\n",
    "        \n",
    "    \n",
    "    return s[ans[1]:ans[2]+1]"
   ]
  },
  {
   "cell_type": "code",
   "execution_count": 28,
   "metadata": {},
   "outputs": [
    {
     "data": {
      "text/plain": [
       "'BANC'"
      ]
     },
     "execution_count": 28,
     "metadata": {},
     "output_type": "execute_result"
    }
   ],
   "source": [
    "minWindow(\"ADOBECODEBANC\", \"ABC\")"
   ]
  },
  {
   "cell_type": "code",
   "execution_count": null,
   "metadata": {
    "collapsed": true
   },
   "outputs": [],
   "source": []
  }
 ],
 "metadata": {
  "kernelspec": {
   "display_name": "Python 3",
   "language": "python",
   "name": "python3"
  },
  "language_info": {
   "codemirror_mode": {
    "name": "ipython",
    "version": 3
   },
   "file_extension": ".py",
   "mimetype": "text/x-python",
   "name": "python",
   "nbconvert_exporter": "python",
   "pygments_lexer": "ipython3",
   "version": "3.6.10"
  }
 },
 "nbformat": 4,
 "nbformat_minor": 2
}
