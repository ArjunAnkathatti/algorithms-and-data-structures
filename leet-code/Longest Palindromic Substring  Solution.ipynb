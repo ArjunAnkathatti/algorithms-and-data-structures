{
 "cells": [
  {
   "cell_type": "markdown",
   "metadata": {},
   "source": [
    "### Longest Palindromic Substring\n",
    "Given a string s, find the longest palindromic substring in s. You may assume that the maximum length of s is 1000.\n",
    "<br>\n",
    "<br>\n",
    "__Example 1:__\n",
    "<br>\n",
    "Input: \"babad\"\n",
    "<br>\n",
    "Output: \"bab\"\n",
    "Note: \"aba\" is also a valid answer.\n",
    "<br><br>\n",
    "__Example 2:__\n",
    "<br>\n",
    "Input: \"cbbd\"\n",
    "<br>\n",
    "Output: \"bb\"\n",
    "<br><br>"
   ]
  },
  {
   "cell_type": "markdown",
   "metadata": {},
   "source": [
    "### Solution 01 - Brute Force\n",
    "Step 01: Calculate all possible substrings.\n",
    "<br>\n",
    "Step 02: For every substring, check if it's a palindrome or not.\n",
    "<br>\n",
    "Step 03: If it's palindrom then update the max_palindrome if the length of the current substring is greater than the max_paindrome that we have seen so far.\n",
    "<br>"
   ]
  },
  {
   "cell_type": "code",
   "execution_count": 38,
   "metadata": {
    "collapsed": true,
    "scrolled": true
   },
   "outputs": [],
   "source": [
    "def isPalindrome(substr):\n",
    "    rev = substr[::-1]\n",
    "    return substr == rev"
   ]
  },
  {
   "cell_type": "code",
   "execution_count": 42,
   "metadata": {
    "collapsed": true,
    "scrolled": true
   },
   "outputs": [],
   "source": [
    "def longestPalindrome(s):\n",
    "    if len(s) <= 1:\n",
    "        return s\n",
    "        \n",
    "    else:\n",
    "        i = 0 \n",
    "        max_substr = ''\n",
    "        while(i<len(s)):\n",
    "            j = i\n",
    "            while(j <= len(s)):\n",
    "                pstr = s[i:j]\n",
    "                if isPalindrome(pstr):\n",
    "                    max_substr = pstr if len(pstr) > len(max_substr) else max_substr\n",
    "                j += 1\n",
    "            i += 1\n",
    "                    \n",
    "        return max_substr"
   ]
  },
  {
   "cell_type": "code",
   "execution_count": 43,
   "metadata": {
    "scrolled": true
   },
   "outputs": [
    {
     "data": {
      "text/plain": [
       "'adda'"
      ]
     },
     "execution_count": 43,
     "metadata": {},
     "output_type": "execute_result"
    }
   ],
   "source": [
    "longestPalindrome(\"adda\")"
   ]
  },
  {
   "cell_type": "markdown",
   "metadata": {},
   "source": [
    "### Solution 02 - Expand Around Center\n",
    "Since palindromes are mirror halfves we can use this property.\n",
    "For every char in the string, expand around it's center. That is, asuuming the current character as the center of the palindrom, check if the surronding of this cener are equal.\n",
    "<br><br>\n",
    "\n",
    "We need to take care of two cases\n",
    "<br>\n",
    "__Case 01__ - When a palindrome is of odd length. In this case, the center of the palindrome will be a character.\n",
    "For eaxmple, \"aba\", here center will be at index 1 and char at index 1 is \"b\".\n",
    "<br>\n",
    "__Case 02__ - When the center of the palindrome is inbetween the letters. \n",
    "For eaxmple, \"abba\" now the center lies in between the two letters bb\n"
   ]
  },
  {
   "cell_type": "code",
   "execution_count": 62,
   "metadata": {
    "collapsed": true
   },
   "outputs": [],
   "source": [
    "def longestPalindrome(s):\n",
    "    # these will hold the start and end indexes of the longest substring \n",
    "    # we intialize this to 0 at the begining however as we traverse the string we will update it \n",
    "    # if we encounter a palindrome\n",
    "    start = 0\n",
    "    end = 0\n",
    "    for i in range(len(s)):\n",
    "        # case 01 when the center of the palindrome is the ith character \n",
    "        len1 = expandFromCenter(s, i, i)\n",
    "        \n",
    "        # case 02 when the center of the palindrome is in between i and i+1th character\n",
    "        len2 = expandFromCenter(s, i, i+1)\n",
    "        \n",
    "        max_len = max(len1, len2)\n",
    "        # max_len will have the length of the palindrome substring so we have to \n",
    "        # divide this by 2 and update the our start and end indexes\n",
    "        if (max_len > end - start):\n",
    "            # again we subtract -1 from max_len to account for 0 based index\n",
    "            start = int(i - (max_len - 1)/2)\n",
    "            end = int(i + max_len/2)\n",
    "    \n",
    "    # return the substring \n",
    "    return s[start:end+1]"
   ]
  },
  {
   "cell_type": "code",
   "execution_count": 63,
   "metadata": {},
   "outputs": [],
   "source": [
    "def expandFromCenter(s, left, right):\n",
    "    while(left >= 0 and right < len(s) and s[left] == s[right]):\n",
    "        left -= 1\n",
    "        right += 1\n",
    "    \n",
    "    # we are substracting -1 because when left is decremented beyond 0 it will be -1 and while loop break.\n",
    "    # now when we substract -1 from R it will add the extra one so we are subtracting -1\n",
    "    length = right - left -1\n",
    "    return length"
   ]
  },
  {
   "cell_type": "code",
   "execution_count": 66,
   "metadata": {},
   "outputs": [
    {
     "data": {
      "text/plain": [
       "'bab'"
      ]
     },
     "execution_count": 66,
     "metadata": {},
     "output_type": "execute_result"
    }
   ],
   "source": [
    "longestPalindrome(\"babdf\")"
   ]
  },
  {
   "cell_type": "code",
   "execution_count": null,
   "metadata": {
    "collapsed": true
   },
   "outputs": [],
   "source": []
  }
 ],
 "metadata": {
  "kernelspec": {
   "display_name": "Python 3",
   "language": "python",
   "name": "python3"
  },
  "language_info": {
   "codemirror_mode": {
    "name": "ipython",
    "version": 3
   },
   "file_extension": ".py",
   "mimetype": "text/x-python",
   "name": "python",
   "nbconvert_exporter": "python",
   "pygments_lexer": "ipython3",
   "version": "3.6.10"
  }
 },
 "nbformat": 4,
 "nbformat_minor": 2
}
