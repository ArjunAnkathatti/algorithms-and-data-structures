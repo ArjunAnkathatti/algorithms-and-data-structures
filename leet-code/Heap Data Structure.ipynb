{
 "cells": [
  {
   "cell_type": "markdown",
   "metadata": {},
   "source": [
    "### Heap\n",
    "A Heap is a special Tree-based data structure in which the tree is a complete binary tree and satisfies the Heap Property.\n",
    "<br>\n",
    "1. A complete binary tree is a special binary tree in which \n",
    "<br>\n",
    "every level, except possibly the last, is filled \n",
    "<br>\n",
    "all the nodes are as far left as possible\n",
    "<br>\n",
    "<br>\n",
    "2. Heap Property is the property of a node in which \n",
    "<br>\n",
    "__(for max heap)__ key of each node is always greater than its child node/s and the key of the root node is the largest among all other nodes;\n",
    "<br>\n",
    "__(for min heap)__ key of each node is always smaller than the child node/s and the key of the root node is the smallest among all other nodes.\n",
    "\n",
    "__Binary Heap Representation__\n",
    "A binary heap is a complete binary tree. A binary heap is typically represented as an array. \n",
    "<br>\n",
    "The traversal method used to achieve the array representation is __Level Order__.\n",
    "<br>\n",
    "The root element will be at A[0]\n",
    "<br>\n",
    "Indexes of other nodes for the ith node, i.e A[i]\n",
    "<br>\n",
    "Arr [ (i-1) / 2 ] -> Returns the parent node\n",
    "<br>\n",
    "Arr [ ( i x 2 ) + 1 ] -> Returns the left child node\n",
    "<br>\n",
    "Arr [ ( i x 2 ) + 2 ] -> Returns the right child node\n",
    "<br>"
   ]
  },
  {
   "cell_type": "code",
   "execution_count": 2,
   "metadata": {
    "collapsed": true
   },
   "outputs": [],
   "source": [
    "# import the heap functions from python library\n",
    "from heapq import heappush, heappop, heapify"
   ]
  },
  {
   "cell_type": "markdown",
   "metadata": {},
   "source": [
    "__heappop__ - pop and return the smallest element from heap\n",
    "<br>\n",
    "__heappush__ - push the value item onto the heap, maintaining the heap\n",
    "invarient\n",
    "<br>\n",
    "__heapify__ - transform list into heap, in place, in linear time\n",
    "<br>"
   ]
  },
  {
   "cell_type": "code",
   "execution_count": 6,
   "metadata": {
    "collapsed": true
   },
   "outputs": [],
   "source": [
    "class MinHeap:\n",
    "    # constructor ot initialize the heap\n",
    "    def __init__(self):\n",
    "        self.heap = []\n",
    "    \n",
    "    def parent(self, i):\n",
    "        return (i-1)//2\n",
    "    \n",
    "    # inserts a new key 'k'\n",
    "    def insertKey(self, k):\n",
    "        heappush(self.heap, k)\n",
    "        \n",
    "    # method to remove minimum element from min heap\n",
    "    def extractMin(self):\n",
    "        return heappop(self.heap)\n",
    "    \n",
    "    # decrease value of a key at index 'i' to new_val\n",
    "    # it is assumed that new_val is smller than heap[i]\n",
    "    def decreaseKey(self, i, new_val):\n",
    "        self.heap[i] = new_val\n",
    "        while(i !=0 and self.heap[self.parent(i)] > self.heap[i]):\n",
    "            # swap heap[i] with heap[parent(i)]\n",
    "            self.heap[i], self.heap[self.parent(i)] = self.heap[self.parent(i)], self.heap[i]\n",
    "    \n",
    "    # this function deletes a key at index i. It first reduces \n",
    "    # value to minus infinite and then calls extractMin()\n",
    "    def deleteKey(self, i):\n",
    "        self.decreaseKey(i, float(\"-inf\"))\n",
    "        self.extractMin()\n",
    "        \n",
    "    # get the minimum element from the heap\n",
    "    def getMin(self):\n",
    "        return self.heap[0]"
   ]
  },
  {
   "cell_type": "code",
   "execution_count": 13,
   "metadata": {},
   "outputs": [
    {
     "name": "stdout",
     "output_type": "stream",
     "text": [
      "2\n",
      "4\n",
      "1\n",
      "4\n",
      "15\n",
      "[15, 45]\n"
     ]
    }
   ],
   "source": [
    "# Driver pgoratm to test above function \n",
    "heapObj = MinHeap() \n",
    "heapObj.insertKey(3) \n",
    "heapObj.insertKey(2) \n",
    "heapObj.deleteKey(1) \n",
    "heapObj.insertKey(15) \n",
    "heapObj.insertKey(5) \n",
    "heapObj.insertKey(4) \n",
    "heapObj.insertKey(45) \n",
    "\n",
    "print(heapObj.extractMin())\n",
    "print(heapObj.getMin())\n",
    "heapObj.decreaseKey(2, 1)\n",
    "print(heapObj.extractMin())\n",
    "print(heapObj.extractMin())\n",
    "print(heapObj.getMin())\n",
    "\n",
    "print(heapObj.heap)"
   ]
  },
  {
   "cell_type": "code",
   "execution_count": 16,
   "metadata": {},
   "outputs": [
    {
     "name": "stdout",
     "output_type": "stream",
     "text": [
      "[1, 3, 9, -10, 20]\n",
      "[-10, 1, 9, 3, 20]\n"
     ]
    }
   ],
   "source": [
    "nums = [1, 3,9,-10,20]\n",
    "print(nums)\n",
    "heapify(nums)\n",
    "print(nums)"
   ]
  },
  {
   "cell_type": "code",
   "execution_count": null,
   "metadata": {
    "collapsed": true
   },
   "outputs": [],
   "source": []
  }
 ],
 "metadata": {
  "kernelspec": {
   "display_name": "Python 3",
   "language": "python",
   "name": "python3"
  },
  "language_info": {
   "codemirror_mode": {
    "name": "ipython",
    "version": 3
   },
   "file_extension": ".py",
   "mimetype": "text/x-python",
   "name": "python",
   "nbconvert_exporter": "python",
   "pygments_lexer": "ipython3",
   "version": "3.6.10"
  }
 },
 "nbformat": 4,
 "nbformat_minor": 2
}
