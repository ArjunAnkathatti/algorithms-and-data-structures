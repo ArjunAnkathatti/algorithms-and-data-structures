{
 "cells": [
  {
   "cell_type": "markdown",
   "metadata": {},
   "source": [
    "### // is the division operation whicl will floor the result no matter the type of the number.\n",
    "### The real floor division operator is “//”. It returns floor value for both integer and floating point arguments.\n",
    "\n",
    "[::-1] will  reverse the list"
   ]
  },
  {
   "cell_type": "code",
   "execution_count": 1,
   "metadata": {
    "collapsed": true
   },
   "outputs": [],
   "source": [
    "def reverseInteger(x):\n",
    "    if x >= 2**31-1 or x <= -2**31: return 0\n",
    "    else:\n",
    "        strx = str(x)\n",
    "        if x > 0:\n",
    "            revstr = strx[::-1]\n",
    "        else:\n",
    "            temp = strx[1:]\n",
    "            temp2 = temp[::-1]\n",
    "            revstr = \"-\" + temp2\n",
    "        if int(revstr) >= 2**31-1 or int(revstr) <= -2**31: return 0\n",
    "        else: return int(revstr)"
   ]
  },
  {
   "cell_type": "code",
   "execution_count": 3,
   "metadata": {},
   "outputs": [
    {
     "name": "stdout",
     "output_type": "stream",
     "text": [
      "-321\n",
      "-128\n",
      "5678\n"
     ]
    }
   ],
   "source": [
    "print(reverseInteger(-123))\n",
    "print(reverseInteger(-8210))\n",
    "print(reverseInteger(8765))"
   ]
  },
  {
   "cell_type": "code",
   "execution_count": null,
   "metadata": {
    "collapsed": true
   },
   "outputs": [],
   "source": []
  }
 ],
 "metadata": {
  "kernelspec": {
   "display_name": "Python 3",
   "language": "python",
   "name": "python3"
  },
  "language_info": {
   "codemirror_mode": {
    "name": "ipython",
    "version": 3
   },
   "file_extension": ".py",
   "mimetype": "text/x-python",
   "name": "python",
   "nbconvert_exporter": "python",
   "pygments_lexer": "ipython3",
   "version": "3.6.10"
  }
 },
 "nbformat": 4,
 "nbformat_minor": 2
}
