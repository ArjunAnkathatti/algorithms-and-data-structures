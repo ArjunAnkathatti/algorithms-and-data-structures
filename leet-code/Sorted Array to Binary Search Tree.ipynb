{
 "cells": [
  {
   "cell_type": "markdown",
   "metadata": {},
   "source": [
    "### Convert Sorted Array to Binary Search Tree\n",
    "Given an array where elements are sorted in ascending order, convert it to a height balanced BST.\n",
    "\n",
    "For this problem, a height-balanced binary tree is defined as a binary tree in which the depth of the two subtrees of every node never differ by more than 1."
   ]
  },
  {
   "cell_type": "code",
   "execution_count": 18,
   "metadata": {
    "collapsed": true
   },
   "outputs": [],
   "source": [
    "# Definition for a binary tree node.\n",
    "class TreeNode:\n",
    "    def __init__(self, val=0, left=None, right=None):\n",
    "        self.val = val\n",
    "        self.left = left\n",
    "        self.right = right"
   ]
  },
  {
   "cell_type": "code",
   "execution_count": 29,
   "metadata": {
    "collapsed": true
   },
   "outputs": [],
   "source": [
    "def sortedArrayToBST(nums) -> TreeNode:\n",
    "    if len(nums) == 0:\n",
    "        return None\n",
    "    elif len(nums) == 1:\n",
    "        return TreeNode(nums[0])\n",
    "    \n",
    "    mid = len(nums) // 2\n",
    "    head = TreeNode(nums[mid])\n",
    "    head.left = sortedArrayToBST(nums[:mid])\n",
    "    head.right = sortedArrayToBST(nums[mid+1:])\n",
    "    \n",
    "    return head"
   ]
  },
  {
   "cell_type": "code",
   "execution_count": 30,
   "metadata": {},
   "outputs": [],
   "source": [
    "def preOrderString(head: TreeNode):\n",
    "    if head == None:\n",
    "        return \n",
    "    \n",
    "    print(str(head.val))\n",
    "    preOrderString(head.left)\n",
    "    preOrderString(head.right)"
   ]
  },
  {
   "cell_type": "code",
   "execution_count": 31,
   "metadata": {},
   "outputs": [
    {
     "name": "stdout",
     "output_type": "stream",
     "text": [
      "input  [-10, -3, 0, 5, 9, 10]\n",
      "expected output [5,-3,10,-10,0,9] \n",
      "5\n",
      "-3\n",
      "-10\n",
      "0\n",
      "10\n",
      "9\n",
      "None\n"
     ]
    }
   ],
   "source": [
    "nums = [-10,-3,0,5,9,10]\n",
    "print(\"input \", nums)\n",
    "print(\"expected output [5,-3,10,-10,0,9] \")\n",
    "head = sortedArrayToBST(nums)\n",
    "print(preOrderString(head))"
   ]
  },
  {
   "cell_type": "code",
   "execution_count": null,
   "metadata": {
    "collapsed": true
   },
   "outputs": [],
   "source": []
  }
 ],
 "metadata": {
  "kernelspec": {
   "display_name": "Python 3",
   "language": "python",
   "name": "python3"
  },
  "language_info": {
   "codemirror_mode": {
    "name": "ipython",
    "version": 3
   },
   "file_extension": ".py",
   "mimetype": "text/x-python",
   "name": "python",
   "nbconvert_exporter": "python",
   "pygments_lexer": "ipython3",
   "version": "3.6.10"
  }
 },
 "nbformat": 4,
 "nbformat_minor": 2
}
