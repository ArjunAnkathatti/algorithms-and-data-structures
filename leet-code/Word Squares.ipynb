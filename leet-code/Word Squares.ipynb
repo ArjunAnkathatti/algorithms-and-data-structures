{
 "cells": [
  {
   "cell_type": "markdown",
   "metadata": {},
   "source": [
    "### Word Squares\n",
    "<pre>\n",
    "Given a set of words (without duplicates), find all word squares you can build from them.\n",
    "\n",
    "A sequence of words forms a valid word square if the kth row and column read the exact same string, where 0 ≤ k < max(numRows, numColumns).\n",
    "\n",
    "For example, the word sequence [\"ball\",\"area\",\"lead\",\"lady\"] forms a word square because each word reads the same both horizontally and vertically.\n",
    "\n",
    "b a l l\n",
    "a r e a\n",
    "l e a d\n",
    "l a d y\n",
    "Note:\n",
    "There are at least 1 and at most 1000 words.\n",
    "All words will have the exact same length.\n",
    "Word length is at least 1 and at most 5.\n",
    "Each word contains only lowercase English alphabet a-z.\n",
    "\n",
    "Example 1:\n",
    "\n",
    "Input:\n",
    "[\"area\",\"lead\",\"wall\",\"lady\",\"ball\"]\n",
    "\n",
    "Output:\n",
    "[\n",
    "  [ \"wall\",\n",
    "    \"area\",\n",
    "    \"lead\",\n",
    "    \"lady\"\n",
    "  ],\n",
    "  [ \"ball\",\n",
    "    \"area\",\n",
    "    \"lead\",\n",
    "    \"lady\"\n",
    "  ]\n",
    "]\n",
    "\n",
    "Explanation:\n",
    "The output consists of two word squares. The order of output does not matter (just the order of words in each word square matters).\n",
    "</pre>"
   ]
  },
  {
   "cell_type": "code",
   "execution_count": 73,
   "metadata": {
    "collapsed": true
   },
   "outputs": [],
   "source": [
    "from typing import List\n",
    "class Solution:\n",
    "    def wordSquares(self, words: List[str]) -> List[List[str]]:\n",
    "        L = len(words[0])\n",
    "        \n",
    "        trie = {}\n",
    "        word_key = \"$\"\n",
    "        \n",
    "        # build trie for all the words\n",
    "        for word in words:\n",
    "            cur = trie\n",
    "            for char in word:\n",
    "                if not char in cur:\n",
    "                    cur[char] = {}\n",
    "                cur = cur[char]\n",
    "                \n",
    "            cur[word_key] = word\n",
    "        \n",
    "        # get all words from a given node in trie\n",
    "        def getAllWordsFrom(curNode, results):\n",
    "            if word_key in curNode:\n",
    "                results.append(curNode[word_key])\n",
    "            \n",
    "            for key in curNode:\n",
    "                if key == \"$\":\n",
    "                    continue\n",
    "                getAllWordsFrom(curNode[key], results)\n",
    "            \n",
    "            return results\n",
    "        \n",
    "        # get all words starting from a given prefix\n",
    "        def getWordsWithPrefix(prefix):\n",
    "            cur = trie\n",
    "            for char in prefix:\n",
    "                if not char in cur:\n",
    "                    return []\n",
    "                cur = cur[char]\n",
    "            \n",
    "            return getAllWordsFrom(cur, list())\n",
    "                \n",
    "        \n",
    "        # store results\n",
    "        results = []\n",
    "        def backtracking(step, word_squares):\n",
    "            if step == L:\n",
    "                results.append(word_squares[:])\n",
    "                return\n",
    "            \n",
    "            # prefix will be step th letter of all the words in the word_squares so far\n",
    "            prefix = \"\".join([word[step] for word in word_squares])\n",
    "            \n",
    "            # test all the candidate words with a given prefix\n",
    "            for candidate in getWordsWithPrefix(prefix):\n",
    "                word_squares.append(candidate)\n",
    "                backtracking(step+1, word_squares)\n",
    "                word_squares.pop()\n",
    "        \n",
    "        \n",
    "        word_squares = []\n",
    "        # for all the words in the given list\n",
    "        # call backtracking \n",
    "        for word in words:\n",
    "            word_squares = [word]\n",
    "            backtracking(1, word_squares)\n",
    "        \n",
    "        return results"
   ]
  },
  {
   "cell_type": "code",
   "execution_count": 74,
   "metadata": {
    "collapsed": true
   },
   "outputs": [],
   "source": [
    "words = [\"ball\", \"area\", \"lady\", \"lead\"]"
   ]
  },
  {
   "cell_type": "code",
   "execution_count": 75,
   "metadata": {},
   "outputs": [
    {
     "data": {
      "text/plain": [
       "[['ball', 'area', 'lead', 'lady']]"
      ]
     },
     "execution_count": 75,
     "metadata": {},
     "output_type": "execute_result"
    }
   ],
   "source": [
    "obj = Solution()\n",
    "obj.wordSquares(words)"
   ]
  },
  {
   "cell_type": "code",
   "execution_count": null,
   "metadata": {
    "collapsed": true
   },
   "outputs": [],
   "source": []
  }
 ],
 "metadata": {
  "kernelspec": {
   "display_name": "Python 3",
   "language": "python",
   "name": "python3"
  },
  "language_info": {
   "codemirror_mode": {
    "name": "ipython",
    "version": 3
   },
   "file_extension": ".py",
   "mimetype": "text/x-python",
   "name": "python",
   "nbconvert_exporter": "python",
   "pygments_lexer": "ipython3",
   "version": "3.6.10"
  }
 },
 "nbformat": 4,
 "nbformat_minor": 2
}
