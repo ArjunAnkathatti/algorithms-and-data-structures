{
 "cells": [
  {
   "cell_type": "markdown",
   "metadata": {},
   "source": [
    "### Contains Duplicate III\n",
    "<pre>\n",
    "Given an array of integers, find out whether there are two distinct indices i and j in the array such that the absolute difference between nums[i] and nums[j] is at most t and the absolute difference between i and j is at most k.\n",
    "\n",
    "Example 1:\n",
    "\n",
    "Input: nums = [1,2,3,1], k = 3, t = 0\n",
    "Output: true\n",
    "\n",
    "Example 2:\n",
    "Input: nums = [1,0,1,1], k = 1, t = 2\n",
    "Output: true\n",
    "\n",
    "Example 3:\n",
    "\n",
    "Input: nums = [1,5,9,1,5,9], k = 2, t = 3\n",
    "Output: false\n",
    "</pre>"
   ]
  },
  {
   "cell_type": "markdown",
   "metadata": {},
   "source": [
    "### Solution 01 - Burte Force\n",
    "For every number in the array we check k elements to it's left. If any of the number to it's left satisfies the condition then we will return True."
   ]
  },
  {
   "cell_type": "code",
   "execution_count": 33,
   "metadata": {},
   "outputs": [],
   "source": [
    "from typing import List\n",
    "def containsNearbyAlmostDuplicate(nums: List[int], k: int, t: int) -> bool:\n",
    "    for i in range(len(nums)):\n",
    "        j = max((i - k), 0)\n",
    "        while j < i:\n",
    "            if abs(nums[i] - nums[j]) <= t:\n",
    "                return True\n",
    "            j += 1\n",
    "            \n",
    "    return False"
   ]
  },
  {
   "cell_type": "code",
   "execution_count": 34,
   "metadata": {},
   "outputs": [
    {
     "data": {
      "text/plain": [
       "True"
      ]
     },
     "execution_count": 34,
     "metadata": {},
     "output_type": "execute_result"
    }
   ],
   "source": [
    "nums = [1,2,3,1] \n",
    "k = 3\n",
    "t = 0\n",
    "containsNearbyAlmostDuplicate(nums, k, t)"
   ]
  },
  {
   "cell_type": "code",
   "execution_count": 35,
   "metadata": {},
   "outputs": [
    {
     "data": {
      "text/plain": [
       "True"
      ]
     },
     "execution_count": 35,
     "metadata": {},
     "output_type": "execute_result"
    }
   ],
   "source": [
    "nums = [1,0,1,1]\n",
    "k = 1\n",
    "t = 2\n",
    "containsNearbyAlmostDuplicate(nums, k, t)"
   ]
  },
  {
   "cell_type": "code",
   "execution_count": 36,
   "metadata": {},
   "outputs": [
    {
     "data": {
      "text/plain": [
       "False"
      ]
     },
     "execution_count": 36,
     "metadata": {},
     "output_type": "execute_result"
    }
   ],
   "source": [
    "nums = [1,5,9,1,5,9]\n",
    "k = 2\n",
    "t = 3\n",
    "containsNearbyAlmostDuplicate(nums, k, t)"
   ]
  },
  {
   "cell_type": "markdown",
   "metadata": {},
   "source": [
    "### Solution 02 - Sorting the k elements \n",
    "In this approach we will sort the k elements so that we can reduce the number of comparisions."
   ]
  },
  {
   "cell_type": "code",
   "execution_count": 62,
   "metadata": {
    "collapsed": true
   },
   "outputs": [],
   "source": [
    "def containsNearbyAlmostDuplicate(nums: List[int], k: int, t: int) -> bool:\n",
    "    for i in range(len(nums)):\n",
    "        j = max((i - k), 0)\n",
    "        if j < i:\n",
    "            # sort the elements to the left including the current element\n",
    "            window = sorted(nums[j:i+1])\n",
    "\n",
    "            # find the index of current element in the sorted array\n",
    "            ith_idx = window.index(nums[i])\n",
    "\n",
    "            if ith_idx < len(window)-1:\n",
    "                right = abs(nums[i] - window[ith_idx + 1]) <= t\n",
    "            else:\n",
    "                right = False\n",
    "\n",
    "            left = abs(nums[i] - window[ith_idx - 1]) <= t\n",
    "            if left or right:\n",
    "                return True\n",
    "\n",
    "            \n",
    "    return False"
   ]
  },
  {
   "cell_type": "code",
   "execution_count": 63,
   "metadata": {},
   "outputs": [
    {
     "data": {
      "text/plain": [
       "True"
      ]
     },
     "execution_count": 63,
     "metadata": {},
     "output_type": "execute_result"
    }
   ],
   "source": [
    "nums = [1,2,3,1] \n",
    "k = 3\n",
    "t = 0\n",
    "containsNearbyAlmostDuplicate(nums, k, t)"
   ]
  },
  {
   "cell_type": "code",
   "execution_count": 64,
   "metadata": {},
   "outputs": [
    {
     "data": {
      "text/plain": [
       "True"
      ]
     },
     "execution_count": 64,
     "metadata": {},
     "output_type": "execute_result"
    }
   ],
   "source": [
    "nums = [1,0,1,1]\n",
    "k = 1\n",
    "t = 2\n",
    "containsNearbyAlmostDuplicate(nums, k, t)"
   ]
  },
  {
   "cell_type": "code",
   "execution_count": 65,
   "metadata": {},
   "outputs": [
    {
     "data": {
      "text/plain": [
       "False"
      ]
     },
     "execution_count": 65,
     "metadata": {},
     "output_type": "execute_result"
    }
   ],
   "source": [
    "nums = [1,5,9,1,5,9]\n",
    "k = 2\n",
    "t = 3\n",
    "containsNearbyAlmostDuplicate(nums, k, t)"
   ]
  },
  {
   "cell_type": "markdown",
   "metadata": {},
   "source": [
    "### Solution 02 - Using BST to store k elements\n",
    "Instead of sorting the k elements every time we will use the BST to store k elements in a sorted structure all the time.\n",
    "<br>\n",
    "BST are really useful data structure when we need to frequently insert, delete the data while maintaining the order of the data."
   ]
  },
  {
   "cell_type": "code",
   "execution_count": 137,
   "metadata": {
    "collapsed": true
   },
   "outputs": [],
   "source": [
    "def containsNearbyAlmostDuplicate(nums: List[int], k: int, t: int) -> bool:\n",
    "    if t < 0:\n",
    "        return False\n",
    "    \n",
    "    window = dict()\n",
    "    # bucket range \n",
    "    w = t+1\n",
    "    \n",
    "    for i in range(len(nums)):\n",
    "        # bucket label\n",
    "        m = nums[i] // w\n",
    "        \n",
    "        # if bucket already in dict\n",
    "        if m in window:\n",
    "            return True\n",
    "        \n",
    "        if m - 1 in window and abs(nums[i] - window[m-1]) < w:\n",
    "            return True\n",
    "        \n",
    "        if m + 1 in window and abs(nums[i] - window[m+1]) < w:\n",
    "            return True\n",
    "        \n",
    "        # add current element to bucket dict\n",
    "        window[m] = nums[i]\n",
    "        \n",
    "        # if size of the bucket is greater than or equal to k \n",
    "        # pop the last element \n",
    "        if i >= k:\n",
    "            window.pop(nums[i-k] // w)\n",
    "    \n",
    "    return False"
   ]
  },
  {
   "cell_type": "code",
   "execution_count": 138,
   "metadata": {},
   "outputs": [
    {
     "data": {
      "text/plain": [
       "True"
      ]
     },
     "execution_count": 138,
     "metadata": {},
     "output_type": "execute_result"
    }
   ],
   "source": [
    "nums = [1,2,3,1] \n",
    "k = 3\n",
    "t = 0\n",
    "containsNearbyAlmostDuplicate(nums, k, t)"
   ]
  },
  {
   "cell_type": "code",
   "execution_count": 139,
   "metadata": {},
   "outputs": [
    {
     "data": {
      "text/plain": [
       "True"
      ]
     },
     "execution_count": 139,
     "metadata": {},
     "output_type": "execute_result"
    }
   ],
   "source": [
    "nums = [1,0,1,1]\n",
    "k = 1\n",
    "t = 2\n",
    "containsNearbyAlmostDuplicate(nums, k, t)"
   ]
  },
  {
   "cell_type": "code",
   "execution_count": 140,
   "metadata": {},
   "outputs": [
    {
     "data": {
      "text/plain": [
       "False"
      ]
     },
     "execution_count": 140,
     "metadata": {},
     "output_type": "execute_result"
    }
   ],
   "source": [
    "nums = [1,5,9,1,5,9]\n",
    "k = 2\n",
    "t = 3\n",
    "containsNearbyAlmostDuplicate(nums, k, t)"
   ]
  }
 ],
 "metadata": {
  "kernelspec": {
   "display_name": "Python 3",
   "language": "python",
   "name": "python3"
  },
  "language_info": {
   "codemirror_mode": {
    "name": "ipython",
    "version": 3
   },
   "file_extension": ".py",
   "mimetype": "text/x-python",
   "name": "python",
   "nbconvert_exporter": "python",
   "pygments_lexer": "ipython3",
   "version": "3.6.10"
  }
 },
 "nbformat": 4,
 "nbformat_minor": 2
}
