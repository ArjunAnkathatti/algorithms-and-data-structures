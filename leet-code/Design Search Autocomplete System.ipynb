{
 "cells": [
  {
   "cell_type": "markdown",
   "metadata": {},
   "source": [
    "### Design Search Autocomplete System\n",
    "<pre>\n",
    "Design a search autocomplete system for a search engine. Users may input a sentence (at least one word and end with a special character '#'). For each character they type except '#', you need to return the top 3 historical hot sentences that have prefix the same as the part of sentence already typed. Here are the specific rules:\n",
    "\n",
    "The hot degree for a sentence is defined as the number of times a user typed the exactly same sentence before.\n",
    "The returned top 3 hot sentences should be sorted by hot degree (The first is the hottest one). If several sentences have the same degree of hot, you need to use ASCII-code order (smaller one appears first).\n",
    "If less than 3 hot sentences exist, then just return as many as you can.\n",
    "When the input is a special character, it means the sentence ends, and in this case, you need to return an empty list.\n",
    "Your job is to implement the following functions:\n",
    "\n",
    "The constructor function:\n",
    "\n",
    "AutocompleteSystem(String[] sentences, int[] times): This is the constructor. The input is historical data. Sentences is a string array consists of previously typed sentences. Times is the corresponding times a sentence has been typed. Your system should record these historical data.\n",
    "\n",
    "Now, the user wants to input a new sentence. The following function will provide the next character the user types:\n",
    "\n",
    "List<String> input(char c): The input c is the next character typed by the user. The character will only be lower-case letters ('a' to 'z'), blank space (' ') or a special character ('#'). Also, the previously typed sentence should be recorded in your system. The output will be the top 3 historical hot sentences that have prefix the same as the part of sentence already typed.\n",
    "\n",
    " \n",
    "Example:\n",
    "Operation: AutocompleteSystem([\"i love you\", \"island\",\"ironman\", \"i love leetcode\"], [5,3,2,2])\n",
    "The system have already tracked down the following sentences and their corresponding times:\n",
    "\"i love you\" : 5 times\n",
    "\"island\" : 3 times\n",
    "\"ironman\" : 2 times\n",
    "\"i love leetcode\" : 2 times\n",
    "Now, the user begins another search:\n",
    "\n",
    "Operation: input('i')\n",
    "Output: [\"i love you\", \"island\",\"i love leetcode\"]\n",
    "Explanation:\n",
    "There are four sentences that have prefix \"i\". Among them, \"ironman\" and \"i love leetcode\" have same hot degree. Since ' ' has ASCII code 32 and 'r' has ASCII code 114, \"i love leetcode\" should be in front of \"ironman\". Also we only need to output top 3 hot sentences, so \"ironman\" will be ignored.\n",
    "\n",
    "Operation: input(' ')\n",
    "Output: [\"i love you\",\"i love leetcode\"]\n",
    "Explanation:\n",
    "There are only two sentences that have prefix \"i \".\n",
    "\n",
    "Operation: input('a')\n",
    "Output: []\n",
    "Explanation:\n",
    "There are no sentences that have prefix \"i a\".\n",
    "\n",
    "Operation: input('#')\n",
    "Output: []\n",
    "Explanation:\n",
    "The user finished the input, the sentence \"i a\" should be saved as a historical sentence in system. And the following input will be counted as a new search.\n",
    "</pre>"
   ]
  },
  {
   "cell_type": "code",
   "execution_count": 4,
   "metadata": {
    "collapsed": true
   },
   "outputs": [],
   "source": [
    "class TrieNode:\n",
    "    def __init__(self, val = None):\n",
    "        self.val = val\n",
    "        self.children = dict()\n",
    "        self.isSentence = False\n",
    "        self.freq = 0"
   ]
  },
  {
   "cell_type": "code",
   "execution_count": 478,
   "metadata": {},
   "outputs": [],
   "source": [
    "class AutocompleteSystem:\n",
    "\n",
    "    def __init__(self, sentences: List[str], times: List[int]):\n",
    "        # root of Trie or prefix tree\n",
    "        self.root = TrieNode()\n",
    "        \n",
    "        # current node to indicate \n",
    "        # this will be advance as and when user input is received\n",
    "        self.cur = self.root\n",
    "        \n",
    "        # variable to store the sentence user is typing\n",
    "        self.cur_sen = \"\"\n",
    "        \n",
    "        # build sentence to frequency maps\n",
    "        # insert all the sentences into Trie\n",
    "        for idx, sen in enumerate(sentences):\n",
    "            self.__insert(sen, times[idx])\n",
    "        \n",
    "    \n",
    "    def __insert(self, sen, freq):\n",
    "        # insert a given sentence into Trie\n",
    "        cur = self.root\n",
    "        for char in sen:\n",
    "            if not char in cur.children:\n",
    "                cur.children[char] = TrieNode(char)\n",
    "            \n",
    "            cur = cur.children[char]\n",
    "\n",
    "        cur.isSentence = True\n",
    "        cur.freq += freq\n",
    "    \n",
    "    def __getAllSentences(self, c):\n",
    "        # insert char if not in trie \n",
    "        if c not in self.cur.children:\n",
    "            self.cur.children[c] = TrieNode(c)\n",
    "        \n",
    "        # update cur node\n",
    "        self.cur = self.cur.children[c]\n",
    "        \n",
    "        sentences = []\n",
    "        def helper(node:TrieNode, prefix):\n",
    "            if node.val:\n",
    "                prefix += node.val\n",
    "                \n",
    "            nonlocal sentences\n",
    "            if node.isSentence:\n",
    "                sentences.append((node.freq * -1, prefix))\n",
    "            \n",
    "            for child in node.children:\n",
    "                helper(node.children[child], prefix)\n",
    "        \n",
    "        helper(self.cur, \"\")\n",
    "        \n",
    "        # list of frequencies and the full sentences\n",
    "        sen_freq = [(t[0], self.cur_sen + t[1]) for t in sentences]\n",
    "        \n",
    "        # sort the list of tuples based on frequencies and their ascii\n",
    "        sen_freq.sort(key=lambda x: (x[0], x[1]))\n",
    "        \n",
    "        # return just the sentences from the top 3 in the sorted list\n",
    "        return [t[1] for t in sen_freq[:3]]\n",
    "        \n",
    "    def input(self, c: str) -> List[str]:\n",
    "        if c == \"#\":\n",
    "            # set current node flag to indicate it's a sentence\n",
    "            self.cur.isSentence = True\n",
    "            self.cur.freq += 1\n",
    "            \n",
    "            # reset the current node back to root node\n",
    "            self.cur = self.root\n",
    "            \n",
    "            # reset the current sentece to empty string\n",
    "            self.cur_sen = \"\"\n",
    "            \n",
    "            return []\n",
    "        else:\n",
    "            # get all nodes with the given char \n",
    "            sen_list = self.__getAllSentences(c)\n",
    "            \n",
    "            # append the current character to the so far seen character\n",
    "            # this builds the sentence string that user is typing\n",
    "            self.cur_sen += c\n",
    "            \n",
    "            return sen_list"
   ]
  },
  {
   "cell_type": "code",
   "execution_count": 483,
   "metadata": {
    "collapsed": true
   },
   "outputs": [],
   "source": [
    "obj = AutocompleteSystem([\"i love you\",\"island\",\"iroman\",\"i love leetcode\"], [5,3,2,2])  "
   ]
  },
  {
   "cell_type": "code",
   "execution_count": 484,
   "metadata": {},
   "outputs": [
    {
     "data": {
      "text/plain": [
       "['i love you', 'island', 'i love leetcode']"
      ]
     },
     "execution_count": 484,
     "metadata": {},
     "output_type": "execute_result"
    }
   ],
   "source": [
    "obj.input(\"i\")"
   ]
  },
  {
   "cell_type": "code",
   "execution_count": 485,
   "metadata": {},
   "outputs": [
    {
     "data": {
      "text/plain": [
       "['i love you', 'i love leetcode']"
      ]
     },
     "execution_count": 485,
     "metadata": {},
     "output_type": "execute_result"
    }
   ],
   "source": [
    "obj.input(\" \")"
   ]
  },
  {
   "cell_type": "code",
   "execution_count": 486,
   "metadata": {},
   "outputs": [
    {
     "data": {
      "text/plain": [
       "[]"
      ]
     },
     "execution_count": 486,
     "metadata": {},
     "output_type": "execute_result"
    }
   ],
   "source": [
    "obj.input(\"a\")"
   ]
  },
  {
   "cell_type": "code",
   "execution_count": 487,
   "metadata": {},
   "outputs": [
    {
     "data": {
      "text/plain": [
       "[]"
      ]
     },
     "execution_count": 487,
     "metadata": {},
     "output_type": "execute_result"
    }
   ],
   "source": [
    "obj.input(\"#\")"
   ]
  },
  {
   "cell_type": "code",
   "execution_count": 488,
   "metadata": {},
   "outputs": [
    {
     "data": {
      "text/plain": [
       "['i love you', 'island', 'i love leetcode']"
      ]
     },
     "execution_count": 488,
     "metadata": {},
     "output_type": "execute_result"
    }
   ],
   "source": [
    "obj.input(\"i\")"
   ]
  },
  {
   "cell_type": "code",
   "execution_count": 489,
   "metadata": {},
   "outputs": [
    {
     "data": {
      "text/plain": [
       "['i love you', 'i love leetcode', 'i a']"
      ]
     },
     "execution_count": 489,
     "metadata": {},
     "output_type": "execute_result"
    }
   ],
   "source": [
    "obj.input(\" \")"
   ]
  },
  {
   "cell_type": "code",
   "execution_count": 490,
   "metadata": {},
   "outputs": [
    {
     "data": {
      "text/plain": [
       "['i a']"
      ]
     },
     "execution_count": 490,
     "metadata": {},
     "output_type": "execute_result"
    }
   ],
   "source": [
    "obj.input(\"a\")"
   ]
  },
  {
   "cell_type": "code",
   "execution_count": 491,
   "metadata": {},
   "outputs": [
    {
     "data": {
      "text/plain": [
       "[]"
      ]
     },
     "execution_count": 491,
     "metadata": {},
     "output_type": "execute_result"
    }
   ],
   "source": [
    "obj.input(\"#\")"
   ]
  },
  {
   "cell_type": "code",
   "execution_count": 492,
   "metadata": {},
   "outputs": [
    {
     "data": {
      "text/plain": [
       "['i love you', 'island', 'i a']"
      ]
     },
     "execution_count": 492,
     "metadata": {},
     "output_type": "execute_result"
    }
   ],
   "source": [
    "obj.input(\"i\")"
   ]
  },
  {
   "cell_type": "code",
   "execution_count": null,
   "metadata": {
    "collapsed": true
   },
   "outputs": [],
   "source": []
  }
 ],
 "metadata": {
  "kernelspec": {
   "display_name": "Python 3",
   "language": "python",
   "name": "python3"
  },
  "language_info": {
   "codemirror_mode": {
    "name": "ipython",
    "version": 3
   },
   "file_extension": ".py",
   "mimetype": "text/x-python",
   "name": "python",
   "nbconvert_exporter": "python",
   "pygments_lexer": "ipython3",
   "version": "3.6.10"
  }
 },
 "nbformat": 4,
 "nbformat_minor": 2
}
