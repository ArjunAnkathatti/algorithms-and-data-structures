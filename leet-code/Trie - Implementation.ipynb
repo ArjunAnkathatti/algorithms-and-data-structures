{
 "cells": [
  {
   "cell_type": "code",
   "execution_count": 96,
   "metadata": {
    "collapsed": true
   },
   "outputs": [],
   "source": [
    "from typing import List"
   ]
  },
  {
   "cell_type": "code",
   "execution_count": 107,
   "metadata": {
    "collapsed": true
   },
   "outputs": [],
   "source": [
    "class TrieNode:\n",
    "    def __init__(self):\n",
    "        self.children = dict()\n",
    "        self.isEndOfWord = False\n",
    "        self.word = None\n",
    "        \n",
    "class Trie:\n",
    "    def __init__(self):\n",
    "        self.root = TrieNode()\n",
    "    \n",
    "    def insert(self, word: str) -> None:\n",
    "        cur = self.root\n",
    "        for l in word:\n",
    "            if not l in cur.children:\n",
    "                cur.children[l] = TrieNode()\n",
    "            cur = cur.children[l]\n",
    "            \n",
    "        cur.isEndOfWord = True\n",
    "        cur.word = word\n",
    "    \n",
    "    def search(self, word: str) -> bool:\n",
    "        cur = self.root\n",
    "        for l in word:\n",
    "            if not l in cur.children:\n",
    "                return False\n",
    "            cur = cur.children[l]\n",
    "            \n",
    "        return cur != None and cur.isEndOfWord\n",
    "    \n",
    "    def contains(self, prefix: str) -> bool:\n",
    "        cur = self.root\n",
    "        for l in word:\n",
    "            if not l in cur.children:\n",
    "                return False\n",
    "            cur = cur.children[l]\n",
    "            \n",
    "        return True"
   ]
  },
  {
   "cell_type": "code",
   "execution_count": 108,
   "metadata": {
    "collapsed": true
   },
   "outputs": [],
   "source": [
    "obj = Trie()"
   ]
  },
  {
   "cell_type": "code",
   "execution_count": 109,
   "metadata": {},
   "outputs": [],
   "source": [
    "obj.insert('dog')\n",
    "obj.insert('dogs')\n",
    "obj.insert('dig')"
   ]
  },
  {
   "cell_type": "code",
   "execution_count": 110,
   "metadata": {},
   "outputs": [
    {
     "data": {
      "text/plain": [
       "True"
      ]
     },
     "execution_count": 110,
     "metadata": {},
     "output_type": "execute_result"
    }
   ],
   "source": [
    "obj.search('dig')"
   ]
  },
  {
   "cell_type": "code",
   "execution_count": null,
   "metadata": {
    "collapsed": true
   },
   "outputs": [],
   "source": []
  }
 ],
 "metadata": {
  "kernelspec": {
   "display_name": "Python 3",
   "language": "python",
   "name": "python3"
  },
  "language_info": {
   "codemirror_mode": {
    "name": "ipython",
    "version": 3
   },
   "file_extension": ".py",
   "mimetype": "text/x-python",
   "name": "python",
   "nbconvert_exporter": "python",
   "pygments_lexer": "ipython3",
   "version": "3.6.10"
  }
 },
 "nbformat": 4,
 "nbformat_minor": 2
}
