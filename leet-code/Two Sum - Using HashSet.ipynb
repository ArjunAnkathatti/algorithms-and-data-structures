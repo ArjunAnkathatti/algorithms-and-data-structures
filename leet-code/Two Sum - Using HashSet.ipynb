{
 "cells": [
  {
   "cell_type": "markdown",
   "metadata": {},
   "source": [
    "#### Given an array and a target value, find if the indices of the two numbers whose sum is equal to the target. "
   ]
  },
  {
   "cell_type": "code",
   "execution_count": 10,
   "metadata": {},
   "outputs": [],
   "source": [
    "def getMatchingIndices(nums, target):\n",
    "    seen = dict()\n",
    "    # HashMap in python is just a dictionary\n",
    "    for index, value in enumerate(nums):\n",
    "        d = target - value\n",
    "        if d in seen:\n",
    "            return [seen[d], index]\n",
    "        else:\n",
    "            seen[value] = index"
   ]
  },
  {
   "cell_type": "code",
   "execution_count": 11,
   "metadata": {},
   "outputs": [
    {
     "name": "stdout",
     "output_type": "stream",
     "text": [
      "[2, 3]\n"
     ]
    }
   ],
   "source": [
    "nums = [1, 3, 5, 8, 28]\n",
    "target = 13\n",
    "indices = getMatchingIndices(nums, target)\n",
    "print(indices)"
   ]
  },
  {
   "cell_type": "code",
   "execution_count": null,
   "metadata": {
    "collapsed": true
   },
   "outputs": [],
   "source": []
  }
 ],
 "metadata": {
  "kernelspec": {
   "display_name": "Python 3",
   "language": "python",
   "name": "python3"
  },
  "language_info": {
   "codemirror_mode": {
    "name": "ipython",
    "version": 3
   },
   "file_extension": ".py",
   "mimetype": "text/x-python",
   "name": "python",
   "nbconvert_exporter": "python",
   "pygments_lexer": "ipython3",
   "version": "3.6.10"
  }
 },
 "nbformat": 4,
 "nbformat_minor": 2
}
