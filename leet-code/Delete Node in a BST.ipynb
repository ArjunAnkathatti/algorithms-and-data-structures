{
 "cells": [
  {
   "cell_type": "markdown",
   "metadata": {},
   "source": [
    "### Delete Node in a BST\n",
    "<pre>\n",
    "Given a root node reference of a BST and a key, delete the node with the given key in the BST. Return the root node reference (possibly updated) of the BST.\n",
    "\n",
    "Basically, the deletion can be divided into two stages:\n",
    "\n",
    "Search for a node to remove.\n",
    "If the node is found, delete the node.\n",
    "Note: Time complexity should be O(height of tree).\n",
    "\n",
    "Example:\n",
    "\n",
    "root = [5,3,6,2,4,null,7]\n",
    "key = 3\n",
    "\n",
    "    5\n",
    "   / \\\n",
    "  3   6\n",
    " / \\   \\\n",
    "2   4   7\n",
    "\n",
    "Given key to delete is 3. So we find the node with value 3 and delete it.\n",
    "\n",
    "One valid answer is [5,4,6,2,null,null,7], shown in the following BST.\n",
    "\n",
    "    5\n",
    "   / \\\n",
    "  4   6\n",
    " /     \\\n",
    "2       7\n",
    "\n",
    "Another valid answer is [5,2,6,null,4,null,7].\n",
    "\n",
    "    5\n",
    "   / \\\n",
    "  2   6\n",
    "   \\   \\\n",
    "    4   7\n",
    "</pre>"
   ]
  },
  {
   "cell_type": "code",
   "execution_count": 1,
   "metadata": {
    "collapsed": true
   },
   "outputs": [],
   "source": [
    "class TreeNode:\n",
    "    def __init__(self, val=0, left=None, right=None):\n",
    "        self.val = val\n",
    "        self.left = left\n",
    "        self.right = right"
   ]
  },
  {
   "cell_type": "code",
   "execution_count": 2,
   "metadata": {
    "collapsed": true
   },
   "outputs": [],
   "source": [
    "def successor(root):\n",
    "    # go one step right\n",
    "    root = root.right\n",
    "    # and all the way down to the left\n",
    "    while root.left:\n",
    "        root = root.left\n",
    "        \n",
    "    return root.val"
   ]
  },
  {
   "cell_type": "code",
   "execution_count": 3,
   "metadata": {
    "collapsed": true
   },
   "outputs": [],
   "source": [
    "def predecessor(root):\n",
    "    # go one step left\n",
    "    root = root.left\n",
    "    # and all the way down to the right\n",
    "    while root.right:\n",
    "        root = root.right\n",
    "    \n",
    "    return root.val"
   ]
  },
  {
   "cell_type": "code",
   "execution_count": 5,
   "metadata": {
    "collapsed": true
   },
   "outputs": [],
   "source": [
    "def deleteNode(root, key):\n",
    "    if not root:\n",
    "        return None\n",
    "    \n",
    "    if key < root.val:\n",
    "        root.left = deleteNode(root.left, key)\n",
    "    elif key > root.val:\n",
    "        root.right = deleteNode(root.right, key)\n",
    "    else:\n",
    "        # when we have actually found the node\n",
    "        \n",
    "        # if node has no children\n",
    "        if not (root.left or root.right):\n",
    "            return None\n",
    "        elif root.right:\n",
    "            root.val = successor(root)\n",
    "            root.right = deleteNode(root.right, root.val)\n",
    "        else:\n",
    "            root.val = predecessor(root)\n",
    "            root.left = predecessor(root.left, root.val)\n",
    "    \n",
    "    return root"
   ]
  },
  {
   "cell_type": "code",
   "execution_count": 16,
   "metadata": {},
   "outputs": [],
   "source": [
    "head = TreeNode(5)\n",
    "head.left = TreeNode(3)\n",
    "head.left.left = TreeNode(2)\n",
    "head.left.right = TreeNode(4)\n",
    "\n",
    "head.right = TreeNode(6)\n",
    "head.right.right = TreeNode(7)"
   ]
  },
  {
   "cell_type": "code",
   "execution_count": 17,
   "metadata": {
    "collapsed": true
   },
   "outputs": [],
   "source": [
    "io = []\n",
    "def inorder(root):\n",
    "    if not root:\n",
    "        return \n",
    "    \n",
    "    inorder(root.left)\n",
    "    io.append(root.val)\n",
    "    inorder(root.right)\n"
   ]
  },
  {
   "cell_type": "code",
   "execution_count": 18,
   "metadata": {},
   "outputs": [
    {
     "name": "stdout",
     "output_type": "stream",
     "text": [
      "[2, 3, 4, 5, 6, 7]\n"
     ]
    }
   ],
   "source": [
    "inorder(head)\n",
    "print(io)"
   ]
  },
  {
   "cell_type": "code",
   "execution_count": 19,
   "metadata": {
    "collapsed": true
   },
   "outputs": [],
   "source": [
    "new_head = deleteNode(head, 3)"
   ]
  },
  {
   "cell_type": "code",
   "execution_count": 20,
   "metadata": {},
   "outputs": [
    {
     "name": "stdout",
     "output_type": "stream",
     "text": [
      "[2, 4, 5, 6, 7]\n"
     ]
    }
   ],
   "source": [
    "io = []\n",
    "inorder(head)\n",
    "print(io)"
   ]
  },
  {
   "cell_type": "code",
   "execution_count": null,
   "metadata": {
    "collapsed": true
   },
   "outputs": [],
   "source": []
  }
 ],
 "metadata": {
  "kernelspec": {
   "display_name": "Python 3",
   "language": "python",
   "name": "python3"
  },
  "language_info": {
   "codemirror_mode": {
    "name": "ipython",
    "version": 3
   },
   "file_extension": ".py",
   "mimetype": "text/x-python",
   "name": "python",
   "nbconvert_exporter": "python",
   "pygments_lexer": "ipython3",
   "version": "3.6.10"
  }
 },
 "nbformat": 4,
 "nbformat_minor": 2
}
