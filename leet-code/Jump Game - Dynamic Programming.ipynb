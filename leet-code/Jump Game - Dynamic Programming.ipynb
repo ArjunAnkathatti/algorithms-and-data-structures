{
 "cells": [
  {
   "cell_type": "markdown",
   "metadata": {},
   "source": [
    "### Jump Game\n",
    "Given an array of non-negative integers, you are initially positioned at the first index of the array.\n",
    "\n",
    "Each element in the array represents your maximum jump length at that position.\n",
    "\n",
    "Determine if you are able to reach the last index.\n",
    "\n",
    "#### Example 01:\n",
    "Input: nums = [2,3,1,1,4]\n",
    "Output: true\n",
    "Explanation: Jump 1 step from index 0 to 1, then 3 steps to the last index.\n",
    "\n",
    "#### Example 02:\n",
    "Input: nums = [3,2,1,0,4]\n",
    "Output: false\n",
    "Explanation: You will always arrive at index 3 no matter what. Its maximum jump length is 0, which makes it impossible to reach the last index."
   ]
  },
  {
   "cell_type": "markdown",
   "metadata": {
    "collapsed": true
   },
   "source": [
    "### Solution 01 - Using Backtracking and recursion\n",
    "-> Traverse all the nodes from the begining to the end\n",
    "-> At each position take all the possible jumps we can make from that position\n",
    "-> Check if any of the these possible jumps can in turn lead us to the end\n",
    "-> If Yes then return true \n",
    "-> Repeat this till the end of the array\n",
    "\n",
    "We can use recursion to solve this problem. At each postion recursively call if position reachable from the current position intrun lead us to the end.\n"
   ]
  },
  {
   "cell_type": "code",
   "execution_count": 14,
   "metadata": {
    "collapsed": true
   },
   "outputs": [],
   "source": [
    "# accepts list of nums and return a boolean\n",
    "def canJump(nums) -> bool:\n",
    "        return canJumpToEnd(nums, 0)\n",
    "\n",
    "# check if end is reachable from the specified position\n",
    "# this is a recursive call \n",
    "def canJumpToEnd(nums, position):\n",
    "    # base case - when the specificed position is the end position then we return true\n",
    "    # base case - no matter the value in the last position, it is reachable to itself \n",
    "    # so when the poistion is the last poistion, return true\n",
    "    if (position >= len(nums) -1):\n",
    "        return True\n",
    "    \n",
    "    farthestJump = min(position + nums[position], len(nums) -1)\n",
    "    # iterate through all possible jumps and see if any one of them can reach to the end\n",
    "    for nextPosition in range(position+1, farthestJump + 1):\n",
    "        # when one of the jumps can read end then return true\n",
    "        if (canJumpToEnd(nums, nextPosition)):\n",
    "            return True\n",
    "        \n",
    "    # when none of the jumps form the current position can reach the end \n",
    "    # then return false\n",
    "    return False"
   ]
  },
  {
   "cell_type": "code",
   "execution_count": 15,
   "metadata": {},
   "outputs": [
    {
     "name": "stdout",
     "output_type": "stream",
     "text": [
      "Should return Ture\n"
     ]
    },
    {
     "data": {
      "text/plain": [
       "True"
      ]
     },
     "execution_count": 15,
     "metadata": {},
     "output_type": "execute_result"
    }
   ],
   "source": [
    "nums = [2,3,1,1,4] \n",
    "print(\"Should return Ture\")\n",
    "canJump(nums)"
   ]
  },
  {
   "cell_type": "code",
   "execution_count": 16,
   "metadata": {},
   "outputs": [
    {
     "name": "stdout",
     "output_type": "stream",
     "text": [
      "Should return False\n"
     ]
    },
    {
     "data": {
      "text/plain": [
       "False"
      ]
     },
     "execution_count": 16,
     "metadata": {},
     "output_type": "execute_result"
    }
   ],
   "source": [
    "nums = [3,2,1,0,4]\n",
    "print(\"Should return False\")\n",
    "canJump(nums)"
   ]
  },
  {
   "cell_type": "markdown",
   "metadata": {
    "collapsed": true
   },
   "source": [
    "### Solution 02 - Using Memoization\n",
    "Will update the bactracking algorithm to stroe the values or the nodes that are visited so that we don't call the recursion more than once on that position."
   ]
  },
  {
   "cell_type": "code",
   "execution_count": 33,
   "metadata": {
    "collapsed": true
   },
   "outputs": [],
   "source": [
    "from enum import Enum\n",
    "class Index(Enum):\n",
    "    UNKNOWN = 0\n",
    "    GOOD = 1\n",
    "    BAD = -1"
   ]
  },
  {
   "cell_type": "code",
   "execution_count": 34,
   "metadata": {},
   "outputs": [],
   "source": [
    "memo = []\n",
    "# 0 = UNKNOWN\n",
    "# 1 = GOOD\n",
    "# -1 = BAD\n",
    "# accepts list of nums and return a boolean\n",
    "def canJump(nums) -> bool:\n",
    "    memo.clear()\n",
    "    for i in range(len(nums)):\n",
    "        memo.append(Index.UNKNOWN)\n",
    "    memo[len(nums)-1] = Index.GOOD\n",
    "    print(memo)\n",
    "    \n",
    "    return canJumpToEnd(nums, 0)\n",
    "\n",
    "def canJumpToEnd(nums, position):\n",
    "    if (memo[position] != Index.UNKNOWN):\n",
    "        if memo[position] == Index.GOOD:\n",
    "            return True\n",
    "        else:\n",
    "            return False\n",
    "    \n",
    "    farthestJump = min(position + nums[position], len(nums) -1)\n",
    "    for nextPosition in range(position+1, farthestJump+1):\n",
    "        if(canJumpToEnd(nums, nextPosition)):\n",
    "            memo[position] = 1\n",
    "            return True\n",
    "    \n",
    "    memo[position] = Index.BAD\n",
    "    return False\n",
    "        "
   ]
  },
  {
   "cell_type": "code",
   "execution_count": 35,
   "metadata": {},
   "outputs": [
    {
     "name": "stdout",
     "output_type": "stream",
     "text": [
      "Should return Ture\n",
      "[<Index.UNKNOWN: 0>, <Index.UNKNOWN: 0>, <Index.UNKNOWN: 0>, <Index.UNKNOWN: 0>, <Index.GOOD: 1>]\n"
     ]
    },
    {
     "data": {
      "text/plain": [
       "True"
      ]
     },
     "execution_count": 35,
     "metadata": {},
     "output_type": "execute_result"
    }
   ],
   "source": [
    "nums = [2,3,1,1,4] \n",
    "print(\"Should return Ture\")\n",
    "canJump(nums)"
   ]
  },
  {
   "cell_type": "code",
   "execution_count": 36,
   "metadata": {},
   "outputs": [
    {
     "name": "stdout",
     "output_type": "stream",
     "text": [
      "Should return False\n",
      "[<Index.UNKNOWN: 0>, <Index.UNKNOWN: 0>, <Index.UNKNOWN: 0>, <Index.UNKNOWN: 0>, <Index.GOOD: 1>]\n"
     ]
    },
    {
     "data": {
      "text/plain": [
       "False"
      ]
     },
     "execution_count": 36,
     "metadata": {},
     "output_type": "execute_result"
    }
   ],
   "source": [
    "nums = [3,2,1,0,4]\n",
    "print(\"Should return False\")\n",
    "canJump(nums)"
   ]
  },
  {
   "cell_type": "markdown",
   "metadata": {},
   "source": [
    "### Solution 03: Using Bottom-Up Approach\n",
    "Eliminate recursion and use loops instead. Use bottom-up approach to convert recursion to normal loop.\n",
    "\n",
    "This will be similar to the memoization but the only different is instead of parsing the array from left to right we will be traversing the array from right to left. At any give point, the index right to the current index is already calculated and store in the memo array."
   ]
  },
  {
   "cell_type": "code",
   "execution_count": 39,
   "metadata": {
    "collapsed": true
   },
   "outputs": [],
   "source": [
    "memo = []\n",
    "def canJump(nums):\n",
    "    memo.clear()\n",
    "    for i in range(len(nums)):\n",
    "        memo.append(Index.UNKNOWN)\n",
    "    memo[len(nums)-1] = Index.GOOD\n",
    "    \n",
    "    position = len(nums) - 2\n",
    "    while(position >= 0):\n",
    "        farthestJump = min(position + nums[position], len(nums) -1)\n",
    "        for nextPosition in range(position +1, farthestJump +1):\n",
    "            if (memo[nextPosition] == Index.GOOD):\n",
    "                memo[position] = Index.GOOD\n",
    "                break\n",
    "        position -= 1\n",
    "        \n",
    "    return memo[0] == Index.GOOD\n",
    "    "
   ]
  },
  {
   "cell_type": "code",
   "execution_count": 40,
   "metadata": {},
   "outputs": [
    {
     "name": "stdout",
     "output_type": "stream",
     "text": [
      "Should return Ture\n"
     ]
    },
    {
     "data": {
      "text/plain": [
       "True"
      ]
     },
     "execution_count": 40,
     "metadata": {},
     "output_type": "execute_result"
    }
   ],
   "source": [
    "nums = [2,3,1,1,4] \n",
    "print(\"Should return Ture\")\n",
    "canJump(nums)"
   ]
  },
  {
   "cell_type": "code",
   "execution_count": 41,
   "metadata": {},
   "outputs": [
    {
     "name": "stdout",
     "output_type": "stream",
     "text": [
      "Should return False\n"
     ]
    },
    {
     "data": {
      "text/plain": [
       "False"
      ]
     },
     "execution_count": 41,
     "metadata": {},
     "output_type": "execute_result"
    }
   ],
   "source": [
    "nums = [3,2,1,0,4]\n",
    "print(\"Should return False\")\n",
    "canJump(nums)"
   ]
  },
  {
   "cell_type": "markdown",
   "metadata": {},
   "source": [
    "### Solution 04: Using Greedy Algorithm"
   ]
  },
  {
   "cell_type": "code",
   "execution_count": 30,
   "metadata": {
    "collapsed": true
   },
   "outputs": [],
   "source": [
    "def canJump(nums):\n",
    "    # last position is the variable which indicates the last reachable position from the right side of the list\n",
    "    # at start we initialilze this to last index to indicate that it is the last reachable\n",
    "    lastPosition = len(nums) - 1\n",
    "    \n",
    "    # start iterating from the last but one position and check if the that position is able to reach the end\n",
    "    # if so then update the last position to the current postion to indicate that the current position is the\n",
    "    # previous position from which we could have reached the end\n",
    "    index = len(nums) - 2\n",
    "    while(index >= 0):\n",
    "        if index + nums[index] >= lastPosition:\n",
    "            lastPosition = index\n",
    "        index -= 1\n",
    "    \n",
    "    return lastPosition == 0"
   ]
  },
  {
   "cell_type": "code",
   "execution_count": 31,
   "metadata": {},
   "outputs": [
    {
     "name": "stdout",
     "output_type": "stream",
     "text": [
      "Should return Ture\n"
     ]
    },
    {
     "data": {
      "text/plain": [
       "True"
      ]
     },
     "execution_count": 31,
     "metadata": {},
     "output_type": "execute_result"
    }
   ],
   "source": [
    "nums = [2,3,1,1,4] \n",
    "print(\"Should return Ture\")\n",
    "canJump(nums)"
   ]
  },
  {
   "cell_type": "code",
   "execution_count": 32,
   "metadata": {},
   "outputs": [
    {
     "name": "stdout",
     "output_type": "stream",
     "text": [
      "Should return False\n"
     ]
    },
    {
     "data": {
      "text/plain": [
       "False"
      ]
     },
     "execution_count": 32,
     "metadata": {},
     "output_type": "execute_result"
    }
   ],
   "source": [
    "nums = [3,2,1,0,4]\n",
    "print(\"Should return False\")\n",
    "canJump(nums)"
   ]
  },
  {
   "cell_type": "code",
   "execution_count": null,
   "metadata": {
    "collapsed": true
   },
   "outputs": [],
   "source": []
  }
 ],
 "metadata": {
  "kernelspec": {
   "display_name": "Python 3",
   "language": "python",
   "name": "python3"
  },
  "language_info": {
   "codemirror_mode": {
    "name": "ipython",
    "version": 3
   },
   "file_extension": ".py",
   "mimetype": "text/x-python",
   "name": "python",
   "nbconvert_exporter": "python",
   "pygments_lexer": "ipython3",
   "version": "3.6.10"
  }
 },
 "nbformat": 4,
 "nbformat_minor": 2
}
