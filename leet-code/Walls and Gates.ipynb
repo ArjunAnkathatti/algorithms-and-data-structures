{
 "cells": [
  {
   "cell_type": "markdown",
   "metadata": {},
   "source": [
    "### Walls and Gates\n",
    "<pre>\n",
    "You are given a m x n 2D grid initialized with these three possible values.\n",
    "\n",
    "-1 - A wall or an obstacle.\n",
    "0 - A gate.\n",
    "INF - Infinity means an empty room. We use the value 231 - 1 = 2147483647 to represent INF as you may assume that the distance to a gate is less than 2147483647.\n",
    "Fill each empty room with the distance to its nearest gate. If it is impossible to reach a gate, it should be filled with INF.\n",
    "\n",
    "Example: \n",
    "\n",
    "Given the 2D grid:\n",
    "\n",
    "INF  -1  0  INF\n",
    "INF INF INF  -1\n",
    "INF  -1 INF  -1\n",
    "  0  -1 INF INF\n",
    "    \n",
    "After running your function, the 2D grid should be:\n",
    "\n",
    "  3  -1   0   1\n",
    "  2   2   1  -1\n",
    "  1  -1   2  -1\n",
    "  0  -1   3   4\n",
    "</pre>"
   ]
  },
  {
   "cell_type": "markdown",
   "metadata": {},
   "source": [
    "### Solution 01 - BFS\n",
    "<pre>\n",
    "Since we start updating the values from all the zeros, a cell's value will be updated by the nearest gate.\n",
    "Step 01: Add all the zeros to the queue.\n",
    "Step 02: \n",
    "-> For each cell in the queue, reach to empty cells from the current cell and update the distance of the empty cell. \n",
    "-> Add the new cell to the queue.\n",
    "<pre>"
   ]
  },
  {
   "cell_type": "code",
   "execution_count": 24,
   "metadata": {},
   "outputs": [],
   "source": [
    "from typing import List\n",
    "from collections import deque\n",
    "def wallsAndGates(rooms: List[List[int]]) -> None:\n",
    "    EMPTY = 2**31 -1 \n",
    "    GATE = 0\n",
    "    \n",
    "    M = len(rooms)\n",
    "    if M == 0:\n",
    "        return\n",
    "    N = len(rooms[0])\n",
    "    \n",
    "    q = deque()\n",
    "    # add all the zeros in the rooms to the queue\n",
    "    for row in range(M):\n",
    "        for col in range(N):\n",
    "            if rooms[row][col] == GATE:\n",
    "                q.append((row, col))\n",
    "    \n",
    "    \n",
    "    # start updating the neighbors of the zeros\n",
    "    while q:\n",
    "        cur_row, cur_col = q.popleft()\n",
    "        for new_row, new_col in [(cur_row+1, cur_col), (cur_row -1, cur_col), (cur_row, cur_col+1), (cur_row, cur_col-1)]:\n",
    "            if 0 <= new_row < M and 0 <= new_col < N and rooms[new_row][new_col] == EMPTY:\n",
    "                # update the distance of the neighbor \n",
    "                rooms[new_row][new_col] = rooms[cur_row][cur_col] + 1\n",
    "                # add neighbor to the queue so that we can update it's neighbors\n",
    "                q.append((new_row, new_col))\n",
    "    "
   ]
  },
  {
   "cell_type": "code",
   "execution_count": 25,
   "metadata": {
    "collapsed": true
   },
   "outputs": [],
   "source": [
    "def prettyPrint(rooms):\n",
    "    for row in rooms:\n",
    "        print([ x if x != 2**31 -1 else \"INF\" for x in row])"
   ]
  },
  {
   "cell_type": "code",
   "execution_count": 26,
   "metadata": {},
   "outputs": [
    {
     "name": "stdout",
     "output_type": "stream",
     "text": [
      "['INF', -1, 0, 'INF']\n",
      "['INF', 'INF', 'INF', -1]\n",
      "['INF', -1, 'INF', -1]\n",
      "[0, -1, 'INF', 'INF']\n"
     ]
    }
   ],
   "source": [
    "rooms = [[2147483647,-1,0,2147483647],[2147483647,2147483647,2147483647,-1],[2147483647,-1,2147483647,-1],[0,-1,2147483647,2147483647]]\n",
    "prettyPrint(rooms)"
   ]
  },
  {
   "cell_type": "code",
   "execution_count": 27,
   "metadata": {},
   "outputs": [
    {
     "name": "stdout",
     "output_type": "stream",
     "text": [
      "[3, -1, 0, 1]\n",
      "[2, 2, 1, -1]\n",
      "[1, -1, 2, -1]\n",
      "[0, -1, 3, 4]\n"
     ]
    }
   ],
   "source": [
    "wallsAndGates(rooms)\n",
    "prettyPrint(rooms)"
   ]
  },
  {
   "cell_type": "code",
   "execution_count": null,
   "metadata": {
    "collapsed": true
   },
   "outputs": [],
   "source": []
  }
 ],
 "metadata": {
  "kernelspec": {
   "display_name": "Python 3",
   "language": "python",
   "name": "python3"
  },
  "language_info": {
   "codemirror_mode": {
    "name": "ipython",
    "version": 3
   },
   "file_extension": ".py",
   "mimetype": "text/x-python",
   "name": "python",
   "nbconvert_exporter": "python",
   "pygments_lexer": "ipython3",
   "version": "3.6.10"
  }
 },
 "nbformat": 4,
 "nbformat_minor": 2
}
