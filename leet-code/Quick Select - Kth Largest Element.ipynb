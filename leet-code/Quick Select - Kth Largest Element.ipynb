{
 "cells": [
  {
   "cell_type": "code",
   "execution_count": 12,
   "metadata": {
    "collapsed": true
   },
   "outputs": [],
   "source": [
    "from random import random, randint"
   ]
  },
  {
   "cell_type": "code",
   "execution_count": 17,
   "metadata": {
    "collapsed": true
   },
   "outputs": [],
   "source": [
    "def partition(nums, left, right):\n",
    "    pivot_index = randint(left, right)\n",
    "    pivot = nums[pivot_index]\n",
    "    i = left\n",
    "    j = left\n",
    "    nums[pivot_index], nums[right] = nums[right], nums[pivot_index]\n",
    "    while(j<right):\n",
    "        if nums[j] < pivot:\n",
    "            nums[i], nums[j] = nums[j], nums[i]\n",
    "            i += 1\n",
    "        j += 1\n",
    "    nums[i], nums[right] = nums[right], nums[i]\n",
    "    return i"
   ]
  },
  {
   "cell_type": "code",
   "execution_count": 37,
   "metadata": {
    "collapsed": true
   },
   "outputs": [],
   "source": [
    "def selectKth(nums, k):\n",
    "    pi = 0\n",
    "    left = 0\n",
    "    right = len(nums) -1\n",
    "    while(pi != len(nums) - k):\n",
    "        pi = partition(nums, left, right)\n",
    "        \n",
    "    return nums[len(nums) - k]"
   ]
  },
  {
   "cell_type": "code",
   "execution_count": 39,
   "metadata": {},
   "outputs": [
    {
     "data": {
      "text/plain": [
       "5"
      ]
     },
     "execution_count": 39,
     "metadata": {},
     "output_type": "execute_result"
    }
   ],
   "source": [
    "nums = [3, 2, 1, 5, 6, 4]\n",
    "k = 2    \n",
    "selectKth(nums, 2)"
   ]
  },
  {
   "cell_type": "code",
   "execution_count": null,
   "metadata": {
    "collapsed": true
   },
   "outputs": [],
   "source": []
  }
 ],
 "metadata": {
  "kernelspec": {
   "display_name": "Python 3",
   "language": "python",
   "name": "python3"
  },
  "language_info": {
   "codemirror_mode": {
    "name": "ipython",
    "version": 3
   },
   "file_extension": ".py",
   "mimetype": "text/x-python",
   "name": "python",
   "nbconvert_exporter": "python",
   "pygments_lexer": "ipython3",
   "version": "3.6.10"
  }
 },
 "nbformat": 4,
 "nbformat_minor": 2
}
