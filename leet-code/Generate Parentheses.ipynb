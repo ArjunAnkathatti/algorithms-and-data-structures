{
 "cells": [
  {
   "cell_type": "markdown",
   "metadata": {},
   "source": [
    "### Generate Parentheses\n",
    "Given n pairs of parentheses, write a function to generate all combinations of well-formed parentheses.\n",
    "<br>\n",
    "<br>\n",
    "For example, given n = 3, a solution set is:\n",
    "<br>\n",
    "[\n",
    "<br>\n",
    "  \"((()))\",<br>\n",
    "  \"(()())\",<br>\n",
    "  \"(())()\",<br>\n",
    "  \"()(())\",<br>\n",
    "  \"()()()\"<br>\n",
    "]<br>\n",
    "<br>"
   ]
  },
  {
   "cell_type": "markdown",
   "metadata": {},
   "source": [
    "### Solution 01 - Brute Force\n",
    "We can generate all 2^{2n} sequences of '(' and ')' characters. Then, we will check if each one is valid."
   ]
  },
  {
   "cell_type": "code",
   "execution_count": 28,
   "metadata": {
    "collapsed": true
   },
   "outputs": [],
   "source": [
    "def generateParenthesis(n):\n",
    "    def generate(A=[]):\n",
    "        # when the length of the array is equal to 2*n we check if the sequence is valid or not\n",
    "        if len(A) == n*2:\n",
    "            if isValid(A):\n",
    "                ans.append(\"\".join(A))\n",
    "            else:\n",
    "                # invalid combination\n",
    "                pass \n",
    "        else:\n",
    "            A.append(\"(\")\n",
    "            generate(A)\n",
    "            A.pop()\n",
    "            \n",
    "            A.append(\")\")\n",
    "            generate(A)\n",
    "            A.pop()\n",
    "    \n",
    "    def isValid(A):\n",
    "        bal = 0\n",
    "        for c in A:\n",
    "            if c == \"(\":\n",
    "                bal += 1\n",
    "            else:\n",
    "                bal -= 1\n",
    "            if bal < 0: return False\n",
    "            \n",
    "        return bal == 0\n",
    "    \n",
    "    ans = []\n",
    "    generate()\n",
    "    return ans\n",
    "        "
   ]
  },
  {
   "cell_type": "code",
   "execution_count": 29,
   "metadata": {},
   "outputs": [
    {
     "data": {
      "text/plain": [
       "['(())', '()()']"
      ]
     },
     "execution_count": 29,
     "metadata": {},
     "output_type": "execute_result"
    }
   ],
   "source": [
    "generateParenthesis(2)"
   ]
  },
  {
   "cell_type": "code",
   "execution_count": 30,
   "metadata": {},
   "outputs": [
    {
     "data": {
      "text/plain": [
       "['((()))', '(()())', '(())()', '()(())', '()()()']"
      ]
     },
     "execution_count": 30,
     "metadata": {},
     "output_type": "execute_result"
    }
   ],
   "source": [
    "generateParenthesis(3)"
   ]
  },
  {
   "cell_type": "code",
   "execution_count": 31,
   "metadata": {},
   "outputs": [
    {
     "data": {
      "text/plain": [
       "['(((())))',\n",
       " '((()()))',\n",
       " '((())())',\n",
       " '((()))()',\n",
       " '(()(()))',\n",
       " '(()()())',\n",
       " '(()())()',\n",
       " '(())(())',\n",
       " '(())()()',\n",
       " '()((()))',\n",
       " '()(()())',\n",
       " '()(())()',\n",
       " '()()(())',\n",
       " '()()()()']"
      ]
     },
     "execution_count": 31,
     "metadata": {},
     "output_type": "execute_result"
    }
   ],
   "source": [
    "generateParenthesis(4)"
   ]
  },
  {
   "cell_type": "markdown",
   "metadata": {},
   "source": [
    "### Solution 02 - BackTracking \n",
    "Instead of blindly adding __\"(\"__ or __\")\"__ to the array as we did in solution 1, we can add based on few conditions.\n",
    "<br>\n",
    "01: We can only add 2*n symbols and out of which n has to be __\"(\"__ and other half has to be __\")\"__\n",
    "<br>\n",
    "02: We can add a closing brace before adding a opening brace.\n",
    "<br>\n",
    "At each step we can append a opening bracket if they are still left and we can appedn a closing bracket if the length of the string is less than 2*n.\n",
    "<br><br>\n",
    "Essentially, all backtracking problems will have three parts, \n",
    "<br>\n",
    "1. __Choice__: We can either add opening bracket or closing bracket.\n",
    "<br>\n",
    "2. __Constraint__: We cannot add a closing bracket without first adding a opening bracket and also we can add more than 2*n number of brackets.\n",
    "<br>\n",
    "3. __Goal__: Goal is to add 2*n brackets\n",
    "<br>\n",
    "If we follow these rules and reach the goal then we have formed a valid combination of brackets.\n",
    "<br>\n",
    "<br>\n",
    "We can implement this backtracking by keeping count of opening and closing brackets."
   ]
  },
  {
   "cell_type": "code",
   "execution_count": 38,
   "metadata": {
    "collapsed": true
   },
   "outputs": [],
   "source": [
    "def generateParenthesis(n):\n",
    "    def backtrack(S, left, right):\n",
    "        if len(S) == 2*n:\n",
    "            ans.append(S)\n",
    "        \n",
    "        if left < n:\n",
    "            backtrack(S+\"(\", left+1, right)\n",
    "        # we have to make sure that we only add right when there is already a left is added \n",
    "        if right < left:\n",
    "            backtrack(S+\")\", left, right +1)\n",
    "        \n",
    "    ans = []\n",
    "    backtrack(\"\", 0, 0)\n",
    "    return ans"
   ]
  },
  {
   "cell_type": "code",
   "execution_count": 39,
   "metadata": {},
   "outputs": [
    {
     "data": {
      "text/plain": [
       "['(())', '()()']"
      ]
     },
     "execution_count": 39,
     "metadata": {},
     "output_type": "execute_result"
    }
   ],
   "source": [
    "generateParenthesis(2)"
   ]
  },
  {
   "cell_type": "code",
   "execution_count": null,
   "metadata": {
    "collapsed": true
   },
   "outputs": [],
   "source": []
  }
 ],
 "metadata": {
  "kernelspec": {
   "display_name": "Python 3",
   "language": "python",
   "name": "python3"
  },
  "language_info": {
   "codemirror_mode": {
    "name": "ipython",
    "version": 3
   },
   "file_extension": ".py",
   "mimetype": "text/x-python",
   "name": "python",
   "nbconvert_exporter": "python",
   "pygments_lexer": "ipython3",
   "version": "3.6.10"
  }
 },
 "nbformat": 4,
 "nbformat_minor": 2
}
