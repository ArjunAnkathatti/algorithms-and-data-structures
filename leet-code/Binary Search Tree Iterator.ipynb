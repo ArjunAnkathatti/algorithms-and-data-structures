{
 "cells": [
  {
   "cell_type": "markdown",
   "metadata": {},
   "source": [
    "### Binary Search Tree Iterator\n",
    "<pre>\n",
    "Implement an iterator over a binary search tree (BST). Your iterator will be initialized with the root node of a BST.\n",
    "\n",
    "Calling next() will return the next smallest number in the BST.\n",
    "Example:\n",
    "\n",
    "   7\n",
    " /   \\\n",
    "3    15\n",
    "   /   \\\n",
    "  9    20\n",
    "  \n",
    " BSTIterator iterator = new BSTIterator(root);\n",
    "iterator.next();    // return 3\n",
    "iterator.next();    // return 7\n",
    "iterator.hasNext(); // return true\n",
    "iterator.next();    // return 9\n",
    "iterator.hasNext(); // return true\n",
    "iterator.next();    // return 15\n",
    "iterator.hasNext(); // return true\n",
    "iterator.next();    // return 20\n",
    "iterator.hasNext(); // return false\n",
    "</pre>\n",
    "\n",
    "__next()__ and __hasNext()__ should run in average __O(1)__ time and uses __O(h)__ memory, where h is the height of the tree.\n",
    "<br>\n",
    "You may assume that __next()__ call will always be valid, that is, there will be at least a next smallest number in the BST when __next()__ is called."
   ]
  },
  {
   "cell_type": "markdown",
   "metadata": {},
   "source": [
    "### Solution 01 - Inorder Traversal with O(N) space\n",
    "We will have an array or queue to store the nodes in-order fashion. "
   ]
  },
  {
   "cell_type": "code",
   "execution_count": 17,
   "metadata": {
    "collapsed": true
   },
   "outputs": [],
   "source": [
    "from collections import deque\n",
    "class TreeNode:\n",
    "    def __init__(self, val):\n",
    "        self.val = val\n",
    "        self.left = None\n",
    "        self.right = None\n",
    "        \n",
    "class BSTIterator1:\n",
    "    def __init__(self, root: TreeNode):\n",
    "        self.ms = deque()\n",
    "        \n",
    "        # iterative in-order call to populate ms (min-stack)\n",
    "        stack = deque()\n",
    "        cur = root\n",
    "        while cur or stack:\n",
    "            while cur:\n",
    "                stack.append(cur)\n",
    "                cur = cur.left\n",
    "            \n",
    "            cur = stack.pop()\n",
    "            self.ms.append(cur.val)\n",
    "            cur = cur.right\n",
    "    \n",
    "    def next(self):\n",
    "        return self.ms.popleft()\n",
    "    \n",
    "    def hasNext(self):\n",
    "        # while minstack has some nodes\n",
    "        return bool(self.ms)"
   ]
  },
  {
   "cell_type": "markdown",
   "metadata": {},
   "source": [
    "### Solution 02 - Using Custom Stack and controlled inorder. \n",
    "Space complexity O(H) H = height of the tree "
   ]
  },
  {
   "cell_type": "code",
   "execution_count": 18,
   "metadata": {
    "collapsed": true
   },
   "outputs": [],
   "source": [
    "class BSTIterator2:\n",
    "    def __init__(self, root: TreeNode):\n",
    "        self.stack = deque()\n",
    "        self.__inorder_left(root)\n",
    "        \n",
    "    def __inorder_left(self, root):\n",
    "        while root:\n",
    "            self.stack.append(root)\n",
    "            root = root.left\n",
    "    \n",
    "    def next(self):\n",
    "        ans = self.stack.pop()\n",
    "        self.__inorder_left(ans.right)\n",
    "        return ans.val\n",
    "    \n",
    "    def hasNext(self):\n",
    "        # while minstack has some nodes\n",
    "        return bool(self.stack)"
   ]
  },
  {
   "cell_type": "code",
   "execution_count": 19,
   "metadata": {
    "collapsed": true
   },
   "outputs": [],
   "source": [
    "head = TreeNode(7)\n",
    "head.left = TreeNode(3)\n",
    "head.right = TreeNode(15)"
   ]
  },
  {
   "cell_type": "code",
   "execution_count": 20,
   "metadata": {},
   "outputs": [],
   "source": [
    "bst1 = BSTIterator1(head)\n",
    "bst2 = BSTIterator1(head)"
   ]
  },
  {
   "cell_type": "code",
   "execution_count": 21,
   "metadata": {},
   "outputs": [
    {
     "name": "stdout",
     "output_type": "stream",
     "text": [
      "True\n",
      "True\n"
     ]
    }
   ],
   "source": [
    "print(bst1.hasNext())\n",
    "print(bst2.hasNext())"
   ]
  },
  {
   "cell_type": "code",
   "execution_count": 22,
   "metadata": {},
   "outputs": [
    {
     "name": "stdout",
     "output_type": "stream",
     "text": [
      "3\n",
      "3\n"
     ]
    }
   ],
   "source": [
    "print(bst1.next())\n",
    "print(bst2.next())"
   ]
  },
  {
   "cell_type": "code",
   "execution_count": 23,
   "metadata": {},
   "outputs": [
    {
     "name": "stdout",
     "output_type": "stream",
     "text": [
      "True\n",
      "True\n"
     ]
    }
   ],
   "source": [
    "print(bst1.hasNext())\n",
    "print(bst2.hasNext())"
   ]
  },
  {
   "cell_type": "code",
   "execution_count": 24,
   "metadata": {},
   "outputs": [
    {
     "name": "stdout",
     "output_type": "stream",
     "text": [
      "7\n",
      "7\n"
     ]
    }
   ],
   "source": [
    "print(bst1.next())\n",
    "print(bst2.next())"
   ]
  },
  {
   "cell_type": "code",
   "execution_count": 25,
   "metadata": {},
   "outputs": [
    {
     "name": "stdout",
     "output_type": "stream",
     "text": [
      "True\n",
      "True\n"
     ]
    }
   ],
   "source": [
    "print(bst1.hasNext())\n",
    "print(bst2.hasNext())"
   ]
  },
  {
   "cell_type": "code",
   "execution_count": 26,
   "metadata": {},
   "outputs": [
    {
     "name": "stdout",
     "output_type": "stream",
     "text": [
      "15\n",
      "15\n"
     ]
    }
   ],
   "source": [
    "print(bst1.next())\n",
    "print(bst2.next())"
   ]
  },
  {
   "cell_type": "code",
   "execution_count": 27,
   "metadata": {},
   "outputs": [
    {
     "name": "stdout",
     "output_type": "stream",
     "text": [
      "False\n",
      "False\n"
     ]
    }
   ],
   "source": [
    "print(bst1.hasNext())\n",
    "print(bst2.hasNext())"
   ]
  }
 ],
 "metadata": {
  "kernelspec": {
   "display_name": "Python 3",
   "language": "python",
   "name": "python3"
  },
  "language_info": {
   "codemirror_mode": {
    "name": "ipython",
    "version": 3
   },
   "file_extension": ".py",
   "mimetype": "text/x-python",
   "name": "python",
   "nbconvert_exporter": "python",
   "pygments_lexer": "ipython3",
   "version": "3.6.10"
  }
 },
 "nbformat": 4,
 "nbformat_minor": 2
}
