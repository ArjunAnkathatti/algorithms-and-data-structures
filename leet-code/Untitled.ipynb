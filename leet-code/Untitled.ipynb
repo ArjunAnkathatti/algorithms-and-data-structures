{
 "cells": [
  {
   "cell_type": "markdown",
   "metadata": {},
   "source": [
    "### Median of Two Sorted Arrays\n",
    "https://youtu.be/LPFhl65R7ww"
   ]
  },
  {
   "cell_type": "code",
   "execution_count": 24,
   "metadata": {
    "collapsed": true
   },
   "outputs": [],
   "source": [
    "def findMedian(X, Y):\n",
    "    # check the length of the array \n",
    "    # to make sure length of X is alwasy less than lenght of Y\n",
    "    if (len(X) > len(Y)):\n",
    "        return findMedian(Y, X)\n",
    "    \n",
    "    x = len(X)\n",
    "    y = len(Y)\n",
    "    \n",
    "    start = 0 \n",
    "    end = x\n",
    "    \n",
    "    while start <= end:\n",
    "        px = (start + end) // 2\n",
    "        py = (x + y + 1) // 2 - px\n",
    "        \n",
    "        maxLeftX = X[px-1] if px > 0 else -2**31-1\n",
    "        minRightX = X[px] if px < x else 2**31\n",
    "        \n",
    "        maxLeftY = Y[py-1] if py > 0 else -2**31-1\n",
    "        minRightY = Y[py] if py < y else 2**31\n",
    "        \n",
    "        if (max(maxLeftX, maxLeftY) <= min(minRightX, minRightY)):\n",
    "            # we found the answer\n",
    "            if (x+y) % 2 == 0:\n",
    "                return (max(maxLeftX, maxLeftY) + min(minRightX, minRightY)) / 2\n",
    "            else:\n",
    "                return max(maxLeftX, maxLeftY)\n",
    "        elif maxLeftX > minRightY:\n",
    "            end = px - 1\n",
    "        else:\n",
    "            start = px + 1\n",
    "        "
   ]
  },
  {
   "cell_type": "code",
   "execution_count": 27,
   "metadata": {
    "collapsed": true
   },
   "outputs": [],
   "source": [
    "X = [1,3,7,8,9,15]\n",
    "Y = [7,11,19,21,25]"
   ]
  },
  {
   "cell_type": "code",
   "execution_count": 28,
   "metadata": {},
   "outputs": [
    {
     "name": "stdout",
     "output_type": "stream",
     "text": [
      "9\n"
     ]
    }
   ],
   "source": [
    "print(findMedian(X, Y))"
   ]
  },
  {
   "cell_type": "code",
   "execution_count": null,
   "metadata": {
    "collapsed": true
   },
   "outputs": [],
   "source": []
  }
 ],
 "metadata": {
  "kernelspec": {
   "display_name": "Python 3",
   "language": "python",
   "name": "python3"
  },
  "language_info": {
   "codemirror_mode": {
    "name": "ipython",
    "version": 3
   },
   "file_extension": ".py",
   "mimetype": "text/x-python",
   "name": "python",
   "nbconvert_exporter": "python",
   "pygments_lexer": "ipython3",
   "version": "3.6.10"
  }
 },
 "nbformat": 4,
 "nbformat_minor": 2
}
