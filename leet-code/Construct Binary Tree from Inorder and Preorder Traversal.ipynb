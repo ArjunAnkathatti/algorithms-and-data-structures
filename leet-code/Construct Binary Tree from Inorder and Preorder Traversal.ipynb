{
 "cells": [
  {
   "cell_type": "markdown",
   "metadata": {},
   "source": [
    "### Construct Binary Tree from Inorder and Preorder Traversal"
   ]
  },
  {
   "cell_type": "code",
   "execution_count": 1,
   "metadata": {
    "collapsed": true
   },
   "outputs": [],
   "source": [
    "# Definition for a binary tree node.\n",
    "class TreeNode:\n",
    "    def __init__(self, val=0, left=None, right=None):\n",
    "        self.val = val\n",
    "        self.left = left\n",
    "        self.right = right"
   ]
  },
  {
   "cell_type": "code",
   "execution_count": 11,
   "metadata": {
    "collapsed": true
   },
   "outputs": [],
   "source": [
    "from typing import List\n",
    "def buildTree(preorder: List[int], inorder: List[int]) -> TreeNode:\n",
    "    # build the element and it's value from the inorder list\n",
    "    hs = {val:idx for idx,val in enumerate(inorder)}\n",
    "    \n",
    "    def helper(in_left, in_right):\n",
    "        if in_left > in_right:\n",
    "            return None\n",
    "        \n",
    "        first_val = preorder.pop(0)\n",
    "        root = TreeNode(first_val)\n",
    "        \n",
    "        root_idx = hs[first_val]\n",
    "        \n",
    "        root.left = helper(in_left, root_idx - 1)\n",
    "        root.right = helper(root_idx + 1, in_right)\n",
    "        \n",
    "        return root\n",
    "    \n",
    "    return helper(0, len(inorder)-1)"
   ]
  },
  {
   "cell_type": "code",
   "execution_count": 42,
   "metadata": {
    "collapsed": true
   },
   "outputs": [],
   "source": [
    "preorder = [3,9,20,15,7]\n",
    "inorder = [9,3,15,20,7]\n",
    "head = buildTree(preorder, inorder)"
   ]
  },
  {
   "cell_type": "code",
   "execution_count": 43,
   "metadata": {
    "collapsed": true
   },
   "outputs": [],
   "source": [
    "io = list()\n",
    "def inOrder(head):\n",
    "    if not head:\n",
    "        return \n",
    "    \n",
    "    inOrder(head.left)\n",
    "    io.append(head.val)\n",
    "    inOrder(head.right)\n",
    "    \n",
    "    return"
   ]
  },
  {
   "cell_type": "code",
   "execution_count": 44,
   "metadata": {},
   "outputs": [
    {
     "data": {
      "text/plain": [
       "[9, 3, 15, 20, 7]"
      ]
     },
     "execution_count": 44,
     "metadata": {},
     "output_type": "execute_result"
    }
   ],
   "source": [
    "inOrder(head)\n",
    "io"
   ]
  },
  {
   "cell_type": "code",
   "execution_count": null,
   "metadata": {
    "collapsed": true
   },
   "outputs": [],
   "source": []
  }
 ],
 "metadata": {
  "kernelspec": {
   "display_name": "Python 3",
   "language": "python",
   "name": "python3"
  },
  "language_info": {
   "codemirror_mode": {
    "name": "ipython",
    "version": 3
   },
   "file_extension": ".py",
   "mimetype": "text/x-python",
   "name": "python",
   "nbconvert_exporter": "python",
   "pygments_lexer": "ipython3",
   "version": "3.6.10"
  }
 },
 "nbformat": 4,
 "nbformat_minor": 2
}
