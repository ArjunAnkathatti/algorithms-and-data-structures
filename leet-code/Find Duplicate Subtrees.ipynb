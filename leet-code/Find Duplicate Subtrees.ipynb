{
 "cells": [
  {
   "cell_type": "markdown",
   "metadata": {},
   "source": [
    "### Find Duplicate Subtrees\n",
    "<pre>\n",
    "Given a binary tree, return all duplicate subtrees. For each kind of duplicate subtrees, you only need to return the root node of any one of them.\n",
    "\n",
    "Two trees are duplicate if they have the same structure with same node values.\n",
    "\n",
    "Example 1:\n",
    "\n",
    "        1\n",
    "       / \\\n",
    "      2   3\n",
    "     /   / \\\n",
    "    4   2   4\n",
    "       /\n",
    "      4\n",
    "The following are two duplicate subtrees:\n",
    "\n",
    "      2\n",
    "     /\n",
    "    4\n",
    "and\n",
    "\n",
    "    4\n",
    "Therefore, you need to return above trees' root in the form of a list.\n",
    "</pre>"
   ]
  },
  {
   "cell_type": "markdown",
   "metadata": {},
   "source": [
    "### Solution\n",
    "<pre>\n",
    "We will use HashMap to store nodes along with their identifier.\n",
    "Node identifier = node.val + identifier of left child + identifier of right child\n",
    "We will essentially have a recursion function which will serialize the node and generate the identifier. We can use one of the traversal like preorder to generate the identifier.\n",
    "</pre>"
   ]
  },
  {
   "cell_type": "code",
   "execution_count": 9,
   "metadata": {},
   "outputs": [],
   "source": [
    "from collections import Counter\n",
    "from typing import List\n",
    "\n",
    "# Definition for a binary tree node.\n",
    "class TreeNode:\n",
    "    def __init__(self, val=0, left=None, right=None):\n",
    "        self.val = val\n",
    "        self.left = left\n",
    "        self.right = right\n",
    "\n",
    "def findDuplicateSubtrees(root: TreeNode) -> List[TreeNode]:\n",
    "    count = Counter()\n",
    "    \n",
    "    res = []\n",
    "    def preorder(node):\n",
    "        if not node:\n",
    "            return \"#\"\n",
    "        \n",
    "        identifier = str(node.val) + preorder(node.left) + preorder(node.right)\n",
    "        \n",
    "        count[identifier] += 1\n",
    "        \n",
    "        if count[identifier] == 2:\n",
    "            res.append(node)\n",
    "        \n",
    "        return identifier\n",
    "    \n",
    "    preorder(root)\n",
    "    return res"
   ]
  },
  {
   "cell_type": "code",
   "execution_count": 13,
   "metadata": {
    "collapsed": true
   },
   "outputs": [],
   "source": [
    "head = TreeNode(1)\n",
    "head.left = TreeNode(2)\n",
    "head.right = TreeNode(3)\n",
    "\n",
    "head.left.left = TreeNode(4)\n",
    "\n",
    "head.right.left = TreeNode(2)\n",
    "head.right.left.left = TreeNode(4)\n",
    "head.right.right = TreeNode(4)"
   ]
  },
  {
   "cell_type": "code",
   "execution_count": 14,
   "metadata": {},
   "outputs": [],
   "source": [
    "ans = findDuplicateSubtrees(head)"
   ]
  },
  {
   "cell_type": "code",
   "execution_count": 15,
   "metadata": {},
   "outputs": [
    {
     "name": "stdout",
     "output_type": "stream",
     "text": [
      "4\n",
      "2\n"
     ]
    }
   ],
   "source": [
    "for node in ans:\n",
    "    print(node.val)"
   ]
  },
  {
   "cell_type": "code",
   "execution_count": null,
   "metadata": {
    "collapsed": true
   },
   "outputs": [],
   "source": []
  }
 ],
 "metadata": {
  "kernelspec": {
   "display_name": "Python 3",
   "language": "python",
   "name": "python3"
  },
  "language_info": {
   "codemirror_mode": {
    "name": "ipython",
    "version": 3
   },
   "file_extension": ".py",
   "mimetype": "text/x-python",
   "name": "python",
   "nbconvert_exporter": "python",
   "pygments_lexer": "ipython3",
   "version": "3.6.10"
  }
 },
 "nbformat": 4,
 "nbformat_minor": 2
}
