{
 "cells": [
  {
   "cell_type": "code",
   "execution_count": 60,
   "metadata": {
    "collapsed": true
   },
   "outputs": [],
   "source": [
    "class LinkedList:\n",
    "    def __init__(self, val, next=None):\n",
    "        self.val = val\n",
    "        self.next = next\n",
    "        \n",
    "# reverse the linked list upto k nodes given it's head\n",
    "# this will return the reversed head of the linked list\n",
    "def reverse(head, k):\n",
    "    cur = head\n",
    "    prev = None\n",
    "    while k and cur:\n",
    "        next_node = cur.next\n",
    "        cur.next = prev\n",
    "        prev = cur\n",
    "        cur = next_node\n",
    "        \n",
    "        k -= 1\n",
    "    \n",
    "    return prev\n",
    "\n",
    "def printLL(head):\n",
    "    cur = head\n",
    "    res = []\n",
    "    while(cur != None):\n",
    "        res.append(str(cur.val))\n",
    "        cur = cur.next\n",
    "    \n",
    "    return \"->\".join(res)"
   ]
  },
  {
   "cell_type": "markdown",
   "metadata": {},
   "source": [
    "### Reverse linked list from m to n.\n",
    "Do it in one pass i.e O(1)"
   ]
  },
  {
   "cell_type": "code",
   "execution_count": 120,
   "metadata": {
    "collapsed": true
   },
   "outputs": [],
   "source": [
    "def revmton(head, m: int, n: int):\n",
    "    # edge cases \n",
    "    if m <= 0:\n",
    "        print(\"argument m should be greater than 0\")\n",
    "        return None\n",
    "    \n",
    "    if m == n:\n",
    "        return head\n",
    "    \n",
    "    if m > n:\n",
    "        print(\"m should be less than n\")\n",
    "        return head\n",
    "    \n",
    "    mptr = head\n",
    "    prev = None\n",
    "    count = 1\n",
    "    while count < m and mptr:\n",
    "        prev = mptr\n",
    "        mptr = mptr.next\n",
    "        count += 1\n",
    "        \n",
    "    if count == m:\n",
    "        #if prev: print(prev.val)\n",
    "        print(mptr.val)\n",
    "    else:\n",
    "        print(\"argument m should be less than the lenght of the list\")\n",
    "        return None\n",
    "\n",
    "    nptr = mptr\n",
    "    while count < n and nptr:\n",
    "        nptr = nptr.next\n",
    "        count += 1\n",
    "    \n",
    "    if count < n:\n",
    "        print(\"argument n should be less than the length of the list\")\n",
    "        return None\n",
    "    \n",
    "    if nptr:\n",
    "        print(nptr.val)\n",
    "    \n",
    "    temp = nptr.next if nptr else None\n",
    "    revHead = reverse(mptr, n-m+1)\n",
    "    mptr.next = temp\n",
    "    if m > 1:\n",
    "        prev.next = revHead\n",
    "        return head\n",
    "    else:\n",
    "        return revHead"
   ]
  },
  {
   "cell_type": "code",
   "execution_count": 125,
   "metadata": {},
   "outputs": [
    {
     "name": "stdout",
     "output_type": "stream",
     "text": [
      "1\n",
      "5\n"
     ]
    }
   ],
   "source": [
    "n1 = LinkedList(1)\n",
    "n2 = LinkedList(2)\n",
    "n3 = LinkedList(3)\n",
    "n4 = LinkedList(4)\n",
    "n5 = LinkedList(5)\n",
    "n1.next = n2\n",
    "n2.next = n3\n",
    "n3.next = n4\n",
    "n4.next = n5\n",
    "printLL(n1)\n",
    "nh = revmton(n1, 1, 5)"
   ]
  },
  {
   "cell_type": "code",
   "execution_count": 126,
   "metadata": {},
   "outputs": [
    {
     "data": {
      "text/plain": [
       "'5->4->3->2->1'"
      ]
     },
     "execution_count": 126,
     "metadata": {},
     "output_type": "execute_result"
    }
   ],
   "source": [
    "printLL(nh)"
   ]
  },
  {
   "cell_type": "markdown",
   "metadata": {},
   "source": [
    "### Reverse Linked List in k-Groups \n",
    "Iterative approach"
   ]
  },
  {
   "cell_type": "code",
   "execution_count": 134,
   "metadata": {
    "collapsed": true
   },
   "outputs": [],
   "source": [
    "def reverseInKGroups(head, k):\n",
    "    cur = head\n",
    "    new_head = None\n",
    "    ktail = None\n",
    "    \n",
    "    while cur:\n",
    "        count = 0\n",
    "        cur = head\n",
    "        while count < k and cur:\n",
    "            count += 1\n",
    "            cur = cur.next\n",
    "        \n",
    "        if count == k:\n",
    "            revHead = reverse(head, k)\n",
    "            if not new_head:\n",
    "                new_head = revHead\n",
    "            \n",
    "            if ktail:\n",
    "                ktail.next = revHead\n",
    "            \n",
    "            ktail = head\n",
    "            head = cur\n",
    "            \n",
    "    if ktail:\n",
    "        ktail.next = head\n",
    "    \n",
    "    return new_head if new_head else head"
   ]
  },
  {
   "cell_type": "code",
   "execution_count": 135,
   "metadata": {
    "collapsed": true
   },
   "outputs": [],
   "source": [
    "n1 = LinkedList(1)\n",
    "n2 = LinkedList(2)\n",
    "n3 = LinkedList(3)\n",
    "n4 = LinkedList(4)\n",
    "n5 = LinkedList(5)\n",
    "n1.next = n2\n",
    "n2.next = n3\n",
    "n3.next = n4\n",
    "n4.next = n5\n",
    "printLL(n1)\n",
    "nh = reverseInKGroups(n1, 3)"
   ]
  },
  {
   "cell_type": "code",
   "execution_count": 136,
   "metadata": {},
   "outputs": [
    {
     "data": {
      "text/plain": [
       "'3->2->1->4->5'"
      ]
     },
     "execution_count": 136,
     "metadata": {},
     "output_type": "execute_result"
    }
   ],
   "source": [
    "printLL(nh)"
   ]
  },
  {
   "cell_type": "code",
   "execution_count": null,
   "metadata": {
    "collapsed": true
   },
   "outputs": [],
   "source": []
  }
 ],
 "metadata": {
  "kernelspec": {
   "display_name": "Python 3",
   "language": "python",
   "name": "python3"
  },
  "language_info": {
   "codemirror_mode": {
    "name": "ipython",
    "version": 3
   },
   "file_extension": ".py",
   "mimetype": "text/x-python",
   "name": "python",
   "nbconvert_exporter": "python",
   "pygments_lexer": "ipython3",
   "version": "3.6.10"
  }
 },
 "nbformat": 4,
 "nbformat_minor": 2
}
