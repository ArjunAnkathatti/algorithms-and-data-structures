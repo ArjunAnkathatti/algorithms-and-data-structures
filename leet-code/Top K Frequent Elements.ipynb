{
 "cells": [
  {
   "cell_type": "markdown",
   "metadata": {},
   "source": [
    "### Top K Frequent Elements\n",
    "Given a non-empty array of integers, return the k most frequent elements.\n",
    "\n",
    "__Example__\n",
    "Input: nums = [1,1,1,2,2,3], k = 2\n",
    "Output: [1,2]"
   ]
  },
  {
   "cell_type": "markdown",
   "metadata": {},
   "source": [
    "#### Solution 01"
   ]
  },
  {
   "cell_type": "code",
   "execution_count": 59,
   "metadata": {
    "collapsed": true
   },
   "outputs": [],
   "source": [
    "from heapq import heappush, heappop, heapify, nlargest"
   ]
  },
  {
   "cell_type": "code",
   "execution_count": 60,
   "metadata": {},
   "outputs": [],
   "source": [
    "# this function must return the nums list back\n",
    "def topKFrequent(nums, k):\n",
    "    # if k == N then return the given array back\n",
    "    if k == len(nums):\n",
    "        return nums\n",
    "\n",
    "    # build dictionary of array elements and their frequencies\n",
    "    count = dict()\n",
    "    for num in nums:\n",
    "        count[num] = count.setdefault(num, 0) + 1\n",
    "\n",
    "    # create a heap to store the k elements\n",
    "    heap = []\n",
    "    for key in count.keys():\n",
    "        heappush(heap, (count[key], key))\n",
    "        if len(heap) > k:\n",
    "            # when lenght of the heap is greater than k, we pop so that the size of the \n",
    "            # heap will not be greater than k\n",
    "            heappop(heap)\n",
    "\n",
    "\n",
    "    klist = []\n",
    "    # loop through the heap and add all the elements to the list\n",
    "    for t in heap:\n",
    "        klist.append(t[1])\n",
    "\n",
    "    #return the list\n",
    "    return klist"
   ]
  },
  {
   "cell_type": "code",
   "execution_count": 61,
   "metadata": {},
   "outputs": [
    {
     "data": {
      "text/plain": [
       "[3, 4]"
      ]
     },
     "execution_count": 61,
     "metadata": {},
     "output_type": "execute_result"
    }
   ],
   "source": [
    "nums = [1,2,1,2,3,4,4,4,4,4,3,3,3,3]\n",
    "topKFrequent(nums, 2)"
   ]
  },
  {
   "cell_type": "markdown",
   "metadata": {},
   "source": [
    "#### Solution 02 - Using python build in functions are creating Heap and dictionary\n",
    "Python provides dictionary subclass __Counter__ to initialize the hash map we need directly from the input array."
   ]
  },
  {
   "cell_type": "code",
   "execution_count": null,
   "metadata": {
    "collapsed": true
   },
   "outputs": [],
   "source": [
    "from collections import Counter"
   ]
  },
  {
   "cell_type": "code",
   "execution_count": 62,
   "metadata": {
    "collapsed": true
   },
   "outputs": [],
   "source": [
    "# this function must return the nums list back\n",
    "def topKFrequent(nums, k):\n",
    "    if k == len(nums):\n",
    "        return nums\n",
    "    \n",
    "    # 1. build hash map : character and how often it appears\n",
    "    # O(N) time\n",
    "    count = Counter(nums)\n",
    "    \n",
    "    # 2-3. build heap of top k frequent elements and\n",
    "    # convert it into an output array\n",
    "    # O(N log k) time\n",
    "    \n",
    "    # param01 - number of elements to be returned\n",
    "    # param02 - iterable like list, here in our case it will be keys \n",
    "    # param03 - value to be compared, we are passing a dictionary function get.\n",
    "    # - this get function will be called for all the keys and the value will be used for comparision while\n",
    "    # - building heap\n",
    "    return nlargest(k, count.keys(), key=count.get)"
   ]
  },
  {
   "cell_type": "code",
   "execution_count": 63,
   "metadata": {},
   "outputs": [
    {
     "data": {
      "text/plain": [
       "[3, 4]"
      ]
     },
     "execution_count": 63,
     "metadata": {},
     "output_type": "execute_result"
    }
   ],
   "source": [
    "nums = [1,2,1,2,3,4,4,4,4,4,3,3,3,3]\n",
    "topKFrequent(nums, 2)"
   ]
  },
  {
   "cell_type": "code",
   "execution_count": null,
   "metadata": {
    "collapsed": true
   },
   "outputs": [],
   "source": []
  }
 ],
 "metadata": {
  "kernelspec": {
   "display_name": "Python 3",
   "language": "python",
   "name": "python3"
  },
  "language_info": {
   "codemirror_mode": {
    "name": "ipython",
    "version": 3
   },
   "file_extension": ".py",
   "mimetype": "text/x-python",
   "name": "python",
   "nbconvert_exporter": "python",
   "pygments_lexer": "ipython3",
   "version": "3.6.10"
  }
 },
 "nbformat": 4,
 "nbformat_minor": 2
}
