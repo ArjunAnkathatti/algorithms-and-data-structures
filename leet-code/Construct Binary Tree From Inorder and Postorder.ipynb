{
 "cells": [
  {
   "cell_type": "markdown",
   "metadata": {},
   "source": [
    "### Construct Binary Tree from Inorder and Postorder Traversal\n",
    "Given inorder and postorder traversal of a tree, construct the binary tree.\n",
    "<br>\n",
    "Note:<br>\n",
    "You may assume that duplicates do not exist in the tree.\n",
    "<br>\n",
    "For example, given\n",
    "<br>\n",
    "inorder = [9,3,15,20,7]<br>\n",
    "postorder = [9,15,7,20,3]<br>\n",
    "Return the following binary tree:<br>\n",
    "<pre>\n",
    "    3\n",
    "   / \\\n",
    "  9  20\n",
    "    /  \\\n",
    "   15   7\n",
    "</pre>"
   ]
  },
  {
   "cell_type": "markdown",
   "metadata": {},
   "source": [
    "### Solution: Recursion\n",
    "We will use the postorder list to pick our root element. The last element will be the the root, followed by the right sub tree and then the left subtree.\n",
    "<br><br>\n",
    "Step 01: Pick last element in the postorder as the root.<br>\n",
    "Step 02: Find the index of this root element in the inorder list.<br>\n",
    "Step 03: Split the inorder array into two halfes. <br>\n",
    "right subtree = (index+1, rightmost)<br>\n",
    "left subtree = (leftmost, index -1)<br>\n",
    "Step 04: Call recursion on right subtree first and then left subtree since given list is post order, right subtree will be first and then left subtree."
   ]
  },
  {
   "cell_type": "code",
   "execution_count": 20,
   "metadata": {
    "collapsed": true
   },
   "outputs": [],
   "source": [
    "# Definition for a binary tree node.\n",
    "class TreeNode:\n",
    "    def __init__(self, val=0, left=None, right=None):\n",
    "        self.val = val\n",
    "        self.left = left\n",
    "        self.right = right"
   ]
  },
  {
   "cell_type": "code",
   "execution_count": 21,
   "metadata": {
    "collapsed": true
   },
   "outputs": [],
   "source": [
    "from typing import List\n",
    "def buildTree(inorder: List[int], postorder: List[int]) -> TreeNode:\n",
    "    # hash map - element and it's index for the inorder list \n",
    "    hm = {val:index for index, val in enumerate(inorder)}\n",
    "    \n",
    "    def helper(in_left, in_right):\n",
    "        if in_left > in_right: \n",
    "            # list is empty and we have reached the base case\n",
    "            return None\n",
    "        \n",
    "        last_val = postorder.pop()\n",
    "        root = TreeNode(last_val)\n",
    "        \n",
    "        inorder_idx = hm[last_val]\n",
    "        \n",
    "        \n",
    "        # since we are given post order list \n",
    "        # we need to construct the right subtree first and then the left subtree\n",
    "        root.right = helper(inorder_idx + 1, in_right)\n",
    "        root.left = helper(in_left, inorder_idx - 1)\n",
    "        \n",
    "        return root\n",
    "    \n",
    "    return helper(0, len(inorder)-1)"
   ]
  },
  {
   "cell_type": "code",
   "execution_count": 22,
   "metadata": {
    "collapsed": true
   },
   "outputs": [],
   "source": [
    "inorder = [9,3,15,20,7]\n",
    "postorder = [9,15,7,20,3]"
   ]
  },
  {
   "cell_type": "code",
   "execution_count": 23,
   "metadata": {
    "collapsed": true
   },
   "outputs": [],
   "source": [
    "head = buildTree(inorder, postorder)"
   ]
  },
  {
   "cell_type": "code",
   "execution_count": 24,
   "metadata": {
    "collapsed": true
   },
   "outputs": [],
   "source": [
    "io = list()\n",
    "def inOrder(head):\n",
    "    if not head:\n",
    "        return \n",
    "    \n",
    "    inOrder(head.left)\n",
    "    io.append(head.val)\n",
    "    inOrder(head.right)"
   ]
  },
  {
   "cell_type": "code",
   "execution_count": 25,
   "metadata": {
    "collapsed": true
   },
   "outputs": [],
   "source": [
    "inOrder(head)"
   ]
  },
  {
   "cell_type": "code",
   "execution_count": 26,
   "metadata": {},
   "outputs": [
    {
     "data": {
      "text/plain": [
       "[9, 3, 15, 20, 7]"
      ]
     },
     "execution_count": 26,
     "metadata": {},
     "output_type": "execute_result"
    }
   ],
   "source": [
    "io"
   ]
  },
  {
   "cell_type": "code",
   "execution_count": 27,
   "metadata": {
    "collapsed": true
   },
   "outputs": [],
   "source": [
    "po = list()\n",
    "def postOrder(head):\n",
    "    if not head:\n",
    "        return \n",
    "    postOrder(head.left)\n",
    "    postOrder(head.right)\n",
    "    po.append(head.val)\n"
   ]
  },
  {
   "cell_type": "code",
   "execution_count": 28,
   "metadata": {},
   "outputs": [
    {
     "data": {
      "text/plain": [
       "[9, 15, 7, 20, 3]"
      ]
     },
     "execution_count": 28,
     "metadata": {},
     "output_type": "execute_result"
    }
   ],
   "source": [
    "postOrder(head)\n",
    "po"
   ]
  },
  {
   "cell_type": "code",
   "execution_count": null,
   "metadata": {
    "collapsed": true
   },
   "outputs": [],
   "source": []
  }
 ],
 "metadata": {
  "kernelspec": {
   "display_name": "Python 3",
   "language": "python",
   "name": "python3"
  },
  "language_info": {
   "codemirror_mode": {
    "name": "ipython",
    "version": 3
   },
   "file_extension": ".py",
   "mimetype": "text/x-python",
   "name": "python",
   "nbconvert_exporter": "python",
   "pygments_lexer": "ipython3",
   "version": "3.6.10"
  }
 },
 "nbformat": 4,
 "nbformat_minor": 2
}
