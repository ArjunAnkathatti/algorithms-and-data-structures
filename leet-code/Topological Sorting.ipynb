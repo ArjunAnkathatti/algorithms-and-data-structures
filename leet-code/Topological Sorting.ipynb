{
 "cells": [
  {
   "cell_type": "markdown",
   "metadata": {},
   "source": [
    "### Topological Sorting\n",
    "Given a vertex from node U and V, U has to appear before V in the ordering. <br>\n",
    "One of the application of build system is in the build system. <br><br>\n",
    "\n",
    "Two data structures<br>\n",
    "1. Set - will contain all the visisted nodes so far<br>\n",
    "2. Stack - will hold the nodes that will finally appear in the topological sort<br><br>\n",
    "\n",
    "Algorithm:<br>\n",
    "Step 01: Pick a random node from the graph<br>\n",
    "Step 02: Check if this node is in visited set. <br>\n",
    "If yes, then do not add this to seen.<br>\n",
    "If no, then add this node to the seen.<br>\n",
    "Step 03: Explore all the children of the current node.<br>\n",
    "Step 04: When there are no more children to process, add the node to the stack.<br>\n",
    "Step 05: Pop the elements in the stack and that will be our topologically sorted graph.<br><br>\n",
    "\n",
    "Step 02 - Step 04 is a recursive functions.<br>\n",
    "Base case: When there are no more children them simply add the nodes to the stack.<br>"
   ]
  },
  {
   "cell_type": "code",
   "execution_count": 3,
   "metadata": {},
   "outputs": [],
   "source": [
    "class TreeNode:\n",
    "    def __init__(self, val):\n",
    "        self.val = val\n",
    "        self.children = []\n",
    "    \n",
    "    def addChild(self, child):\n",
    "        if child:\n",
    "            self.children.append(child)"
   ]
  },
  {
   "cell_type": "code",
   "execution_count": 64,
   "metadata": {
    "collapsed": true
   },
   "outputs": [],
   "source": [
    "# Graph data strucutre using Adjacent List \n",
    "# Each node will have a dict or hashmap which will contain the list of children\n",
    "class Graph:\n",
    "    def __init__(self):\n",
    "        self.nodes = dict()\n",
    "    \n",
    "    def addEdge(self, src, dest):\n",
    "        if not src in self.nodes:\n",
    "            self.nodes[src] = TreeNode(src)\n",
    "        \n",
    "        if not dest in self.nodes:\n",
    "            self.nodes[dest] = TreeNode(dest)\n",
    "        \n",
    "        srcNode = self.nodes[src]\n",
    "        destNode = self.nodes[dest]\n",
    "        srcNode.addChild(destNode)\n",
    "    \n",
    "    def printGraph(self):\n",
    "        for key in g.nodes:\n",
    "            node = g.nodes[key]\n",
    "            for child in node.children:\n",
    "                print(\"{0}->{1}\".format(node.val, child.val))"
   ]
  },
  {
   "cell_type": "code",
   "execution_count": 61,
   "metadata": {
    "collapsed": true
   },
   "outputs": [],
   "source": [
    "g = Graph()"
   ]
  },
  {
   "cell_type": "code",
   "execution_count": 62,
   "metadata": {},
   "outputs": [],
   "source": [
    "g.addEdge('A', 'C')\n",
    "g.addEdge('B', 'C')\n",
    "g.addEdge('B', 'D')\n",
    "g.addEdge('C', 'E')\n",
    "g.addEdge('D', 'F')\n",
    "g.addEdge('E', 'F')\n",
    "g.addEdge('F', 'G')"
   ]
  },
  {
   "cell_type": "code",
   "execution_count": 63,
   "metadata": {},
   "outputs": [
    {
     "name": "stdout",
     "output_type": "stream",
     "text": [
      "A->C\n",
      "C->E\n",
      "B->C\n",
      "B->D\n",
      "D->F\n",
      "E->F\n",
      "F->G\n"
     ]
    }
   ],
   "source": [
    "g.printGraph()"
   ]
  },
  {
   "cell_type": "code",
   "execution_count": 55,
   "metadata": {
    "collapsed": true
   },
   "outputs": [],
   "source": [
    "from collections import deque\n",
    "def topSort(graph: Graph):\n",
    "    visited = set()\n",
    "    stack = deque()\n",
    "    \n",
    "    def helper(node: TreeNode):\n",
    "        if not node in visited:\n",
    "            visited.add(node)\n",
    "        \n",
    "        # explore all the children\n",
    "        for child in node.children:\n",
    "            if not child in visited:\n",
    "                helper(child)\n",
    "        \n",
    "        # when there are no more children\n",
    "        # add the node value to stack\n",
    "        stack.append(node.val)\n",
    "        \n",
    "    \n",
    "    for key in graph.nodes:\n",
    "        node = graph.nodes[key]\n",
    "        if not node in visited:\n",
    "            helper(node)\n",
    "    \n",
    "    \n",
    "    res = []\n",
    "    while stack:\n",
    "        res.append(stack.pop())\n",
    "    \n",
    "    print(res)"
   ]
  },
  {
   "cell_type": "code",
   "execution_count": 56,
   "metadata": {},
   "outputs": [
    {
     "name": "stdout",
     "output_type": "stream",
     "text": [
      "['B', 'D', 'A', 'C', 'E', 'F', 'G']\n"
     ]
    }
   ],
   "source": [
    "topSort(g)"
   ]
  },
  {
   "cell_type": "code",
   "execution_count": null,
   "metadata": {
    "collapsed": true
   },
   "outputs": [],
   "source": []
  }
 ],
 "metadata": {
  "kernelspec": {
   "display_name": "Python 3",
   "language": "python",
   "name": "python3"
  },
  "language_info": {
   "codemirror_mode": {
    "name": "ipython",
    "version": 3
   },
   "file_extension": ".py",
   "mimetype": "text/x-python",
   "name": "python",
   "nbconvert_exporter": "python",
   "pygments_lexer": "ipython3",
   "version": "3.6.10"
  }
 },
 "nbformat": 4,
 "nbformat_minor": 2
}
