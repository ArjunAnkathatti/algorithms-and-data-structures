{
 "cells": [
  {
   "cell_type": "markdown",
   "metadata": {},
   "source": [
    "### Solution 01 - Using Backtracking or recursion\n",
    "No of unique path at a current cell is equal to sum of no of unique paths from it's adjacent right and bottom cells."
   ]
  },
  {
   "cell_type": "code",
   "execution_count": null,
   "metadata": {},
   "outputs": [],
   "source": [
    "def uniquePaths(m, n):\n",
    "    # m = colummns \n",
    "    # n = rows\n",
    "    return countUniquePaths(0, 0, m, n)\n",
    "        \n",
    "def countUniquePaths(col, row, m, n):\n",
    "    if (col == m -1 and row == n -1):\n",
    "        return 1\n",
    "    \n",
    "    # check if both right and left are possible\n",
    "    if col+1 < m and row +1 < n:\n",
    "        return countUniquePaths(col+1, row, m, n) + countUniquePaths(col, row + 1, m, n)\n",
    "    \n",
    "    # check if only bottom is possible\n",
    "    if col+1 < m:\n",
    "        return countUniquePaths(col+1, row, m, n) \n",
    "    \n",
    "    # check if only right is possible\n",
    "    if row+1 < n:\n",
    "        return countUniquePaths(col, row + 1, m, n)"
   ]
  },
  {
   "cell_type": "code",
   "execution_count": 7,
   "metadata": {},
   "outputs": [
    {
     "name": "stdout",
     "output_type": "stream",
     "text": [
      "should return 3\n"
     ]
    },
    {
     "data": {
      "text/plain": [
       "3"
      ]
     },
     "execution_count": 7,
     "metadata": {},
     "output_type": "execute_result"
    }
   ],
   "source": [
    "m = 3\n",
    "n = 2\n",
    "print(\"should return 3\")\n",
    "uniquePaths(m, n)"
   ]
  },
  {
   "cell_type": "code",
   "execution_count": 8,
   "metadata": {},
   "outputs": [
    {
     "name": "stdout",
     "output_type": "stream",
     "text": [
      "should return 28\n"
     ]
    },
    {
     "data": {
      "text/plain": [
       "28"
      ]
     },
     "execution_count": 8,
     "metadata": {},
     "output_type": "execute_result"
    }
   ],
   "source": [
    "m = 7\n",
    "n = 3\n",
    "print(\"should return 28\")\n",
    "uniquePaths(m, n)"
   ]
  },
  {
   "cell_type": "code",
   "execution_count": 49,
   "metadata": {},
   "outputs": [
    {
     "name": "stdout",
     "output_type": "stream",
     "text": [
      "should return 193536720\n",
      "this will timeout...\n"
     ]
    }
   ],
   "source": [
    "m = 23\n",
    "n = 12\n",
    "print(\"should return 193536720\")\n",
    "print(\"this will timeout...\")\n",
    "#uniquePaths(m, n)"
   ]
  },
  {
   "cell_type": "markdown",
   "metadata": {},
   "source": [
    "### Solution 02 - Recursion with memoisation\n",
    "We can improve the runtime of the solution 01 by storing the unique paths of already visited cells so that we don't have to calculate again.\n",
    "\n",
    "We would be needing an array (m x n) to store the number of unique values."
   ]
  },
  {
   "cell_type": "code",
   "execution_count": 50,
   "metadata": {
    "collapsed": true
   },
   "outputs": [],
   "source": [
    "memo = []\n",
    "def uniquePaths(m, n):\n",
    "    # m = colummns \n",
    "    # n = rows\n",
    "    memo.clear()\n",
    "    for i in range(n):\n",
    "        row = []\n",
    "        for j in range(m):\n",
    "            row.append(-1)\n",
    "        memo.append(row)\n",
    "    \n",
    "    # base case value\n",
    "    memo[n-1][m-1] = 1\n",
    "    \n",
    "    return countUniquePaths(0, 0, m, n)\n",
    "\n",
    "def countUniquePaths(col, row, m, n):\n",
    "    if (memo[row][col] != -1):\n",
    "        return memo[row][col]\n",
    "    \n",
    "    noOfPaths = 0\n",
    "    # check if both right and left are possible\n",
    "    if col+1 < m and row +1 < n:\n",
    "        noOfPaths = countUniquePaths(col+1, row, m, n) + countUniquePaths(col, row + 1, m, n)\n",
    "        memo[row][col] = noOfPaths\n",
    "        return noOfPaths\n",
    "    \n",
    "    # check if only bottom is possible\n",
    "    if col+1 < m:\n",
    "        noOfPaths = countUniquePaths(col+1, row, m, n) \n",
    "        memo[row][col] = noOfPaths\n",
    "        return noOfPaths\n",
    "    \n",
    "    # check if only right is possible\n",
    "    if row+1 < n:\n",
    "        noOfPaths = countUniquePaths(col, row + 1, m, n)\n",
    "        memo[row][col] = noOfPaths\n",
    "        return noOfPaths"
   ]
  },
  {
   "cell_type": "code",
   "execution_count": 51,
   "metadata": {},
   "outputs": [
    {
     "name": "stdout",
     "output_type": "stream",
     "text": [
      "should return 3\n"
     ]
    },
    {
     "data": {
      "text/plain": [
       "3"
      ]
     },
     "execution_count": 51,
     "metadata": {},
     "output_type": "execute_result"
    }
   ],
   "source": [
    "m = 3\n",
    "n = 2\n",
    "print(\"should return 3\")\n",
    "uniquePaths(m, n)"
   ]
  },
  {
   "cell_type": "code",
   "execution_count": 52,
   "metadata": {},
   "outputs": [
    {
     "name": "stdout",
     "output_type": "stream",
     "text": [
      "should return 28\n"
     ]
    },
    {
     "data": {
      "text/plain": [
       "28"
      ]
     },
     "execution_count": 52,
     "metadata": {},
     "output_type": "execute_result"
    }
   ],
   "source": [
    "m = 7\n",
    "n = 3\n",
    "print(\"should return 28\")\n",
    "uniquePaths(m, n)"
   ]
  },
  {
   "cell_type": "code",
   "execution_count": 54,
   "metadata": {},
   "outputs": [
    {
     "name": "stdout",
     "output_type": "stream",
     "text": [
      "should return 193536720\n"
     ]
    },
    {
     "data": {
      "text/plain": [
       "193536720"
      ]
     },
     "execution_count": 54,
     "metadata": {},
     "output_type": "execute_result"
    }
   ],
   "source": [
    "m = 23\n",
    "n = 12\n",
    "print(\"should return 193536720\")\n",
    "uniquePaths(m, n)"
   ]
  },
  {
   "cell_type": "markdown",
   "metadata": {},
   "source": [
    "### Solution 03: Bottom-Up approach\n",
    "Start from the end and reach the beginig of the 2D-array.\n",
    "\n",
    "By doing this we can eliminate the recursion and there by get rid of the call stack."
   ]
  },
  {
   "cell_type": "code",
   "execution_count": null,
   "metadata": {
    "collapsed": true
   },
   "outputs": [],
   "source": []
  }
 ],
 "metadata": {
  "kernelspec": {
   "display_name": "Python 3",
   "language": "python",
   "name": "python3"
  },
  "language_info": {
   "codemirror_mode": {
    "name": "ipython",
    "version": 3
   },
   "file_extension": ".py",
   "mimetype": "text/x-python",
   "name": "python",
   "nbconvert_exporter": "python",
   "pygments_lexer": "ipython3",
   "version": "3.6.10"
  }
 },
 "nbformat": 4,
 "nbformat_minor": 2
}
