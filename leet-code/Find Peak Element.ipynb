{
 "cells": [
  {
   "cell_type": "markdown",
   "metadata": {},
   "source": [
    "## Find Peak Element\n",
    "<pre>\n",
    "A peak element is an element that is greater than its neighbors.\n",
    "\n",
    "Given an input array nums, where nums[i] ≠ nums[i+1], find a peak element and return its index.\n",
    "\n",
    "The array may contain multiple peaks, in that case return the index to any one of the peaks is fine.\n",
    "\n",
    "You may imagine that nums[-1] = nums[n] = -∞.\n",
    "\n",
    "Example 1:\n",
    "Input: nums = [1,2,3,1]\n",
    "Output: 2\n",
    "Explanation: 3 is a peak element and your function should return the index number 2.\n",
    "Example 2:\n",
    "\n",
    "Input: nums = [1,2,1,3,5,6,4]\n",
    "Output: 1 or 5 \n",
    "Explanation: Your function can return either index number 1 where the peak element is 2, \n",
    "             or index number 5 where the peak element is 6.\n",
    "</pre>"
   ]
  },
  {
   "cell_type": "markdown",
   "metadata": {},
   "source": [
    "### Solution 01 - Linear Scan\n",
    "<pre>\n",
    "For each element, compare that with it's neighbors. If it is greater then return it's index. \n",
    "\n",
    "Runtime - O(n)\n",
    "</pre>"
   ]
  },
  {
   "cell_type": "code",
   "execution_count": 11,
   "metadata": {
    "collapsed": true
   },
   "outputs": [],
   "source": [
    "from typing import List\n",
    "def findPeakElement(nums: List[int]) -> int:\n",
    "    # linear scan - compare each num with it's neighbors\n",
    "        L = len(nums)\n",
    "        idx = 0\n",
    "        while idx < L:\n",
    "            # comparing with left is not required as num[i] \n",
    "            left = nums[idx-1] if idx > 0 else float(\"-inf\")\n",
    "            right = nums[idx+1] if idx < L-1 else float(\"-inf\")\n",
    "            \n",
    "            if nums[idx] > left and nums[idx] > right:\n",
    "                return idx\n",
    "            \n",
    "            idx += 1\n",
    "        \n",
    "        # when no peak is found\n",
    "        return -1"
   ]
  },
  {
   "cell_type": "code",
   "execution_count": 12,
   "metadata": {},
   "outputs": [
    {
     "data": {
      "text/plain": [
       "2"
      ]
     },
     "execution_count": 12,
     "metadata": {},
     "output_type": "execute_result"
    }
   ],
   "source": [
    "nums = [1,2,3,1]\n",
    "findPeakElement(nums)"
   ]
  },
  {
   "cell_type": "markdown",
   "metadata": {},
   "source": [
    "### Solution 02 - Binary Search\n",
    "<pre>\n",
    "Step 01 - Calculate mid.\n",
    "Step 02 - Check where mid lies. Is it in the ascending slope or descending slope\n",
    "Step 03 - If it is in the ascending slope then the peak will be towards it's right\n",
    "Step 04 - If it is in the descending slope then the peak will be towards it's left\n",
    "Step 05 - Terminate recursion when left and right meet\n",
    "\n",
    "Runtime - O(log(n))\n",
    "</pre>"
   ]
  },
  {
   "cell_type": "code",
   "execution_count": 13,
   "metadata": {
    "collapsed": true
   },
   "outputs": [],
   "source": [
    "from typing import List\n",
    "def findPeakElement(nums: List[int]) -> int:\n",
    "    def binary_search(left, right):\n",
    "        if left == right:\n",
    "            return left\n",
    "        mid = (left + right) // 2\n",
    "        if nums[mid] > nums[mid+1]:\n",
    "            # mid is in the decending slope\n",
    "            # so the peak will be in the left\n",
    "            return binary_search(left, mid)\n",
    "        else:\n",
    "            # mid is in the ascending slope\n",
    "            # so the peak will be in the right\n",
    "            return binary_search(mid+1, right)\n",
    "    \n",
    "    return binary_search(0, len(nums)-1)"
   ]
  },
  {
   "cell_type": "code",
   "execution_count": 14,
   "metadata": {},
   "outputs": [
    {
     "data": {
      "text/plain": [
       "2"
      ]
     },
     "execution_count": 14,
     "metadata": {},
     "output_type": "execute_result"
    }
   ],
   "source": [
    "nums = [1,2,3,1]\n",
    "findPeakElement(nums)"
   ]
  },
  {
   "cell_type": "code",
   "execution_count": null,
   "metadata": {
    "collapsed": true
   },
   "outputs": [],
   "source": []
  }
 ],
 "metadata": {
  "kernelspec": {
   "display_name": "Python 3",
   "language": "python",
   "name": "python3"
  },
  "language_info": {
   "codemirror_mode": {
    "name": "ipython",
    "version": 3
   },
   "file_extension": ".py",
   "mimetype": "text/x-python",
   "name": "python",
   "nbconvert_exporter": "python",
   "pygments_lexer": "ipython3",
   "version": "3.6.10"
  }
 },
 "nbformat": 4,
 "nbformat_minor": 2
}
