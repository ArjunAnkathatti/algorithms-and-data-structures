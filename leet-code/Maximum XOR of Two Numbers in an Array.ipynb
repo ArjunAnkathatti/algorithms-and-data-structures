{
 "cells": [
  {
   "cell_type": "markdown",
   "metadata": {},
   "source": [
    "### Python Bitwise operator\n",
    "x << y - left shitf <br>\n",
    "x >> y - right shift <br>\n",
    "x | y  - OR <br>\n",
    "x ^ t  - XOR<br>"
   ]
  },
  {
   "cell_type": "markdown",
   "metadata": {},
   "source": [
    "### Solution 01 - Using Bitwise Trie\n",
    "Since our goal is to maximize the XOR of two numbers. XOR of opposite bits gives 1 so if at each step in the tree we have to find the bit opposite to the current numbers bit. If not found we will just select the same bit. Keeping adding the bit to the result. Check if the result is greater than the max result so far and if so update the max result. Finally return the max result."
   ]
  },
  {
   "cell_type": "code",
   "execution_count": 59,
   "metadata": {
    "collapsed": true
   },
   "outputs": [],
   "source": [
    "from typing import List\n",
    "def findMaximumXOR(nums: List[int]) -> int:\n",
    "    # get the lenght of the maximum number in the given array\n",
    "    L = len(bin(max(nums))) - 2\n",
    "    \n",
    "    # this function will add zeros to the left if required\n",
    "    # so that all the numbers will be of same lenght in thier binary representation\n",
    "    def addZerosToLeft(num):\n",
    "        return [(num >> i) & 1 for i in range(L)][::-1]\n",
    "    \n",
    "    # nums will be update to have the list of list\n",
    "    # num in nums will be a list of bits in binary represenation\n",
    "    nums = [addZerosToLeft(num) for num in nums]\n",
    "    \n",
    "    trie = {}\n",
    "    max_xor = 0\n",
    "    \n",
    "    for num in nums:\n",
    "        node = trie\n",
    "        xor_node = trie\n",
    "        cur_xor = 0        \n",
    "        for bit in num:\n",
    "            # insert current bit if it doesn't exists\n",
    "            if not bit in node:\n",
    "                node[bit] = {}\n",
    "            node = node[bit]\n",
    "            \n",
    "            # calculate the opposite bit\n",
    "            opp_bit = 1 - bit\n",
    "            \n",
    "            # check if opposite bit in xor_node\n",
    "            if opp_bit in xor_node:\n",
    "                cur_xor = (cur_xor << 1) | 1\n",
    "                xor_node = xor_node[opp_bit]\n",
    "            else:\n",
    "                cur_xor = cur_xor << 1\n",
    "                xor_node = xor_node[bit]\n",
    "        \n",
    "        # update the max_xor \n",
    "        max_xor = max(max_xor, cur_xor)\n",
    "    \n",
    "    return max_xor"
   ]
  },
  {
   "cell_type": "code",
   "execution_count": 60,
   "metadata": {},
   "outputs": [
    {
     "data": {
      "text/plain": [
       "28"
      ]
     },
     "execution_count": 60,
     "metadata": {},
     "output_type": "execute_result"
    }
   ],
   "source": [
    "nums = [3, 10, 5, 25, 2, 8]\n",
    "findMaximumXOR(nums)"
   ]
  },
  {
   "cell_type": "code",
   "execution_count": null,
   "metadata": {
    "collapsed": true
   },
   "outputs": [],
   "source": []
  }
 ],
 "metadata": {
  "kernelspec": {
   "display_name": "Python 3",
   "language": "python",
   "name": "python3"
  },
  "language_info": {
   "codemirror_mode": {
    "name": "ipython",
    "version": 3
   },
   "file_extension": ".py",
   "mimetype": "text/x-python",
   "name": "python",
   "nbconvert_exporter": "python",
   "pygments_lexer": "ipython3",
   "version": "3.6.10"
  }
 },
 "nbformat": 4,
 "nbformat_minor": 2
}
