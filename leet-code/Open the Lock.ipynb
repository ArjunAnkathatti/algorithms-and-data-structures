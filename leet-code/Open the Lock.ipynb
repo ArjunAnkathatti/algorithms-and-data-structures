{
 "cells": [
  {
   "cell_type": "markdown",
   "metadata": {},
   "source": [
    "### Open the Lock\n",
    "<pre>\n",
    "You have a lock in front of you with 4 circular wheels. Each wheel has 10 slots: '0', '1', '2', '3', '4', '5', '6', '7', '8', '9'. The wheels can rotate freely and wrap around: for example we can turn '9' to be '0', or '0' to be '9'. Each move consists of turning one wheel one slot.\n",
    "\n",
    "The lock initially starts at '0000', a string representing the state of the 4 wheels.\n",
    "\n",
    "You are given a list of deadends dead ends, meaning if the lock displays any of these codes, the wheels of the lock will stop turning and you will be unable to open it.\n",
    "\n",
    "Given a target representing the value of the wheels that will unlock the lock, return the minimum total number of turns required to open the lock, or -1 if it is impossible.\n",
    "\n",
    "Example 1:\n",
    "Input: deadends = [\"0201\",\"0101\",\"0102\",\"1212\",\"2002\"], target = \"0202\"\n",
    "Output: 6\n",
    "Explanation:\n",
    "A sequence of valid moves would be \"0000\" -> \"1000\" -> \"1100\" -> \"1200\" -> \"1201\" -> \"1202\" -> \"0202\".\n",
    "Note that a sequence like \"0000\" -> \"0001\" -> \"0002\" -> \"0102\" -> \"0202\" would be invalid,\n",
    "because the wheels of the lock become stuck after the display becomes the dead end \"0102\".\n",
    "\n",
    "Example 2:\n",
    "Input: deadends = [\"8888\"], target = \"0009\"\n",
    "Output: 1\n",
    "Explanation:\n",
    "We can turn the last wheel in reverse to move from \"0000\" -> \"0009\".\n",
    "\n",
    "Example 3:\n",
    "Input: deadends = [\"8887\",\"8889\",\"8878\",\"8898\",\"8788\",\"8988\",\"7888\",\"9888\"], target = \"8888\"\n",
    "Output: -1\n",
    "Explanation:\n",
    "We can't reach the target without getting stuck.\n",
    "\n",
    "Example 4:\n",
    "Input: deadends = [\"0000\"], target = \"8888\"\n",
    "Output: -1\n",
    "</pre>"
   ]
  },
  {
   "cell_type": "markdown",
   "metadata": {},
   "source": [
    "### Solution 01 - Breadth-First Search"
   ]
  },
  {
   "cell_type": "code",
   "execution_count": 1,
   "metadata": {
    "collapsed": true
   },
   "outputs": [],
   "source": [
    "# generates all possible moves for a given source state\n",
    "def nextSteps(source):\n",
    "    res = []\n",
    "    for idx in range(len(source)):\n",
    "        if source[idx] == \"9\":\n",
    "            jumps = [\"0\", \"8\"]\n",
    "        elif source[idx] == \"0\":\n",
    "            jumps = [\"1\", \"9\"]\n",
    "        else:\n",
    "            int_char = int(source[idx])\n",
    "            jumps = [str(int_char -1), str(int_char +1)]\n",
    "         \n",
    "        for step in jumps:\n",
    "            yield source[:idx] + str(step) + source[idx+1:]\n",
    "            "
   ]
  },
  {
   "cell_type": "code",
   "execution_count": 2,
   "metadata": {
    "collapsed": true
   },
   "outputs": [],
   "source": [
    "from collections import deque\n",
    "from typing import List\n",
    "def openLock(deadends: List[str], target: str):\n",
    "    q = deque()\n",
    "    depth = 0\n",
    "    # add the node and depth to the queue\n",
    "    q.append((\"0000\", depth))\n",
    "    \n",
    "    dead = set(deadends)\n",
    "    # hashset to check if a node has been visited or not\n",
    "    seen = set()\n",
    "    seen.add(source)\n",
    "    \n",
    "    while q:\n",
    "        node, depth = q.popleft()\n",
    "        if node == target:\n",
    "            return depth\n",
    "        \n",
    "        # if the current node is in the deadends then \n",
    "        # do not add it's children to the queue\n",
    "        if node in dead:\n",
    "            continue\n",
    "        \n",
    "        # for each of the possible next move from the current node\n",
    "        # add it to queue if not already added\n",
    "        for step in nextSteps(node):\n",
    "            if not step in seen:\n",
    "                q.append((step, depth + 1))\n",
    "                seen.add(step)\n",
    "    \n",
    "    return -1"
   ]
  },
  {
   "cell_type": "code",
   "execution_count": 3,
   "metadata": {},
   "outputs": [
    {
     "ename": "NameError",
     "evalue": "name 'source' is not defined",
     "output_type": "error",
     "traceback": [
      "\u001b[0;31m---------------------------------------------------------------------------\u001b[0m",
      "\u001b[0;31mNameError\u001b[0m                                 Traceback (most recent call last)",
      "\u001b[0;32m<ipython-input-3-7aff7c2c4302>\u001b[0m in \u001b[0;36m<module>\u001b[0;34m()\u001b[0m\n\u001b[1;32m      1\u001b[0m \u001b[0mdeadends\u001b[0m \u001b[0;34m=\u001b[0m \u001b[0;34m[\u001b[0m\u001b[0;34m\"8887\"\u001b[0m\u001b[0;34m,\u001b[0m\u001b[0;34m\"8889\"\u001b[0m\u001b[0;34m,\u001b[0m\u001b[0;34m\"8878\"\u001b[0m\u001b[0;34m,\u001b[0m\u001b[0;34m\"8898\"\u001b[0m\u001b[0;34m,\u001b[0m\u001b[0;34m\"8788\"\u001b[0m\u001b[0;34m,\u001b[0m\u001b[0;34m\"8988\"\u001b[0m\u001b[0;34m,\u001b[0m\u001b[0;34m\"7888\"\u001b[0m\u001b[0;34m,\u001b[0m\u001b[0;34m\"9888\"\u001b[0m\u001b[0;34m]\u001b[0m\u001b[0;34m\u001b[0m\u001b[0;34m\u001b[0m\u001b[0m\n\u001b[1;32m      2\u001b[0m \u001b[0mtarget\u001b[0m \u001b[0;34m=\u001b[0m \u001b[0;34m\"8888\"\u001b[0m\u001b[0;34m\u001b[0m\u001b[0;34m\u001b[0m\u001b[0m\n\u001b[0;32m----> 3\u001b[0;31m \u001b[0mopenLock\u001b[0m\u001b[0;34m(\u001b[0m\u001b[0mdeadends\u001b[0m\u001b[0;34m,\u001b[0m \u001b[0mtarget\u001b[0m\u001b[0;34m)\u001b[0m\u001b[0;34m\u001b[0m\u001b[0;34m\u001b[0m\u001b[0m\n\u001b[0m",
      "\u001b[0;32m<ipython-input-2-646b7d75b305>\u001b[0m in \u001b[0;36mopenLock\u001b[0;34m(deadends, target)\u001b[0m\n\u001b[1;32m     10\u001b[0m     \u001b[0;31m# hashset to check if a node has been visited or not\u001b[0m\u001b[0;34m\u001b[0m\u001b[0;34m\u001b[0m\u001b[0;34m\u001b[0m\u001b[0m\n\u001b[1;32m     11\u001b[0m     \u001b[0mseen\u001b[0m \u001b[0;34m=\u001b[0m \u001b[0mset\u001b[0m\u001b[0;34m(\u001b[0m\u001b[0;34m)\u001b[0m\u001b[0;34m\u001b[0m\u001b[0;34m\u001b[0m\u001b[0m\n\u001b[0;32m---> 12\u001b[0;31m     \u001b[0mseen\u001b[0m\u001b[0;34m.\u001b[0m\u001b[0madd\u001b[0m\u001b[0;34m(\u001b[0m\u001b[0msource\u001b[0m\u001b[0;34m)\u001b[0m\u001b[0;34m\u001b[0m\u001b[0;34m\u001b[0m\u001b[0m\n\u001b[0m\u001b[1;32m     13\u001b[0m \u001b[0;34m\u001b[0m\u001b[0m\n\u001b[1;32m     14\u001b[0m     \u001b[0;32mwhile\u001b[0m \u001b[0mq\u001b[0m\u001b[0;34m:\u001b[0m\u001b[0;34m\u001b[0m\u001b[0;34m\u001b[0m\u001b[0m\n",
      "\u001b[0;31mNameError\u001b[0m: name 'source' is not defined"
     ]
    }
   ],
   "source": [
    "deadends = [\"8887\",\"8889\",\"8878\",\"8898\",\"8788\",\"8988\",\"7888\",\"9888\"]\n",
    "target = \"8888\"\n",
    "openLock(deadends, target)"
   ]
  },
  {
   "cell_type": "code",
   "execution_count": 4,
   "metadata": {},
   "outputs": [
    {
     "ename": "NameError",
     "evalue": "name 'source' is not defined",
     "output_type": "error",
     "traceback": [
      "\u001b[0;31m---------------------------------------------------------------------------\u001b[0m",
      "\u001b[0;31mNameError\u001b[0m                                 Traceback (most recent call last)",
      "\u001b[0;32m<ipython-input-4-fbe3aa40a50b>\u001b[0m in \u001b[0;36m<module>\u001b[0;34m()\u001b[0m\n\u001b[1;32m      1\u001b[0m \u001b[0mdeadends\u001b[0m \u001b[0;34m=\u001b[0m \u001b[0;34m[\u001b[0m\u001b[0;34m\"0201\"\u001b[0m\u001b[0;34m,\u001b[0m\u001b[0;34m\"0101\"\u001b[0m\u001b[0;34m,\u001b[0m\u001b[0;34m\"0102\"\u001b[0m\u001b[0;34m,\u001b[0m\u001b[0;34m\"1212\"\u001b[0m\u001b[0;34m,\u001b[0m\u001b[0;34m\"2002\"\u001b[0m\u001b[0;34m]\u001b[0m\u001b[0;34m\u001b[0m\u001b[0;34m\u001b[0m\u001b[0m\n\u001b[1;32m      2\u001b[0m \u001b[0mtarget\u001b[0m \u001b[0;34m=\u001b[0m \u001b[0;34m\"0202\"\u001b[0m\u001b[0;34m\u001b[0m\u001b[0;34m\u001b[0m\u001b[0m\n\u001b[0;32m----> 3\u001b[0;31m \u001b[0mopenLock\u001b[0m\u001b[0;34m(\u001b[0m\u001b[0mdeadends\u001b[0m\u001b[0;34m,\u001b[0m \u001b[0mtarget\u001b[0m\u001b[0;34m)\u001b[0m\u001b[0;34m\u001b[0m\u001b[0;34m\u001b[0m\u001b[0m\n\u001b[0m",
      "\u001b[0;32m<ipython-input-2-646b7d75b305>\u001b[0m in \u001b[0;36mopenLock\u001b[0;34m(deadends, target)\u001b[0m\n\u001b[1;32m     10\u001b[0m     \u001b[0;31m# hashset to check if a node has been visited or not\u001b[0m\u001b[0;34m\u001b[0m\u001b[0;34m\u001b[0m\u001b[0;34m\u001b[0m\u001b[0m\n\u001b[1;32m     11\u001b[0m     \u001b[0mseen\u001b[0m \u001b[0;34m=\u001b[0m \u001b[0mset\u001b[0m\u001b[0;34m(\u001b[0m\u001b[0;34m)\u001b[0m\u001b[0;34m\u001b[0m\u001b[0;34m\u001b[0m\u001b[0m\n\u001b[0;32m---> 12\u001b[0;31m     \u001b[0mseen\u001b[0m\u001b[0;34m.\u001b[0m\u001b[0madd\u001b[0m\u001b[0;34m(\u001b[0m\u001b[0msource\u001b[0m\u001b[0;34m)\u001b[0m\u001b[0;34m\u001b[0m\u001b[0;34m\u001b[0m\u001b[0m\n\u001b[0m\u001b[1;32m     13\u001b[0m \u001b[0;34m\u001b[0m\u001b[0m\n\u001b[1;32m     14\u001b[0m     \u001b[0;32mwhile\u001b[0m \u001b[0mq\u001b[0m\u001b[0;34m:\u001b[0m\u001b[0;34m\u001b[0m\u001b[0;34m\u001b[0m\u001b[0m\n",
      "\u001b[0;31mNameError\u001b[0m: name 'source' is not defined"
     ]
    }
   ],
   "source": [
    "deadends = [\"0201\",\"0101\",\"0102\",\"1212\",\"2002\"]\n",
    "target = \"0202\"\n",
    "openLock(deadends, target)"
   ]
  }
 ],
 "metadata": {
  "kernelspec": {
   "display_name": "Python 3",
   "language": "python",
   "name": "python3"
  },
  "language_info": {
   "codemirror_mode": {
    "name": "ipython",
    "version": 3
   },
   "file_extension": ".py",
   "mimetype": "text/x-python",
   "name": "python",
   "nbconvert_exporter": "python",
   "pygments_lexer": "ipython3",
   "version": "3.6.10"
  }
 },
 "nbformat": 4,
 "nbformat_minor": 2
}
