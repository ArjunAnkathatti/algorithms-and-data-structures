{
 "cells": [
  {
   "cell_type": "markdown",
   "metadata": {},
   "source": [
    "### Course Schedule"
   ]
  },
  {
   "cell_type": "markdown",
   "metadata": {},
   "source": [
    "### Solution 01 - Backtracking\n",
    "First, construct a graph using Adjacent List that is, for every node use either a dictionary or a hasmap to maintian all the children of the current node.<br>\n",
    "The goal is to check if there is a cycle or not in this graph.<br>\n",
    "We can use recursion to check if there is a cycle in the any of the children until we find the leaf node. <br>\n",
    "As we traverse the tree we maintain a breadcrumb that is list of nodes that we have visited so far. If for any node there is a child which is in the breadcrumb that is in the list of nodes that is used to reach the current node then there is cycle.<br>"
   ]
  },
  {
   "cell_type": "code",
   "execution_count": 26,
   "metadata": {},
   "outputs": [],
   "source": [
    "from collections import defaultdict\n",
    "def canFinish(numCourses, prerequisites):\n",
    "    # build the graph of courses using adjacent lists\n",
    "    graph = defaultdict(list)\n",
    "    for relation in prerequisites:\n",
    "        cur_course, prev_course = relation\n",
    "        graph[prev_course].append(cur_course)\n",
    "    \n",
    "    \n",
    "    # define our recursion/backtracking method here\n",
    "    # this method will return True if there is a cycle\n",
    "    def backtrack(cur_course, visitedPath):\n",
    "        if visitedPath[cur_course]:\n",
    "            print(\"I am the culprit\")\n",
    "            print(\"cur_course \", cur_course)\n",
    "            print(visitedPath)\n",
    "            return True\n",
    "        \n",
    "        # mark the cur course as visited\n",
    "        visitedPath[cur_course] = True\n",
    "        \n",
    "        isCycle = False\n",
    "        # explore all the children of the current node\n",
    "        for next_course in graph[cur_course]:\n",
    "            isCycle = backtrack(next_course, visitedPath)\n",
    "            if isCycle:\n",
    "                break\n",
    "        \n",
    "        visitedPath[cur_course] = False\n",
    "        return isCycle\n",
    "        \n",
    "    \n",
    "    # list of length equal to number of courses to store the so far visisted courses/nodes\n",
    "    # we set this to False by default and pass it to the recusion function\n",
    "    visitedPath = [False] * numCourses\n",
    "    print(visitedPath)\n",
    "    for cur_course in range(numCourses):\n",
    "        isCycle = backtrack(cur_course, visitedPath)\n",
    "        if isCycle:\n",
    "            return False\n",
    "    \n",
    "    return True"
   ]
  },
  {
   "cell_type": "code",
   "execution_count": 27,
   "metadata": {},
   "outputs": [
    {
     "name": "stdout",
     "output_type": "stream",
     "text": [
      "[False, False]\n"
     ]
    },
    {
     "data": {
      "text/plain": [
       "True"
      ]
     },
     "execution_count": 27,
     "metadata": {},
     "output_type": "execute_result"
    }
   ],
   "source": [
    "canFinish(2, [[1,0]])"
   ]
  },
  {
   "cell_type": "markdown",
   "metadata": {},
   "source": [
    "### Solution 02 - Topological Sorting\n",
    "The goal is to sort the graph in the topological order inorder to find the cycle if it exists."
   ]
  },
  {
   "cell_type": "code",
   "execution_count": 29,
   "metadata": {
    "collapsed": true
   },
   "outputs": [],
   "source": [
    "class GNode:\n",
    "    def __init__(self):\n",
    "        self.indegree = 0\n",
    "        self.outnodes = []"
   ]
  },
  {
   "cell_type": "code",
   "execution_count": 38,
   "metadata": {
    "collapsed": true
   },
   "outputs": [],
   "source": [
    "from collections import defaultdict\n",
    "def canFinish(numCourses, prerequisites):\n",
    "    # build the graph of the given courses and their dependencies\n",
    "    graph = defaultdict(GNode)\n",
    "    totalEdges = 0\n",
    "    for relation in prerequisites:\n",
    "        cur_course, prev_course = relation\n",
    "        graph[prev_course].outnodes.append(cur_course)\n",
    "        graph[cur_course].indegree += 1\n",
    "        totalEdges += 1\n",
    "    \n",
    "    \n",
    "    # create a set to hold all the nodes with indegree 0 \n",
    "    noParentNodes = set()\n",
    "    for index, node in graph.items():\n",
    "        if node.indegree == 0:\n",
    "            noParentNodes.add(index)\n",
    "    \n",
    "    removedEdges = 0\n",
    "    while noParentNodes:\n",
    "        cur_course = noParentNodes.pop()\n",
    "        \n",
    "        # explore the children\n",
    "        for next_node in graph[cur_course].outnodes:\n",
    "            graph[next_node].indegree -= 1\n",
    "            removedEdges += 1\n",
    "            \n",
    "            if graph[next_node].indegree == 0:\n",
    "                noParentNodes.add(next_node)\n",
    "    \n",
    "    # no edges left means no cyles\n",
    "    if removedEdges == totalEdges:\n",
    "        return True\n",
    "    else:\n",
    "        return False"
   ]
  },
  {
   "cell_type": "code",
   "execution_count": 42,
   "metadata": {},
   "outputs": [
    {
     "data": {
      "text/plain": [
       "True"
      ]
     },
     "execution_count": 42,
     "metadata": {},
     "output_type": "execute_result"
    }
   ],
   "source": [
    "canFinish(2, [[1,0], [0, 2]])"
   ]
  },
  {
   "cell_type": "code",
   "execution_count": null,
   "metadata": {
    "collapsed": true
   },
   "outputs": [],
   "source": []
  }
 ],
 "metadata": {
  "kernelspec": {
   "display_name": "Python 3",
   "language": "python",
   "name": "python3"
  },
  "language_info": {
   "codemirror_mode": {
    "name": "ipython",
    "version": 3
   },
   "file_extension": ".py",
   "mimetype": "text/x-python",
   "name": "python",
   "nbconvert_exporter": "python",
   "pygments_lexer": "ipython3",
   "version": "3.6.10"
  }
 },
 "nbformat": 4,
 "nbformat_minor": 2
}
