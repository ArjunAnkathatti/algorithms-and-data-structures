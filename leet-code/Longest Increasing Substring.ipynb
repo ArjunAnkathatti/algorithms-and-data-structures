{
 "cells": [
  {
   "cell_type": "markdown",
   "metadata": {},
   "source": [
    "### Longest Increasing Subsequence\n",
    "Given an unsorted array of integers, find the length of longest increasing subsequence.\n",
    "<br>\n",
    "__Example:__\n",
    "<br>\n",
    "Input: [10,9,2,5,3,7,101,18]\n",
    "<br>\n",
    "Output: 4 \n",
    "<br>\n",
    "Explanation: The longest increasing subsequence is [2,3,7,101], therefore the length is 4.\n",
    "<br>\n",
    "Note: The subsequence need not be made with consecutive numbers. You can pick any numbers but they each number you pick should lie to the right of the previously picked element in the original array."
   ]
  },
  {
   "cell_type": "markdown",
   "metadata": {},
   "source": [
    "#### Solution - Dynamic Programming\n",
    "We will use dynamic programming to solve this problem. "
   ]
  },
  {
   "cell_type": "code",
   "execution_count": 3,
   "metadata": {
    "collapsed": true
   },
   "outputs": [],
   "source": [
    "def lenghtOfLIS(nums):\n",
    "    # handle edge cases\n",
    "    if len(nums) == 0:\n",
    "        return 0\n",
    "    elif len(nums) == 1:\n",
    "        return 1\n",
    "    \n",
    "    # take an array of length equal to the length of the array\n",
    "    memo = []\n",
    "    for i in range(len(nums)):\n",
    "        # initialize the array with 1 \n",
    "        # 1 = will the minimum length of the subsequence \n",
    "        memo.append(1)\n",
    "        \n",
    "    # for all the from the beginign but one compare it will all the \n",
    "    # element from the begining till the current selected item\n",
    "    for j in range(1, len(nums)):\n",
    "        for i in range(0, j):\n",
    "            # compare all the element towards left of the current element \n",
    "            # and chekc if it is less than the curren element \n",
    "            # if it is less than current element then we can pick it for our subsequence\n",
    "            if nums[i] < nums[j]:\n",
    "                # update the lenghth of the subsequence of the current element \n",
    "                memo[j] = max(memo[j], memo[i] + 1)\n",
    "    \n",
    "    # now after we come out of the loop, our memo array will have length of maximum subsequence for all the elements\n",
    "    # our answere will the largest of the memo array\n",
    "    # so find the maximum value in the memo array\n",
    "    max_val = -2**31\n",
    "    for m in memo:\n",
    "        if m > max_val:\n",
    "            max_val = m\n",
    "    \n",
    "    # finally return the max_val\n",
    "    return max_val"
   ]
  },
  {
   "cell_type": "code",
   "execution_count": 4,
   "metadata": {},
   "outputs": [
    {
     "name": "stdout",
     "output_type": "stream",
     "text": [
      "expected output = 4\n"
     ]
    },
    {
     "data": {
      "text/plain": [
       "4"
      ]
     },
     "execution_count": 4,
     "metadata": {},
     "output_type": "execute_result"
    }
   ],
   "source": [
    "nums = [10,9,2,55,3,7,101,18]\n",
    "print(\"expected output = 4\")\n",
    "lenghtOfLIS(nums)"
   ]
  },
  {
   "cell_type": "code",
   "execution_count": 5,
   "metadata": {},
   "outputs": [
    {
     "name": "stdout",
     "output_type": "stream",
     "text": [
      "expected output = 0\n"
     ]
    },
    {
     "data": {
      "text/plain": [
       "0"
      ]
     },
     "execution_count": 5,
     "metadata": {},
     "output_type": "execute_result"
    }
   ],
   "source": [
    "nums = []\n",
    "print(\"expected output = 0\")\n",
    "lenghtOfLIS(nums)"
   ]
  },
  {
   "cell_type": "code",
   "execution_count": 6,
   "metadata": {},
   "outputs": [
    {
     "name": "stdout",
     "output_type": "stream",
     "text": [
      "expected output = 1\n"
     ]
    },
    {
     "data": {
      "text/plain": [
       "1"
      ]
     },
     "execution_count": 6,
     "metadata": {},
     "output_type": "execute_result"
    }
   ],
   "source": [
    "nums = [1]\n",
    "print(\"expected output = 1\")\n",
    "lenghtOfLIS(nums)"
   ]
  },
  {
   "cell_type": "code",
   "execution_count": 7,
   "metadata": {},
   "outputs": [
    {
     "name": "stdout",
     "output_type": "stream",
     "text": [
      "expected output = 1\n"
     ]
    },
    {
     "data": {
      "text/plain": [
       "1"
      ]
     },
     "execution_count": 7,
     "metadata": {},
     "output_type": "execute_result"
    }
   ],
   "source": [
    "nums = [2,2]\n",
    "print(\"expected output = 1\")\n",
    "lenghtOfLIS(nums)"
   ]
  },
  {
   "cell_type": "code",
   "execution_count": null,
   "metadata": {
    "collapsed": true
   },
   "outputs": [],
   "source": []
  }
 ],
 "metadata": {
  "kernelspec": {
   "display_name": "Python 3",
   "language": "python",
   "name": "python3"
  },
  "language_info": {
   "codemirror_mode": {
    "name": "ipython",
    "version": 3
   },
   "file_extension": ".py",
   "mimetype": "text/x-python",
   "name": "python",
   "nbconvert_exporter": "python",
   "pygments_lexer": "ipython3",
   "version": "3.6.10"
  }
 },
 "nbformat": 4,
 "nbformat_minor": 2
}
