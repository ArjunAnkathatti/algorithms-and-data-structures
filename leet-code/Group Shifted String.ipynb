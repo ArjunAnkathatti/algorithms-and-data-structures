{
 "cells": [
  {
   "cell_type": "markdown",
   "metadata": {},
   "source": [
    "### Group Shifted Strings\n",
    "<pre>\n",
    "Given a string, we can \"shift\" each of its letter to its successive letter, for example: \"abc\" -> \"bcd\". We can keep \"shifting\" which forms the sequence:\n",
    "\n",
    "\"abc\" -> \"bcd\" -> ... -> \"xyz\"\n",
    "Given a list of non-empty strings which contains only lowercase alphabets, group all strings that belong to the same shifting sequence.\n",
    "\n",
    "Example:\n",
    "\n",
    "Input: [\"abc\", \"bcd\", \"acef\", \"xyz\", \"az\", \"ba\", \"a\", \"z\"],\n",
    "Output: \n",
    "[\n",
    "  [\"abc\",\"bcd\",\"xyz\"],\n",
    "  [\"az\",\"ba\"],\n",
    "  [\"acef\"],\n",
    "  [\"a\",\"z\"]\n",
    "]\n",
    "</pre>"
   ]
  },
  {
   "cell_type": "code",
   "execution_count": 100,
   "metadata": {},
   "outputs": [],
   "source": [
    "from typing import List\n",
    "from collections import defaultdict\n",
    "def diff(char1, char2):\n",
    "    idx1 = ord(char1)\n",
    "    idx2 = ord(char2)\n",
    "    if idx1 > idx2:\n",
    "        return (122 - idx1) + (idx2 - 96)\n",
    "    else:\n",
    "        return idx2 - idx1\n",
    "\n",
    "def groupStrings(strings: List[str]) -> List[List[str]]:\n",
    "    groups = defaultdict(list)\n",
    "    for word in strings:\n",
    "        shift = []\n",
    "        prev_char = word[0]\n",
    "        for char in word:\n",
    "            shift.append(diff(prev_char, char))\n",
    "            prev_char = char\n",
    "\n",
    "        groups[tuple(shift)].append(word)\n",
    "\n",
    "    return groups.values()"
   ]
  },
  {
   "cell_type": "code",
   "execution_count": 101,
   "metadata": {},
   "outputs": [
    {
     "data": {
      "text/plain": [
       "dict_values([['fpbnsbrkbcyzdmmmoisaa', 'rbnzendwnoklpyyyauemm'], ['abc', 'xyz']])"
      ]
     },
     "execution_count": 101,
     "metadata": {},
     "output_type": "execute_result"
    }
   ],
   "source": [
    "words = ['fpbnsbrkbcyzdmmmoisaa','rbnzendwnoklpyyyauemm', 'abc', 'xyz']\n",
    "groupStrings(words)"
   ]
  },
  {
   "cell_type": "code",
   "execution_count": null,
   "metadata": {
    "collapsed": true
   },
   "outputs": [],
   "source": []
  }
 ],
 "metadata": {
  "kernelspec": {
   "display_name": "Python 3",
   "language": "python",
   "name": "python3"
  },
  "language_info": {
   "codemirror_mode": {
    "name": "ipython",
    "version": 3
   },
   "file_extension": ".py",
   "mimetype": "text/x-python",
   "name": "python",
   "nbconvert_exporter": "python",
   "pygments_lexer": "ipython3",
   "version": "3.6.10"
  }
 },
 "nbformat": 4,
 "nbformat_minor": 2
}
