{
 "cells": [
  {
   "cell_type": "code",
   "execution_count": 23,
   "metadata": {},
   "outputs": [],
   "source": [
    "def duplicateZeros(arr):\n",
    "        \"\"\"\n",
    "        Do not return anything, modify arr in-place instead.\n",
    "        \"\"\"\n",
    "        l = len(arr) - 1\n",
    "        while(l >= 0):\n",
    "            if (arr[l] == 0):\n",
    "                shiftRight(arr, l)\n",
    "                print(arr)\n",
    "            l -= 1\n"
   ]
  },
  {
   "cell_type": "code",
   "execution_count": 24,
   "metadata": {},
   "outputs": [],
   "source": [
    "def shiftRight(arr, startIndex):\n",
    "    if startIndex == len(arr) -1:\n",
    "        pass\n",
    "    elif startIndex < 0 or startIndex >= len(arr):\n",
    "        print(\"invlaid start index\")\n",
    "    else:\n",
    "        i = len(arr) - 2\n",
    "        while(i >= startIndex):\n",
    "            arr[i+1] = arr[i]\n",
    "            i -= 1\n",
    "            "
   ]
  },
  {
   "cell_type": "code",
   "execution_count": 25,
   "metadata": {},
   "outputs": [
    {
     "name": "stdout",
     "output_type": "stream",
     "text": [
      "[1, 0, 2, 3, 0, 4, 5, 0]\n",
      "[1, 0, 2, 3, 0, 4, 5, 0]\n",
      "[1, 0, 2, 3, 0, 0, 4, 5]\n",
      "[1, 0, 0, 2, 3, 0, 0, 4]\n",
      "[1, 0, 0, 2, 3, 0, 0, 4]\n"
     ]
    }
   ],
   "source": [
    "nums = [1,0,2,3,0,4,5,0]\n",
    "print(nums)\n",
    "#shiftRight(nums, 2)\n",
    "duplicateZeros(nums)\n",
    "print(nums)"
   ]
  },
  {
   "cell_type": "code",
   "execution_count": null,
   "metadata": {
    "collapsed": true
   },
   "outputs": [],
   "source": []
  }
 ],
 "metadata": {
  "kernelspec": {
   "display_name": "Python 3",
   "language": "python",
   "name": "python3"
  },
  "language_info": {
   "codemirror_mode": {
    "name": "ipython",
    "version": 3
   },
   "file_extension": ".py",
   "mimetype": "text/x-python",
   "name": "python",
   "nbconvert_exporter": "python",
   "pygments_lexer": "ipython3",
   "version": "3.6.10"
  }
 },
 "nbformat": 4,
 "nbformat_minor": 2
}
