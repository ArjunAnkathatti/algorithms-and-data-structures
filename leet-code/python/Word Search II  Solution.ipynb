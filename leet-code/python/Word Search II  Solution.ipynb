{
 "cells": [
  {
   "cell_type": "markdown",
   "metadata": {},
   "source": [
    "### Word Search II\n",
    "Given a 2D board and a list of words from the dictionary, find all words in the board.\n",
    "<br><br>\n",
    "Each word must be constructed from letters of sequentially adjacent cell, where \"adjacent\" cells are those horizontally or vertically neighboring. The same letter cell may not be used more than once in a word.\n",
    "<br><br>\n",
    "__Example:__\n",
    "<br>\n",
    "Input: <br>\n",
    "board = [<br>\n",
    "  ['o','a','a','n'],<br>\n",
    "  ['e','t','a','e'],<br>\n",
    "  ['i','h','k','r'],<br>\n",
    "  ['i','f','l','v']<br>\n",
    "]\n",
    "<br>\n",
    "words = [\"oath\",\"pea\",\"eat\",\"rain\"]\n",
    "<br>\n",
    "Output: [\"eat\",\"oath\"]"
   ]
  },
  {
   "cell_type": "code",
   "execution_count": 26,
   "metadata": {},
   "outputs": [],
   "source": [
    "from typing import List"
   ]
  },
  {
   "cell_type": "code",
   "execution_count": 27,
   "metadata": {
    "collapsed": true
   },
   "outputs": [],
   "source": [
    "def findWords(board: List[List[str]], words: List[str]) -> List[str]:\n",
    "    matached_words = []\n",
    "    trie = {}\n",
    "    WORD_KEY = \"$\"\n",
    "    \n",
    "    # build the trie for all the words in a given dictionary\n",
    "    for word in words:\n",
    "        node = trie\n",
    "        for letter in word:\n",
    "            if letter not in node:\n",
    "                node[letter] = dict()\n",
    "            \n",
    "            node = node[letter]\n",
    "        \n",
    "        # add word to the dictionary \n",
    "        node[WORD_KEY] = word\n",
    "    \n",
    "    # take the cell position and the node in trie\n",
    "    def backtrack(row, col, parent):\n",
    "        letter = board[row][col]\n",
    "        curNode = parent[letter]\n",
    "        \n",
    "        # check if the current node has the word or not \n",
    "        word_match = curNode.pop(WORD_KEY, False)\n",
    "        if word_match:\n",
    "            matached_words.append(word_match)\n",
    "        \n",
    "        # mark current cell as visitied \n",
    "        board[row][col] = \"#\"\n",
    "        # visit all the neighbors\n",
    "        for (rowOffSet, colOffSet) in [(1,0),(-1,0),(0,1),(0,-1)]:\n",
    "            newRow = row+rowOffSet\n",
    "            newCol = col+colOffSet\n",
    "            \n",
    "            # if new cell is not valid then continue \n",
    "            if newRow < 0 or newRow >= len(board) or newCol < 0 or newCol >= len(board[row]):\n",
    "                continue \n",
    "            \n",
    "            # if new cell letter is not in dictionary then skip it\n",
    "            if board[newRow][newCol] not in curNode:\n",
    "                continue\n",
    "            \n",
    "            # else visit neighbours\n",
    "            backtrack(newRow, newCol, curNode)\n",
    "        \n",
    "        #revert the marked cell back to its original value\n",
    "        board[row][col] = letter\n",
    "    \n",
    "    \n",
    "    # for every cell in the board, if the letter matches the first letter in any of the word in the\n",
    "    # given dictionary of words, call backtrack\n",
    "    # Starting letter of all the words will in the trie dictionary\n",
    "    for i in range(len(board)):\n",
    "        for j in range(len(board[i])):\n",
    "            if board[i][j] in trie:\n",
    "                backtrack(i, j, trie)\n",
    "    \n",
    "    \n",
    "    return matached_words\n",
    "    "
   ]
  },
  {
   "cell_type": "code",
   "execution_count": 28,
   "metadata": {
    "collapsed": true
   },
   "outputs": [],
   "source": [
    "board = [['o','a','a','n'],['e','t','a','e'],['i','h','k','r'],['i','f','l','v']]\n",
    "words = [\"oath\",\"pea\",\"eat\",\"rain\"]"
   ]
  },
  {
   "cell_type": "code",
   "execution_count": 29,
   "metadata": {},
   "outputs": [],
   "source": [
    "matched = findWords(board, words)"
   ]
  },
  {
   "cell_type": "code",
   "execution_count": 30,
   "metadata": {},
   "outputs": [
    {
     "name": "stdout",
     "output_type": "stream",
     "text": [
      "['oath', 'eat']\n"
     ]
    }
   ],
   "source": [
    "print(matched)"
   ]
  },
  {
   "cell_type": "code",
   "execution_count": null,
   "metadata": {
    "collapsed": true
   },
   "outputs": [],
   "source": []
  }
 ],
 "metadata": {
  "kernelspec": {
   "display_name": "Python 3",
   "language": "python",
   "name": "python3"
  },
  "language_info": {
   "codemirror_mode": {
    "name": "ipython",
    "version": 3
   },
   "file_extension": ".py",
   "mimetype": "text/x-python",
   "name": "python",
   "nbconvert_exporter": "python",
   "pygments_lexer": "ipython3",
   "version": "3.6.10"
  }
 },
 "nbformat": 4,
 "nbformat_minor": 2
}
