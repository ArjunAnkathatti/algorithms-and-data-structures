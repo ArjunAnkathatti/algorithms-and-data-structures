{
 "cells": [
  {
   "cell_type": "markdown",
   "metadata": {},
   "source": [
    "### Trapping Rain Water\n",
    "Given n non-negative integers representing an elevation map where the width of each bar is 1, compute how much water it is able to trap after raining.\n",
    "![alt text](Trapping_Rain_Water.png \"Trapping Rain Water Problem Description\")"
   ]
  },
  {
   "cell_type": "markdown",
   "metadata": {},
   "source": [
    "### Solution - Dynamic Programming\n",
    "Using LeftMax and RightMax array to store the max values for each index in the height/bar.\n",
    "<br>\n",
    "For each element or bar in the input, identify it's left and right bounds. Difference between the height of the current bar to minimum height of its left bound and right bound will be the amount of water a current bar can store.\n",
    "<br>\n",
    "Left bound is the bar to the left of the current bar which is taller than the current bar.\n",
    "<br>\n",
    "Right bound is the bar to the right to the current bar and taller than the current bar.\n",
    "<br>\n",
    "<br>\n",
    "__Base Case__\n",
    "<br>\n",
    "LeftMax[0] = height[0]\n",
    "<br>\n",
    "Rightmax[-1] = height[-1]"
   ]
  },
  {
   "cell_type": "code",
   "execution_count": 6,
   "metadata": {},
   "outputs": [],
   "source": [
    "def trap(height) -> int:\n",
    "    # edge case\n",
    "    if len(height) <= 2:\n",
    "        return 0\n",
    "\n",
    "    # for each ith position in the input calculate the left max till ith postion\n",
    "    left_max = []\n",
    "    right_max = []\n",
    "    left_max.append(height[0])\n",
    "    right_max.append(0)\n",
    "    for i in range(1, len(height)):\n",
    "        left_max.append(max(height[i], left_max[i - 1]))\n",
    "        right_max.append(0)\n",
    "\n",
    "    # similar to left max, calculate the right max for each of the cell in height \n",
    "    right_max[-1] = height[-1]\n",
    "    for i in range(len(height)-2, -1, -1):\n",
    "        right_max[i] = max(height[i], right_max[i+1])\n",
    "\n",
    "    # amoutn of raing water = min(left_max, right_max) - height of the cell\n",
    "    ans = 0\n",
    "    for i in range(len(height)):\n",
    "        ans += min(left_max[i], right_max[i]) - height[i]\n",
    "\n",
    "    return ans"
   ]
  },
  {
   "cell_type": "code",
   "execution_count": 7,
   "metadata": {},
   "outputs": [
    {
     "name": "stdout",
     "output_type": "stream",
     "text": [
      "[0, 1, 0, 2, 1, 0, 1, 3, 2, 1, 2, 1]\n",
      "expected output = 6\n"
     ]
    },
    {
     "data": {
      "text/plain": [
       "6"
      ]
     },
     "execution_count": 7,
     "metadata": {},
     "output_type": "execute_result"
    }
   ],
   "source": [
    "height = [0,1,0,2,1,0,1,3,2,1,2,1]\n",
    "print(height)\n",
    "print('expected output = 6')\n",
    "trap(height)"
   ]
  },
  {
   "cell_type": "markdown",
   "metadata": {},
   "source": [
    "### Solution 02 - Two Pointer Approach\n",
    "No extra space but to use two pointers which will traverse the array. We can implement a function which will give us the version number between the decimal point(.) given a string and the starting number."
   ]
  },
  {
   "cell_type": "code",
   "execution_count": 11,
   "metadata": {
    "collapsed": true
   },
   "outputs": [],
   "source": [
    "v1 = \"123\".split(\".\")"
   ]
  },
  {
   "cell_type": "code",
   "execution_count": 12,
   "metadata": {},
   "outputs": [
    {
     "name": "stdout",
     "output_type": "stream",
     "text": [
      "['123']\n"
     ]
    }
   ],
   "source": [
    "print(v1)"
   ]
  },
  {
   "cell_type": "code",
   "execution_count": null,
   "metadata": {
    "collapsed": true
   },
   "outputs": [],
   "source": []
  }
 ],
 "metadata": {
  "kernelspec": {
   "display_name": "Python 3",
   "language": "python",
   "name": "python3"
  },
  "language_info": {
   "codemirror_mode": {
    "name": "ipython",
    "version": 3
   },
   "file_extension": ".py",
   "mimetype": "text/x-python",
   "name": "python",
   "nbconvert_exporter": "python",
   "pygments_lexer": "ipython3",
   "version": "3.6.10"
  }
 },
 "nbformat": 4,
 "nbformat_minor": 2
}
