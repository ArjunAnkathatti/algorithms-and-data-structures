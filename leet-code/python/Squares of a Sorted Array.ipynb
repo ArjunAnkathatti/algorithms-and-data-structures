{
 "cells": [
  {
   "cell_type": "markdown",
   "metadata": {},
   "source": [
    "#### Hint: \n",
    "Use two pointer approach to solve this problem in just O(N) time. One pointer to read all the negative numbers and another pointer to read the positive numbers."
   ]
  },
  {
   "cell_type": "code",
   "execution_count": 31,
   "metadata": {},
   "outputs": [],
   "source": [
    "def sortedSquares(A):\n",
    "    j = 0\n",
    "    while(j < len(A) and A[j] < 0):\n",
    "        j += 1\n",
    "        \n",
    "    i = j -1\n",
    "    res = []\n",
    "    while(0 <= i and j < len(A)):\n",
    "        if (A[i]**2 < A[j]**2):\n",
    "            res.append(A[i]**2)\n",
    "            i -= 1\n",
    "        else:\n",
    "            res.append(A[j]**2)\n",
    "            j += 1\n",
    "    \n",
    "    while(i >= 0): \n",
    "        res.append(A[i]**2)\n",
    "        i -= 1\n",
    "    \n",
    "    while(j < len(A)):\n",
    "        res.append(A[j]**2)\n",
    "        j += 1\n",
    "    \n",
    "    return res"
   ]
  },
  {
   "cell_type": "code",
   "execution_count": 32,
   "metadata": {},
   "outputs": [
    {
     "name": "stdout",
     "output_type": "stream",
     "text": [
      "[-3, -2, -1, 4, 5, 6]\n"
     ]
    }
   ],
   "source": [
    "nums = [-3, -2, -1, 4, 5, 6]\n",
    "print(nums)"
   ]
  },
  {
   "cell_type": "code",
   "execution_count": 33,
   "metadata": {},
   "outputs": [
    {
     "name": "stdout",
     "output_type": "stream",
     "text": [
      "[1, 4, 9, 16, 25, 36]\n"
     ]
    }
   ],
   "source": [
    "squared = sortedSquares(nums)\n",
    "print(squared)"
   ]
  },
  {
   "cell_type": "code",
   "execution_count": null,
   "metadata": {
    "collapsed": true
   },
   "outputs": [],
   "source": []
  }
 ],
 "metadata": {
  "kernelspec": {
   "display_name": "Python 3",
   "language": "python",
   "name": "python3"
  },
  "language_info": {
   "codemirror_mode": {
    "name": "ipython",
    "version": 3
   },
   "file_extension": ".py",
   "mimetype": "text/x-python",
   "name": "python",
   "nbconvert_exporter": "python",
   "pygments_lexer": "ipython3",
   "version": "3.6.10"
  }
 },
 "nbformat": 4,
 "nbformat_minor": 2
}
