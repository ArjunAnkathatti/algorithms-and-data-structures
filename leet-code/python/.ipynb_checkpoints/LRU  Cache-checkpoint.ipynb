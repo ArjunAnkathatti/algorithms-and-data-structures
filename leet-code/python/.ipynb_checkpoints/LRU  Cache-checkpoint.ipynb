{
 "cells": [
  {
   "cell_type": "markdown",
   "metadata": {},
   "source": [
    "### LRU Cache\n",
    "Design and implement a data structure for __Least Recently Used (LRU)__ cache. It should support the following operations: get and put.\n",
    "<br>\n",
    "\n",
    "get(key) - Get the value (will always be positive) of the key if the key exists in the cache, otherwise return -1.\n",
    "<br>\n",
    "put(key, value) - Set or insert the value if the key is not already present. When the cache reached its capacity, it should invalidate the least recently used item before inserting a new item.\n",
    "<br>\n",
    "<br>\n",
    "\n",
    "The cache is initialized with a positive capacity.\n",
    "<br>"
   ]
  },
  {
   "cell_type": "markdown",
   "metadata": {},
   "source": [
    "### Approach 1: Ordered dictionary\n",
    "__Intuition__\n",
    "<br>\n",
    "We're asked to implement the structure which provides the following operations in \\mathcal{O}(1)O(1) time :\n",
    "<br>\n",
    "Get the key / Check if the key exists\n",
    "<br>\n",
    "Put the key\n",
    "<br>\n",
    "Delete the first added key\n",
    "<br>\n",
    "The first two operations in \\mathcal{O}(1)O(1) time are provided by the standard hashmap, and the last one - by linked list.\n",
    "<br>\n",
    "There is a structure called ordered dictionary, it combines behind both hashmap and linked list. In Python this structure is called __OrderedDict__ and in Java __LinkedHashMap__.\n",
    "<br>"
   ]
  },
  {
   "cell_type": "code",
   "execution_count": 16,
   "metadata": {
    "collapsed": true
   },
   "outputs": [],
   "source": [
    "from collections import OrderedDict"
   ]
  },
  {
   "cell_type": "code",
   "execution_count": 17,
   "metadata": {
    "collapsed": true
   },
   "outputs": [],
   "source": [
    "class LRUCache(OrderedDict):\n",
    "    def __init__(self, capacity):\n",
    "        self.capacity = capacity\n",
    "        \n",
    "    def get(self, key):\n",
    "        if key not in self:\n",
    "            return -1\n",
    "        \n",
    "        self.move_to_end(key)\n",
    "        return self[key]\n",
    "    \n",
    "    def put(self, key, value):\n",
    "        if key in self:\n",
    "            self.move_to_end(key)\n",
    "        \n",
    "        self[key] = value\n",
    "        if len(self) > self.capacity:\n",
    "            self.popitem(last = False)\n",
    "    "
   ]
  },
  {
   "cell_type": "code",
   "execution_count": null,
   "metadata": {
    "collapsed": true
   },
   "outputs": [],
   "source": []
  }
 ],
 "metadata": {
  "kernelspec": {
   "display_name": "Python 3",
   "language": "python",
   "name": "python3"
  },
  "language_info": {
   "codemirror_mode": {
    "name": "ipython",
    "version": 3
   },
   "file_extension": ".py",
   "mimetype": "text/x-python",
   "name": "python",
   "nbconvert_exporter": "python",
   "pygments_lexer": "ipython3",
   "version": "3.6.10"
  }
 },
 "nbformat": 4,
 "nbformat_minor": 2
}
