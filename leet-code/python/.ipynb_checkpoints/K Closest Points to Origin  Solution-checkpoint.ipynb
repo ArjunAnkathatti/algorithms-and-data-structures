{
 "cells": [
  {
   "cell_type": "markdown",
   "metadata": {},
   "source": [
    "### K Closest Points to Origin\n",
    "\n",
    "We have a list of points on the plane.  Find the K closest points to the origin (0, 0).\n",
    "<br>\n",
    "(Here, the distance between two points on a plane is the Euclidean distance.)\n",
    "<br>\n",
    "You may return the answer in any order.  The answer is guaranteed to be unique (except for the order that it is in.)"
   ]
  },
  {
   "cell_type": "markdown",
   "metadata": {},
   "source": [
    "__Example 1:__\n",
    "\n",
    "Input: points = [[1,3],[-2,2]], K = 1\n",
    "<br>\n",
    "Output: [[-2,2]]\n",
    "<br>\n",
    "Explanation: \n",
    "<br>\n",
    "The distance between (1, 3) and the origin is sqrt(10).\n",
    "<br>\n",
    "The distance between (-2, 2) and the origin is sqrt(8).\n",
    "<br>\n",
    "Since sqrt(8) < sqrt(10), (-2, 2) is closer to the origin.\n",
    "<br>\n",
    "We only want the closest K = 1 points from the origin, so the answer is just [[-2,2]].\n",
    "<br>"
   ]
  },
  {
   "cell_type": "markdown",
   "metadata": {},
   "source": [
    "__Example 2:__\n",
    "\n",
    "Input: points = [[3,3],[5,-1],[-2,4]], K = 2\n",
    "<br>\n",
    "Output: [[3,3],[-2,4]]\n",
    "<br>\n",
    "(The answer [[-2,4],[3,3]] would also be accepted.)\n",
    "<br>"
   ]
  },
  {
   "cell_type": "code",
   "execution_count": 41,
   "metadata": {},
   "outputs": [],
   "source": [
    "from random import randint"
   ]
  },
  {
   "cell_type": "code",
   "execution_count": 66,
   "metadata": {
    "collapsed": true
   },
   "outputs": [],
   "source": [
    "def euclidean(point):\n",
    "    return ((0 - point[0])**2 + (0 - point[1])**2) * -1"
   ]
  },
  {
   "cell_type": "code",
   "execution_count": 75,
   "metadata": {},
   "outputs": [],
   "source": [
    "# partition algorithm to sort the points based on their euclidean distance\n",
    "def partition(points, left, right):\n",
    "    i = left\n",
    "    j = left\n",
    "    pivot_index = randint(left, right)\n",
    "    pivot_point = points[pivot_index]\n",
    "    print(\"Pivot index : \", pivot_index)\n",
    "    print(\"Pivot point : \", pivot_point)\n",
    "    \n",
    "    points[pivot_index], points[right] = points[right], points[pivot_index]\n",
    "    pivot_point_distance = euclidean(pivot_point)\n",
    "    while(j < right):\n",
    "        dj = euclidean(points[j])\n",
    "        if dj < pivot_point_distance:\n",
    "            points[i], points[j] = points[j], points[i] \n",
    "            i += 1\n",
    "        j += 1\n",
    "        \n",
    "    points[i], points[right] = points[right], points[i]\n",
    "    return i"
   ]
  },
  {
   "cell_type": "code",
   "execution_count": 69,
   "metadata": {},
   "outputs": [
    {
     "name": "stdout",
     "output_type": "stream",
     "text": [
      "[[3, 3], [5, -1], [-2, 4]]\n",
      "sorted array [[5, -1], [-2, 4], [3, 3]]\n",
      "Pivot index :  1\n",
      "Pivot point :  [5, -1]\n",
      "[[5, -1], [-2, 4], [3, 3]]\n"
     ]
    }
   ],
   "source": [
    "points = [[3,3],[5,-1],[-2,4]]\n",
    "print(points)\n",
    "print(\"sorted array [[5, -1], [-2, 4], [3, 3]]\")\n",
    "#points.sort(key = euclidean)\n",
    "#print(points)\n",
    "partition(points, 0, len(points) -1)\n",
    "print(points)"
   ]
  },
  {
   "cell_type": "code",
   "execution_count": 70,
   "metadata": {
    "collapsed": true
   },
   "outputs": [],
   "source": [
    "from heapq import nlargest"
   ]
  },
  {
   "cell_type": "code",
   "execution_count": 71,
   "metadata": {
    "collapsed": true
   },
   "outputs": [],
   "source": [
    "klargest = nlargest(2, points, key=euclidean)"
   ]
  },
  {
   "cell_type": "code",
   "execution_count": 72,
   "metadata": {},
   "outputs": [
    {
     "name": "stdout",
     "output_type": "stream",
     "text": [
      "[[3, 3], [-2, 4]]\n"
     ]
    }
   ],
   "source": [
    "print(klargest)"
   ]
  },
  {
   "cell_type": "code",
   "execution_count": 74,
   "metadata": {},
   "outputs": [
    {
     "name": "stdout",
     "output_type": "stream",
     "text": [
      "[[-2, 2]]\n"
     ]
    }
   ],
   "source": [
    "points = [[1,3],[-2,2]]\n",
    "klargest = nlargest(1, points, key=euclidean)\n",
    "print(klargest)"
   ]
  },
  {
   "cell_type": "code",
   "execution_count": null,
   "metadata": {
    "collapsed": true
   },
   "outputs": [],
   "source": []
  }
 ],
 "metadata": {
  "kernelspec": {
   "display_name": "Python 3",
   "language": "python",
   "name": "python3"
  },
  "language_info": {
   "codemirror_mode": {
    "name": "ipython",
    "version": 3
   },
   "file_extension": ".py",
   "mimetype": "text/x-python",
   "name": "python",
   "nbconvert_exporter": "python",
   "pygments_lexer": "ipython3",
   "version": "3.6.10"
  }
 },
 "nbformat": 4,
 "nbformat_minor": 2
}
