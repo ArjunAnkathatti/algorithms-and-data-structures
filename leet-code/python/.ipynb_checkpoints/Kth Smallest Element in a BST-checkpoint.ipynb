{
 "cells": [
  {
   "cell_type": "markdown",
   "metadata": {},
   "source": [
    "### Kth Smallest Element in a BST\n",
    "Given a binary search tree, write a function kthSmallest to find the kth smallest element in it.\n",
    "<br>"
   ]
  },
  {
   "cell_type": "markdown",
   "metadata": {},
   "source": [
    "### Solution 01 - Sorting (Recursion)\n",
    "Add elements to a list and sort the list. The element at the k-1th position in the list will be the kth smallest element.\n",
    "<br>\n",
    "<br>\n",
    "In-order traversal of a BST will give us the sorted list. So, all we have to do a inorder traversal to construct the array.\n",
    "<br>"
   ]
  },
  {
   "cell_type": "code",
   "execution_count": 2,
   "metadata": {
    "collapsed": true
   },
   "outputs": [],
   "source": [
    "# Definition for a binary tree node.\n",
    "class TreeNode:\n",
    "    def __init__(self, val=0, left=None, right=None):\n",
    "        self.val = val\n",
    "        self.left = left\n",
    "        self.right = right"
   ]
  },
  {
   "cell_type": "code",
   "execution_count": 3,
   "metadata": {
    "collapsed": true
   },
   "outputs": [],
   "source": [
    "def kthSmallest(root: TreeNode, k: int) -> int:\n",
    "    # inorder method will give array of sorted elements\n",
    "    def inorder(r):\n",
    "        if r == None:\n",
    "            return []\n",
    "        \n",
    "        return inorder(r.left) + [r.val] + inorder(r.right)\n",
    "    \n",
    "    # k-1 = to adjust for the zero based index\n",
    "    inorder(root)[k-1]"
   ]
  },
  {
   "cell_type": "markdown",
   "metadata": {},
   "source": [
    "### Solution 02 - Sorting (Iteration)\n",
    "We can convert the recursion based in-order traversal into iteration base in-order traversal by using stacks."
   ]
  },
  {
   "cell_type": "code",
   "execution_count": 4,
   "metadata": {
    "collapsed": true
   },
   "outputs": [],
   "source": [
    "def kthSmallest(root: TreeNode, k: int) -> int:\n",
    "        stack = []\n",
    "        while(True):\n",
    "            while root:\n",
    "                stack.append(root)\n",
    "                root = root.left\n",
    "            \n",
    "            root = stack.pop()\n",
    "            k -= 1\n",
    "            if k == 0:\n",
    "                return root.val\n",
    "            \n",
    "            root = root.right"
   ]
  },
  {
   "cell_type": "code",
   "execution_count": null,
   "metadata": {
    "collapsed": true
   },
   "outputs": [],
   "source": []
  }
 ],
 "metadata": {
  "kernelspec": {
   "display_name": "Python 3",
   "language": "python",
   "name": "python3"
  },
  "language_info": {
   "codemirror_mode": {
    "name": "ipython",
    "version": 3
   },
   "file_extension": ".py",
   "mimetype": "text/x-python",
   "name": "python",
   "nbconvert_exporter": "python",
   "pygments_lexer": "ipython3",
   "version": "3.6.10"
  }
 },
 "nbformat": 4,
 "nbformat_minor": 2
}
