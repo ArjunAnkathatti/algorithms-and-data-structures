{
 "cells": [
  {
   "cell_type": "code",
   "execution_count": 48,
   "metadata": {
    "collapsed": true
   },
   "outputs": [],
   "source": [
    "# Definition for singly-linked list.\n",
    "class ListNode:\n",
    "    def __init__(self, val=0, next=None):\n",
    "        self.val = val\n",
    "        self.next = next\n",
    "        \n",
    "class Solution:\n",
    "    def addTwoNumbers(self, l1: ListNode, l2: ListNode) -> ListNode:\n",
    "        head = None\n",
    "        curNode = head\n",
    "        carryOver = 0\n",
    "        while(l1 != None and l2 != None):\n",
    "            digitSum = l1.val + l2.val + carryOver\n",
    "            nodeVal = digitSum\n",
    "            if digitSum > 10:\n",
    "                carryOver = digitSum % 10\n",
    "                nodeVal = 0\n",
    "            elif digitSum == 10:\n",
    "                carryOver = 1\n",
    "                nodeVal = 0\n",
    "            else:\n",
    "                carryOver = 0\n",
    "                nodeVal = digitSum\n",
    "                \n",
    "            if curNode == None:\n",
    "                curNode = ListNode(nodeVal)\n",
    "                head = curNode\n",
    "            else:\n",
    "                curNode.next = ListNode(nodeVal)\n",
    "                curNode = curNode.next\n",
    "                \n",
    "            l1 = l1.next\n",
    "            l2 = l2.next\n",
    "            \n",
    "        if(l1 != None):\n",
    "            while(l1 != None):\n",
    "                digitSum = l1.val + carryOver\n",
    "                nodeVal = digitSum\n",
    "                if digitSum > 10:\n",
    "                    carryOver = digitSum % 10\n",
    "                    nodeVal = 0\n",
    "                elif digitSum == 10:\n",
    "                    carryOver = 1\n",
    "                    nodeVal = 0\n",
    "                else:\n",
    "                    carryOver = 0\n",
    "                    nodeVal = digitSum\n",
    "                    \n",
    "                if curNode == None:\n",
    "                    curNode = ListNode(nodeVal) \n",
    "                    head = curNode\n",
    "                else: \n",
    "                    curNode.next = ListNode(nodeVal)\n",
    "                    curNode = curNode.next\n",
    "                    \n",
    "                l1 = l1.next\n",
    "                    \n",
    "        if(l2 != None):\n",
    "            while(l2 != None):\n",
    "                digitSum = l2.val + carryOver\n",
    "                nodeVal = digitSum\n",
    "                if digitSum > 10:\n",
    "                    carryOver = digitSum % 10\n",
    "                    nodeVal = 0\n",
    "                elif digitSum == 10:\n",
    "                    carryOver = 1\n",
    "                    nodeVal = 0\n",
    "                else:\n",
    "                    carryOver = 0\n",
    "                    nodeVal = digitSum\n",
    "                        \n",
    "                    \n",
    "                if curNode == None:\n",
    "                    curNode = ListNode(nodeVal)\n",
    "                    head = curNode\n",
    "                else: \n",
    "                    curNode.next = ListNode(nodeVal)\n",
    "                    curNode = curNode.next\n",
    "                    \n",
    "                l2 = l2.next\n",
    "        \n",
    "        if carryOver > 10:\n",
    "            node = ListNode(0)\n",
    "            curNode.next = node\n",
    "            curNode = node\n",
    "            curNode.next = ListNode(carryOver % 10)\n",
    "        elif carryOver > 0:\n",
    "            curNode.next = ListNode(carryOver)\n",
    "            \n",
    "        return head\n",
    "        "
   ]
  },
  {
   "cell_type": "code",
   "execution_count": 5,
   "metadata": {
    "collapsed": true
   },
   "outputs": [],
   "source": [
    "# [2,4,3]\n",
    "# [5,6,4]\n",
    "l1 = ListNode(2)\n",
    "l1.next = ListNode(4)\n",
    "l1.next.next = ListNode(3)\n",
    "\n",
    "l2 = ListNode(5)\n",
    "l2.next = ListNode(6)\n",
    "l2.next.next = ListNode(4)"
   ]
  },
  {
   "cell_type": "code",
   "execution_count": 11,
   "metadata": {},
   "outputs": [],
   "source": [
    "s = Solution()\n",
    "head = s.addTwoNumbers(l1, l2)"
   ]
  },
  {
   "cell_type": "code",
   "execution_count": 12,
   "metadata": {},
   "outputs": [
    {
     "name": "stdout",
     "output_type": "stream",
     "text": [
      "7\n",
      "0\n",
      "8\n"
     ]
    }
   ],
   "source": [
    "curNode = head\n",
    "while(curNode != None):\n",
    "    print(curNode.val)\n",
    "    curNode = curNode.next"
   ]
  },
  {
   "cell_type": "markdown",
   "metadata": {
    "collapsed": true
   },
   "source": [
    "### Updated Solution"
   ]
  },
  {
   "cell_type": "code",
   "execution_count": 10,
   "metadata": {
    "collapsed": true
   },
   "outputs": [],
   "source": [
    "# Definition for singly-linked list.\n",
    "class ListNode:\n",
    "    def __init__(self, val=0, next=None):\n",
    "        self.val = val\n",
    "        self.next = next\n",
    "        \n",
    "class Solution:\n",
    "    def addTwoNumbers(self, l1: ListNode, l2: ListNode) -> ListNode:\n",
    "        head = None\n",
    "        curNode = head\n",
    "        carryOver = 0\n",
    "        while(l1 != None or l2 != None):\n",
    "            l1_val = l1.val if l1 != None else 0\n",
    "            l2_val = l2.val if l2 != None else 0\n",
    "            \n",
    "            digitSum = l1_val + l2_val + carryOver\n",
    "            nodeVal = digitSum % 10\n",
    "            carryOver = digitSum // 10\n",
    "                \n",
    "            if curNode == None:\n",
    "                curNode = ListNode(nodeVal)\n",
    "                head = curNode\n",
    "            else:\n",
    "                curNode.next = ListNode(nodeVal)\n",
    "                curNode = curNode.next\n",
    "                \n",
    "            if l1 != None:\n",
    "                l1 = l1.next\n",
    "                \n",
    "            if l2 != None:\n",
    "                l2 = l2.next\n",
    "        \n",
    "        if carryOver > 0:\n",
    "            curNode.next = ListNode(carryOver)\n",
    "            \n",
    "        return head"
   ]
  },
  {
   "cell_type": "code",
   "execution_count": null,
   "metadata": {
    "collapsed": true
   },
   "outputs": [],
   "source": []
  }
 ],
 "metadata": {
  "kernelspec": {
   "display_name": "Python 3",
   "language": "python",
   "name": "python3"
  },
  "language_info": {
   "codemirror_mode": {
    "name": "ipython",
    "version": 3
   },
   "file_extension": ".py",
   "mimetype": "text/x-python",
   "name": "python",
   "nbconvert_exporter": "python",
   "pygments_lexer": "ipython3",
   "version": "3.6.10"
  }
 },
 "nbformat": 4,
 "nbformat_minor": 2
}
