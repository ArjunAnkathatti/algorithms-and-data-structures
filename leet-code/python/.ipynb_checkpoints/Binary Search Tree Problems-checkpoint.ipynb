{
 "cells": [
  {
   "cell_type": "markdown",
   "metadata": {},
   "source": [
    "## Problem 01: Symmetric Tree"
   ]
  },
  {
   "cell_type": "code",
   "execution_count": 7,
   "metadata": {
    "collapsed": true
   },
   "outputs": [],
   "source": [
    "class ListNode:\n",
    "    def __init__(self, val):\n",
    "        self.val = val\n",
    "        self.left = None\n",
    "        self.right = None"
   ]
  },
  {
   "cell_type": "markdown",
   "metadata": {},
   "source": [
    "### Solution 01 - Recursion"
   ]
  },
  {
   "cell_type": "code",
   "execution_count": 8,
   "metadata": {
    "collapsed": true
   },
   "outputs": [],
   "source": [
    "def isSymmetric(root: ListNode) -> bool:\n",
    "    def helper(h1, h2):\n",
    "        if not h1 and not h2:\n",
    "            # when both nodes are null\n",
    "            return True\n",
    "        if not h1 or not h2:\n",
    "            # when only one of the node is null\n",
    "            return False\n",
    "        \n",
    "        if not h1.val == h2.val:\n",
    "            # when nodes doesn't have equal value\n",
    "            return False\n",
    "        \n",
    "        return helper(h1.left, h2.right) and helper(h1.right, h2.left)\n",
    "    \n",
    "    return helper(root, root)"
   ]
  },
  {
   "cell_type": "code",
   "execution_count": 11,
   "metadata": {
    "collapsed": true
   },
   "outputs": [],
   "source": [
    "head = ListNode(2)\n",
    "head.left = ListNode(1)\n",
    "head.right = ListNode(1)"
   ]
  },
  {
   "cell_type": "code",
   "execution_count": 12,
   "metadata": {},
   "outputs": [
    {
     "data": {
      "text/plain": [
       "True"
      ]
     },
     "execution_count": 12,
     "metadata": {},
     "output_type": "execute_result"
    }
   ],
   "source": [
    "isSymmetric(head)"
   ]
  },
  {
   "cell_type": "markdown",
   "metadata": {},
   "source": [
    "### Solution 02 - Iteration"
   ]
  },
  {
   "cell_type": "code",
   "execution_count": 13,
   "metadata": {
    "collapsed": true
   },
   "outputs": [],
   "source": [
    "def isSymmetric(head):\n",
    "    q = []\n",
    "    q.append(head)\n",
    "    q.append(head)\n",
    "    \n",
    "    while q:\n",
    "        h1 = q.pop(0)\n",
    "        h2 = q.pop(0)\n",
    "        \n",
    "        if not h1 and not h2:\n",
    "            continue\n",
    "        \n",
    "        if not h1 or not h2:\n",
    "            return False\n",
    "        \n",
    "        if not h1.val == h2.val:\n",
    "            return False\n",
    "        \n",
    "        q.append(h1.left)\n",
    "        q.append(h2.right)\n",
    "        \n",
    "        q.append(h1.right)\n",
    "        q.append(h2.left)\n",
    "    \n",
    "    return True"
   ]
  },
  {
   "cell_type": "code",
   "execution_count": 16,
   "metadata": {
    "collapsed": true
   },
   "outputs": [],
   "source": [
    "head = ListNode(2)\n",
    "head.left = ListNode(1)\n",
    "head.right = ListNode(3)"
   ]
  },
  {
   "cell_type": "code",
   "execution_count": 17,
   "metadata": {},
   "outputs": [
    {
     "data": {
      "text/plain": [
       "False"
      ]
     },
     "execution_count": 17,
     "metadata": {},
     "output_type": "execute_result"
    }
   ],
   "source": [
    "isSymmetric(head)"
   ]
  },
  {
   "cell_type": "markdown",
   "metadata": {},
   "source": [
    "## Problem 02: Is Valid Binary Search Tree"
   ]
  },
  {
   "cell_type": "markdown",
   "metadata": {},
   "source": [
    "### Solution 01 - Recursion"
   ]
  },
  {
   "cell_type": "code",
   "execution_count": 26,
   "metadata": {
    "collapsed": true
   },
   "outputs": [],
   "source": [
    "def isValidBST(head) -> bool:\n",
    "    def helper(head, prevMin, prevMax):\n",
    "        if not head:\n",
    "            return True\n",
    "        \n",
    "        if prevMin != None and head.val <= prevMin:\n",
    "            return False\n",
    "        \n",
    "        if prevMax != None and head.val >= prevMax:\n",
    "            return False\n",
    "        \n",
    "        return helper(head.left, prevMin, head.val) and helper(head.right, head.val, prevMax)\n",
    "    \n",
    "    return helper(head, None, None)"
   ]
  },
  {
   "cell_type": "code",
   "execution_count": 29,
   "metadata": {
    "collapsed": true
   },
   "outputs": [],
   "source": [
    "head = ListNode(2)\n",
    "head.left = ListNode(1)\n",
    "head.right = ListNode(3)"
   ]
  },
  {
   "cell_type": "code",
   "execution_count": 30,
   "metadata": {},
   "outputs": [
    {
     "name": "stdout",
     "output_type": "stream",
     "text": [
      "True\n"
     ]
    }
   ],
   "source": [
    "print(isValidBST(head))"
   ]
  },
  {
   "cell_type": "markdown",
   "metadata": {},
   "source": [
    "### Solution 02: Iteration"
   ]
  },
  {
   "cell_type": "code",
   "execution_count": 36,
   "metadata": {
    "collapsed": true
   },
   "outputs": [],
   "source": [
    "def isValidBST(root: ListNode) -> bool:\n",
    "    stack = []\n",
    "    lower = []\n",
    "    upper = []\n",
    "    \n",
    "    def addToStack(node: ListNode, prevMin, prevMax):\n",
    "        stack.append(node)\n",
    "        lower.append(prevMin)\n",
    "        upper.append(prevMax)\n",
    "    \n",
    "    # add root to the stack \n",
    "    addToStack(root, None, None)\n",
    "    \n",
    "    while stack:\n",
    "        node = stack.pop()\n",
    "        prevMin = lower.pop()\n",
    "        prevMax = upper.pop()\n",
    "        \n",
    "        # if current node value is less than the lower bound\n",
    "        if prevMin != None and node.val <= prevMin:\n",
    "            return False\n",
    "        \n",
    "        # if current node value is greater than the upper bound\n",
    "        if prevMax !=None and node.val >= prevMax:\n",
    "            return False\n",
    "        \n",
    "        if node.left:\n",
    "            # current node value will become the new upper bound\n",
    "            addToStack(node.left, prevMin, node.val)\n",
    "        \n",
    "        if node.right:\n",
    "            # current node value will become the new lower bound\n",
    "            addToStack(node.right, node.val, prevMax)\n",
    "    \n",
    "    return True"
   ]
  },
  {
   "cell_type": "code",
   "execution_count": 47,
   "metadata": {
    "collapsed": true
   },
   "outputs": [],
   "source": [
    "head = ListNode(2)\n",
    "head.left = ListNode(3)\n",
    "head.right = ListNode(3)"
   ]
  },
  {
   "cell_type": "code",
   "execution_count": 48,
   "metadata": {},
   "outputs": [
    {
     "name": "stdout",
     "output_type": "stream",
     "text": [
      "False\n"
     ]
    }
   ],
   "source": [
    "print(isValidBST(head))"
   ]
  },
  {
   "cell_type": "markdown",
   "metadata": {},
   "source": [
    "## Problem 03 - Binary Tree Level Order Traversal\n",
    "Given a binary tree, return the level order traversal of its nodes' values. (ie, from left to right, level by level)."
   ]
  },
  {
   "cell_type": "code",
   "execution_count": 51,
   "metadata": {},
   "outputs": [],
   "source": [
    "from typing import List\n",
    "def levelOrder(root: ListNode) -> List[List[int]]:\n",
    "    if not root:\n",
    "        return []\n",
    "    \n",
    "    res = []\n",
    "    q = []\n",
    "    q.append(root)\n",
    "    \n",
    "    while q:\n",
    "        count = len(q)\n",
    "        level = []\n",
    "        for i in range(count):\n",
    "            node = q.pop(0)\n",
    "            level.append(node.val)\n",
    "            \n",
    "            if node.left:\n",
    "                q.append(node.left)\n",
    "            \n",
    "            if node.right:\n",
    "                q.append(node.right)\n",
    "        \n",
    "        res.append(level)\n",
    "    \n",
    "    return res"
   ]
  },
  {
   "cell_type": "code",
   "execution_count": 52,
   "metadata": {
    "collapsed": true
   },
   "outputs": [],
   "source": [
    "head = ListNode(2)\n",
    "head.left = ListNode(3)\n",
    "head.right = ListNode(4)"
   ]
  },
  {
   "cell_type": "code",
   "execution_count": 53,
   "metadata": {},
   "outputs": [
    {
     "data": {
      "text/plain": [
       "[[2], [3, 4]]"
      ]
     },
     "execution_count": 53,
     "metadata": {},
     "output_type": "execute_result"
    }
   ],
   "source": [
    "levelOrder(head)"
   ]
  },
  {
   "cell_type": "code",
   "execution_count": null,
   "metadata": {
    "collapsed": true
   },
   "outputs": [],
   "source": []
  }
 ],
 "metadata": {
  "kernelspec": {
   "display_name": "Python 3",
   "language": "python",
   "name": "python3"
  },
  "language_info": {
   "codemirror_mode": {
    "name": "ipython",
    "version": 3
   },
   "file_extension": ".py",
   "mimetype": "text/x-python",
   "name": "python",
   "nbconvert_exporter": "python",
   "pygments_lexer": "ipython3",
   "version": "3.6.10"
  }
 },
 "nbformat": 4,
 "nbformat_minor": 2
}
