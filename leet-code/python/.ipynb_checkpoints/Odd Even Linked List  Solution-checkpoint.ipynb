{
 "cells": [
  {
   "cell_type": "markdown",
   "metadata": {},
   "source": [
    "### Odd Even Linked List\n",
    "Given a singly linked list, group all odd nodes together followed by the even nodes. Please note here we are talking about the node number and not the value in the nodes.\n",
    "\n",
    "You should try to do it in place. The program should run in O(1) space complexity and O(nodes) time complexity."
   ]
  },
  {
   "cell_type": "markdown",
   "metadata": {},
   "source": [
    "#### Solution 01 - My own approach\n",
    "Two pass approach. Calculate the length of the linked list in the first pass.\n",
    "In the second pass remove the even nodes and start appending it to the end of the linked list until all the even nodes are appended."
   ]
  },
  {
   "cell_type": "code",
   "execution_count": 12,
   "metadata": {
    "collapsed": true
   },
   "outputs": [],
   "source": [
    "class ListNode:\n",
    "    def __init__(self, val=0, next=None):\n",
    "        self.val = val\n",
    "        self.next = next\n",
    "        \n",
    "def oddEvenList(head: ListNode) -> ListNode:\n",
    "        if head == None: return head\n",
    "        length = 1 if head != None else 0\n",
    "        cur = head\n",
    "        \n",
    "        while(cur.next != None):\n",
    "            length += 1\n",
    "            cur = cur.next\n",
    "        \n",
    "        if length < 2:\n",
    "            return head\n",
    "        \n",
    "        if length % 2 != 0:\n",
    "            length -= 1\n",
    "            \n",
    "        last = cur\n",
    "        count = 0\n",
    "        cur = head\n",
    "        while(cur.next != None and count < length):\n",
    "            count += 1\n",
    "            if (count % 2 != 0):\n",
    "                last.next = cur.next\n",
    "                cur.next = cur.next.next\n",
    "                last = last.next\n",
    "                last.next = None\n",
    "                cur = cur.next\n",
    "                count += 1\n",
    "        \n",
    "        return head"
   ]
  },
  {
   "cell_type": "code",
   "execution_count": 19,
   "metadata": {},
   "outputs": [],
   "source": [
    "def printLinkedList(head: ListNode):    \n",
    "    cur = head\n",
    "    lstr = \"\"\n",
    "    while(cur != None):\n",
    "        lstr += str(cur.val) + \"->\" \n",
    "        cur = cur.next\n",
    "    lstr += \"NULL\"\n",
    "    print(lstr)"
   ]
  },
  {
   "cell_type": "code",
   "execution_count": 26,
   "metadata": {},
   "outputs": [
    {
     "name": "stdout",
     "output_type": "stream",
     "text": [
      "1->2->3->4->5->NULL\n",
      "1->3->5->2->4->NULL\n"
     ]
    }
   ],
   "source": [
    "l1 = ListNode(1)\n",
    "l2 = ListNode(2)\n",
    "l3 = ListNode(3)\n",
    "l4 = ListNode(4)\n",
    "l5 = ListNode(5)\n",
    "l1.next = l2\n",
    "l2.next = l3\n",
    "l3.next = l4\n",
    "l4.next = l5\n",
    "printLinkedList(l1)\n",
    "newl1 = oddEvenList(l1)\n",
    "printLinkedList(newl1)"
   ]
  },
  {
   "cell_type": "markdown",
   "metadata": {},
   "source": [
    "#### Solution 02 - Leetcode Solution\n",
    "Create two separate linked lists. One for the odd and other for the even. Attach the end of the odd linked list to the begining of the even linked list.\n",
    "Even though it looks like we are using extra space but we are actually not. Since, LinkedList nodes are just links we would just be messing with the node connections and not actually creating a new node."
   ]
  },
  {
   "cell_type": "markdown",
   "metadata": {},
   "source": [
    "##### Intuition\n",
    "\n",
    "Put the odd nodes in a linked list and the even nodes in another. Then link the evenList to the tail of the oddList.\n",
    "\n",
    "##### Algorithm\n",
    "\n",
    "The solution is very intuitive. But it is not trivial to write a concise and bug-free code.\n",
    "\n",
    "A well-formed LinkedList need two pointers head and tail to support operations at both ends. The variables head and odd are the head pointer and tail pointer of one LinkedList we call oddList; the variables evenHead and even are the head pointer and tail pointer of another LinkedList we call evenList. The algorithm traverses the original LinkedList and put the odd nodes into the oddList and the even nodes into the evenList. To traverse a LinkedList we need at least one pointer as an iterator for the current node. But here the pointers odd and even not only serve as the tail pointers but also act as the iterators of the original list."
   ]
  },
  {
   "cell_type": "code",
   "execution_count": 25,
   "metadata": {
    "collapsed": true
   },
   "outputs": [],
   "source": [
    "class ListNode:\n",
    "    def __init__(self, val=0, next=None):\n",
    "        self.val = val\n",
    "        self.next = next\n",
    "        \n",
    "def oddEvenList(head: ListNode) -> ListNode:\n",
    "    if head == None: return head\n",
    "    \n",
    "    odd = head\n",
    "    even = head.next\n",
    "    evenHeader = even\n",
    "    \n",
    "    # 1->2->3->4->5\n",
    "    while(even != None and even.next != None):\n",
    "        odd.next = even.next\n",
    "        odd = odd.next\n",
    "        even.next = odd.next\n",
    "        even = even.next\n",
    "    \n",
    "    odd.next = evenHeader\n",
    "    return head\n",
    "    "
   ]
  },
  {
   "cell_type": "code",
   "execution_count": null,
   "metadata": {
    "collapsed": true
   },
   "outputs": [],
   "source": []
  }
 ],
 "metadata": {
  "kernelspec": {
   "display_name": "Python 3",
   "language": "python",
   "name": "python3"
  },
  "language_info": {
   "codemirror_mode": {
    "name": "ipython",
    "version": 3
   },
   "file_extension": ".py",
   "mimetype": "text/x-python",
   "name": "python",
   "nbconvert_exporter": "python",
   "pygments_lexer": "ipython3",
   "version": "3.6.10"
  }
 },
 "nbformat": 4,
 "nbformat_minor": 2
}
