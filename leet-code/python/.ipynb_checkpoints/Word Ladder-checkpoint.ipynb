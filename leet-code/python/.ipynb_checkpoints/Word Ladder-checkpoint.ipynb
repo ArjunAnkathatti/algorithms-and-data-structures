{
 "cells": [
  {
   "cell_type": "markdown",
   "metadata": {},
   "source": [
    "### Word Ladder\n",
    "Given two words (beginWord and endWord), and a dictionary's word list, find the length of shortest transformation sequence from beginWord to endWord, such that:\n",
    "<br><br>\n",
    "Only one letter can be changed at a time.\n",
    "<br>\n",
    "Each transformed word must exist in the word list.\n",
    "<br>\n",
    "Note:\n",
    "<br><br>\n",
    "Return 0 if there is no such transformation sequence.<br>\n",
    "All words have the same length.<br>\n",
    "All words contain only lowercase alphabetic characters.<br>\n",
    "You may assume no duplicates in the word list.<br>\n",
    "You may assume beginWord and endWord are non-empty and are not the same.<br>\n",
    "<br><br>\n",
    "__Example 1:__\n",
    "<br>\n",
    "Input:<br>\n",
    "beginWord = \"hit\",<br>\n",
    "endWord = \"cog\",<br>\n",
    "wordList = [\"hot\",\"dot\",\"dog\",\"lot\",\"log\",\"cog\"]<br>\n",
    "<br>\n",
    "Output: 5<br>\n",
    "<br>\n",
    "Explanation: As one shortest transformation is \"hit\" -> \"hot\" -> \"dot\" -> \"dog\" -> \"cog\",<br>\n",
    "return its length 5.<br>"
   ]
  },
  {
   "cell_type": "code",
   "execution_count": 136,
   "metadata": {
    "collapsed": true
   },
   "outputs": [],
   "source": [
    "from collections import defaultdict, deque\n",
    "from typing import List"
   ]
  },
  {
   "cell_type": "code",
   "execution_count": 137,
   "metadata": {
    "collapsed": true
   },
   "outputs": [],
   "source": [
    "def ladderLength(beginWord: str, endWord: str, wordList: List[str]) -> int:\n",
    "    if not beginWord or not endWord or not wordList:\n",
    "        return 0\n",
    "\n",
    "    if not endWord in wordList:\n",
    "        print(\"i am the culprit\")\n",
    "        return 0\n",
    "\n",
    "    L = len(beginWord)\n",
    "\n",
    "    all_combo = defaultdict(list)\n",
    "\n",
    "    for word in wordList:\n",
    "        for i in range(L):\n",
    "            # i = 0 *og\n",
    "            # i = 1 d*g\n",
    "            # i = 2 do*\n",
    "            all_combo[word[:i] + \"*\" + word[i+1:]].append(word)\n",
    "    \n",
    "#     for key in all_combo:\n",
    "#         print('{0}{1}'.format(key, all_combo[key]))\n",
    "        \n",
    "#     print(\"\\n********************************************************\")\n",
    "    \n",
    "    \n",
    "    visited = {}\n",
    "    q = deque()\n",
    "    q.append((beginWord, 1))\n",
    "    visited[beginWord] = True\n",
    "\n",
    "    while q:\n",
    "        (cur_word, level) = q.popleft()\n",
    "\n",
    "        for i in range(L):\n",
    "            intermediate_word = cur_word[:i] + \"*\" + cur_word[i+1:]\n",
    "            for word in all_combo[intermediate_word]:\n",
    "                if word == endWord:\n",
    "                    return level + 1\n",
    "\n",
    "                if not word in visited:\n",
    "                    # print(\"{0}{1}\".format(word, intermediate_word))\n",
    "                    visited[word] = True\n",
    "                    q.append((word, level+1))\n",
    "\n",
    "    return 0\n",
    "                    "
   ]
  },
  {
   "cell_type": "code",
   "execution_count": 138,
   "metadata": {
    "collapsed": true
   },
   "outputs": [],
   "source": [
    "# beginWord = \"hit\"\n",
    "# endWord = \"cog\"\n",
    "# wordList = [\"hot\",\"dot\",\"dog\",\"lot\",\"log\",\"cog\"]\n",
    "\n",
    "beginWord = \"cet\"\n",
    "endWord = \"ism\"\n",
    "wordList = [\"kid\",\"tag\",\"pup\",\"ail\",\"tun\",\"woo\",\"erg\",\"luz\",\"brr\",\"gay\",\"sip\",\"kay\",\"per\",\"val\",\"mes\",\"ohs\",\"now\",\"boa\",\"cet\",\"pal\",\"bar\",\"die\",\"war\",\"hay\",\"eco\",\"pub\",\"lob\",\"rue\",\"fry\",\"lit\",\"rex\",\"jan\",\"cot\",\"bid\",\"ali\",\"pay\",\"col\",\"gum\",\"ger\",\"row\",\"won\",\"dan\",\"rum\",\"fad\",\"tut\",\"sag\",\"yip\",\"sui\",\"ark\",\"has\",\"zip\",\"fez\",\"own\",\"ump\",\"dis\",\"ads\",\"max\",\"jaw\",\"out\",\"btu\",\"ana\",\"gap\",\"cry\",\"led\",\"abe\",\"box\",\"ore\",\"pig\",\"fie\",\"toy\",\"fat\",\"cal\",\"lie\",\"noh\",\"sew\",\"ono\",\"tam\",\"flu\",\"mgm\",\"ply\",\"awe\",\"pry\",\"tit\",\"tie\",\"yet\",\"too\",\"tax\",\"jim\",\"san\",\"pan\",\"map\",\"ski\",\"ova\",\"wed\",\"non\",\"wac\",\"nut\",\"why\",\"bye\",\"lye\",\"oct\",\"old\",\"fin\",\"feb\",\"chi\",\"sap\",\"owl\",\"log\",\"tod\",\"dot\",\"bow\",\"fob\",\"for\",\"joe\",\"ivy\",\"fan\",\"age\",\"fax\",\"hip\",\"jib\",\"mel\",\"hus\",\"sob\",\"ifs\",\"tab\",\"ara\",\"dab\",\"jag\",\"jar\",\"arm\",\"lot\",\"tom\",\"sax\",\"tex\",\"yum\",\"pei\",\"wen\",\"wry\",\"ire\",\"irk\",\"far\",\"mew\",\"wit\",\"doe\",\"gas\",\"rte\",\"ian\",\"pot\",\"ask\",\"wag\",\"hag\",\"amy\",\"nag\",\"ron\",\"soy\",\"gin\",\"don\",\"tug\",\"fay\",\"vic\",\"boo\",\"nam\",\"ave\",\"buy\",\"sop\",\"but\",\"orb\",\"fen\",\"paw\",\"his\",\"sub\",\"bob\",\"yea\",\"oft\",\"inn\",\"rod\",\"yam\",\"pew\",\"web\",\"hod\",\"hun\",\"gyp\",\"wei\",\"wis\",\"rob\",\"gad\",\"pie\",\"mon\",\"dog\",\"bib\",\"rub\",\"ere\",\"dig\",\"era\",\"cat\",\"fox\",\"bee\",\"mod\",\"day\",\"apr\",\"vie\",\"nev\",\"jam\",\"pam\",\"new\",\"aye\",\"ani\",\"and\",\"ibm\",\"yap\",\"can\",\"pyx\",\"tar\",\"kin\",\"fog\",\"hum\",\"pip\",\"cup\",\"dye\",\"lyx\",\"jog\",\"nun\",\"par\",\"wan\",\"fey\",\"bus\",\"oak\",\"bad\",\"ats\",\"set\",\"qom\",\"vat\",\"eat\",\"pus\",\"rev\",\"axe\",\"ion\",\"six\",\"ila\",\"lao\",\"mom\",\"mas\",\"pro\",\"few\",\"opt\",\"poe\",\"art\",\"ash\",\"oar\",\"cap\",\"lop\",\"may\",\"shy\",\"rid\",\"bat\",\"sum\",\"rim\",\"fee\",\"bmw\",\"sky\",\"maj\",\"hue\",\"thy\",\"ava\",\"rap\",\"den\",\"fla\",\"auk\",\"cox\",\"ibo\",\"hey\",\"saw\",\"vim\",\"sec\",\"ltd\",\"you\",\"its\",\"tat\",\"dew\",\"eva\",\"tog\",\"ram\",\"let\",\"see\",\"zit\",\"maw\",\"nix\",\"ate\",\"gig\",\"rep\",\"owe\",\"ind\",\"hog\",\"eve\",\"sam\",\"zoo\",\"any\",\"dow\",\"cod\",\"bed\",\"vet\",\"ham\",\"sis\",\"hex\",\"via\",\"fir\",\"nod\",\"mao\",\"aug\",\"mum\",\"hoe\",\"bah\",\"hal\",\"keg\",\"hew\",\"zed\",\"tow\",\"gog\",\"ass\",\"dem\",\"who\",\"bet\",\"gos\",\"son\",\"ear\",\"spy\",\"kit\",\"boy\",\"due\",\"sen\",\"oaf\",\"mix\",\"hep\",\"fur\",\"ada\",\"bin\",\"nil\",\"mia\",\"ewe\",\"hit\",\"fix\",\"sad\",\"rib\",\"eye\",\"hop\",\"haw\",\"wax\",\"mid\",\"tad\",\"ken\",\"wad\",\"rye\",\"pap\",\"bog\",\"gut\",\"ito\",\"woe\",\"our\",\"ado\",\"sin\",\"mad\",\"ray\",\"hon\",\"roy\",\"dip\",\"hen\",\"iva\",\"lug\",\"asp\",\"hui\",\"yak\",\"bay\",\"poi\",\"yep\",\"bun\",\"try\",\"lad\",\"elm\",\"nat\",\"wyo\",\"gym\",\"dug\",\"toe\",\"dee\",\"wig\",\"sly\",\"rip\",\"geo\",\"cog\",\"pas\",\"zen\",\"odd\",\"nan\",\"lay\",\"pod\",\"fit\",\"hem\",\"joy\",\"bum\",\"rio\",\"yon\",\"dec\",\"leg\",\"put\",\"sue\",\"dim\",\"pet\",\"yaw\",\"nub\",\"bit\",\"bur\",\"sid\",\"sun\",\"oil\",\"red\",\"doc\",\"moe\",\"caw\",\"eel\",\"dix\",\"cub\",\"end\",\"gem\",\"off\",\"yew\",\"hug\",\"pop\",\"tub\",\"sgt\",\"lid\",\"pun\",\"ton\",\"sol\",\"din\",\"yup\",\"jab\",\"pea\",\"bug\",\"gag\",\"mil\",\"jig\",\"hub\",\"low\",\"did\",\"tin\",\"get\",\"gte\",\"sox\",\"lei\",\"mig\",\"fig\",\"lon\",\"use\",\"ban\",\"flo\",\"nov\",\"jut\",\"bag\",\"mir\",\"sty\",\"lap\",\"two\",\"ins\",\"con\",\"ant\",\"net\",\"tux\",\"ode\",\"stu\",\"mug\",\"cad\",\"nap\",\"gun\",\"fop\",\"tot\",\"sow\",\"sal\",\"sic\",\"ted\",\"wot\",\"del\",\"imp\",\"cob\",\"way\",\"ann\",\"tan\",\"mci\",\"job\",\"wet\",\"ism\",\"err\",\"him\",\"all\",\"pad\",\"hah\",\"hie\",\"aim\",\"ike\",\"jed\",\"ego\",\"mac\",\"baa\",\"min\",\"com\",\"ill\",\"was\",\"cab\",\"ago\",\"ina\",\"big\",\"ilk\",\"gal\",\"tap\",\"duh\",\"ola\",\"ran\",\"lab\",\"top\",\"gob\",\"hot\",\"ora\",\"tia\",\"kip\",\"han\",\"met\",\"hut\",\"she\",\"sac\",\"fed\",\"goo\",\"tee\",\"ell\",\"not\",\"act\",\"gil\",\"rut\",\"ala\",\"ape\",\"rig\",\"cid\",\"god\",\"duo\",\"lin\",\"aid\",\"gel\",\"awl\",\"lag\",\"elf\",\"liz\",\"ref\",\"aha\",\"fib\",\"oho\",\"tho\",\"her\",\"nor\",\"ace\",\"adz\",\"fun\",\"ned\",\"coo\",\"win\",\"tao\",\"coy\",\"van\",\"man\",\"pit\",\"guy\",\"foe\",\"hid\",\"mai\",\"sup\",\"jay\",\"hob\",\"mow\",\"jot\",\"are\",\"pol\",\"arc\",\"lax\",\"aft\",\"alb\",\"len\",\"air\",\"pug\",\"pox\",\"vow\",\"got\",\"meg\",\"zoe\",\"amp\",\"ale\",\"bud\",\"gee\",\"pin\",\"dun\",\"pat\",\"ten\",\"mob\"]"
   ]
  },
  {
   "cell_type": "code",
   "execution_count": 139,
   "metadata": {},
   "outputs": [
    {
     "data": {
      "text/plain": [
       "11"
      ]
     },
     "execution_count": 139,
     "metadata": {},
     "output_type": "execute_result"
    }
   ],
   "source": [
    "ladderLength(beginWord, endWord, wordList)"
   ]
  },
  {
   "cell_type": "code",
   "execution_count": null,
   "metadata": {
    "collapsed": true
   },
   "outputs": [],
   "source": []
  }
 ],
 "metadata": {
  "kernelspec": {
   "display_name": "Python 3",
   "language": "python",
   "name": "python3"
  },
  "language_info": {
   "codemirror_mode": {
    "name": "ipython",
    "version": 3
   },
   "file_extension": ".py",
   "mimetype": "text/x-python",
   "name": "python",
   "nbconvert_exporter": "python",
   "pygments_lexer": "ipython3",
   "version": "3.6.10"
  }
 },
 "nbformat": 4,
 "nbformat_minor": 2
}
