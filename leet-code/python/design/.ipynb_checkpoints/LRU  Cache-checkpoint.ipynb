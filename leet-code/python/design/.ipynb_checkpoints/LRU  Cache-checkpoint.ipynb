{
 "cells": [
  {
   "cell_type": "markdown",
   "metadata": {},
   "source": [
    "### LRU Cache\n",
    "Design and implement a data structure for __Least Recently Used (LRU)__ cache. It should support the following operations: get and put.\n",
    "<br>\n",
    "\n",
    "get(key) - Get the value (will always be positive) of the key if the key exists in the cache, otherwise return -1.\n",
    "<br>\n",
    "put(key, value) - Set or insert the value if the key is not already present. When the cache reached its capacity, it should invalidate the least recently used item before inserting a new item.\n",
    "<br>\n",
    "<br>\n",
    "\n",
    "The cache is initialized with a positive capacity.\n",
    "<br>"
   ]
  },
  {
   "cell_type": "markdown",
   "metadata": {},
   "source": [
    "### Approach 1: Ordered dictionary\n",
    "__Intuition__\n",
    "<br>\n",
    "We're asked to implement the structure which provides the following operations in \\mathcal{O}(1)O(1) time :\n",
    "<br>\n",
    "Get the key / Check if the key exists\n",
    "<br>\n",
    "Put the key\n",
    "<br>\n",
    "Delete the first added key\n",
    "<br>\n",
    "The first two operations in \\mathcal{O}(1)O(1) time are provided by the standard hashmap, and the last one - by linked list.\n",
    "<br>\n",
    "There is a structure called ordered dictionary, it combines behind both hashmap and linked list. In Python this structure is called __OrderedDict__ and in Java __LinkedHashMap__.\n",
    "<br>"
   ]
  },
  {
   "cell_type": "code",
   "execution_count": 16,
   "metadata": {
    "collapsed": true
   },
   "outputs": [],
   "source": [
    "from collections import OrderedDict"
   ]
  },
  {
   "cell_type": "code",
   "execution_count": 17,
   "metadata": {
    "collapsed": true
   },
   "outputs": [],
   "source": [
    "class LRUCache(OrderedDict):\n",
    "    def __init__(self, capacity):\n",
    "        self.capacity = capacity\n",
    "        \n",
    "    def get(self, key):\n",
    "        if key not in self:\n",
    "            return -1\n",
    "        \n",
    "        self.move_to_end(key)\n",
    "        return self[key]\n",
    "    \n",
    "    def put(self, key, value):\n",
    "        if key in self:\n",
    "            self.move_to_end(key)\n",
    "        \n",
    "        self[key] = value\n",
    "        if len(self) > self.capacity:\n",
    "            self.popitem(last = False)\n",
    "    "
   ]
  },
  {
   "cell_type": "markdown",
   "metadata": {
    "collapsed": true
   },
   "source": [
    "### Solution 02: Using HashMap and Linked List\n",
    "In the HashMap we store a node in the list by it's key. \n",
    "The linked list is used to maintain the items based on thier accessing frequency. The most recently used will be at the begining of the list and the least used will be at the end of the list.\n",
    "<br><br>\n",
    "Any time a key is accessed we move that to the begining of the list to indicate that it is the most recently used element.\n",
    "<br><br>\n",
    "When inserting, we alwasy insert at the begining if the element alreday doesn't exist in the cache. If it does exists then we move the node in linked list from it's current position to the begining and update it' key.\n",
    "<br><br>\n",
    "After insertion check if the length of our cache is less than or equal to the capacity. If it is greater then we need remove the least used node which will be the last node in the linked list.\n",
    "<br><br>"
   ]
  },
  {
   "cell_type": "markdown",
   "metadata": {},
   "source": [
    "One particularity about the double linked list implemented here is that there are pseudo head and pseudo tail to mark the boundary, so that we don't need to check the null node during the update.\n",
    "\n",
    "![alt text](LRU_Double_Linked_List.png \"Title\")"
   ]
  },
  {
   "cell_type": "code",
   "execution_count": 9,
   "metadata": {
    "collapsed": true
   },
   "outputs": [],
   "source": [
    "class DLinkedList:\n",
    "    def __init__(self, key:int, value: int):\n",
    "        self.key = key\n",
    "        self.value = value\n",
    "        self.prev = None\n",
    "        self.next = None"
   ]
  },
  {
   "cell_type": "code",
   "execution_count": 13,
   "metadata": {
    "collapsed": true
   },
   "outputs": [],
   "source": [
    "def printLinkedList(head: DLinkedList):\n",
    "    str_list = \"\"\n",
    "    cur = head\n",
    "    while(cur != None):\n",
    "        str_list += \"(\" + str(cur.key) + \", \" + str(cur.value) + \")\"\n",
    "        str_list += \"->\"\n",
    "        cur = cur.next\n",
    "        \n",
    "    str_list += \"END\"\n",
    "    return str_list"
   ]
  },
  {
   "cell_type": "code",
   "execution_count": 15,
   "metadata": {
    "collapsed": true
   },
   "outputs": [],
   "source": [
    "head = DLinkedList(10, 100)\n",
    "tail = DLinkedList(20, 200)\n",
    "head.next = tail\n",
    "tail.prev = head"
   ]
  },
  {
   "cell_type": "code",
   "execution_count": 16,
   "metadata": {},
   "outputs": [
    {
     "data": {
      "text/plain": [
       "'(10, 100)->(20, 200)->END'"
      ]
     },
     "execution_count": 16,
     "metadata": {},
     "output_type": "execute_result"
    }
   ],
   "source": [
    "printLinkedList(head)"
   ]
  },
  {
   "cell_type": "code",
   "execution_count": 55,
   "metadata": {
    "collapsed": true
   },
   "outputs": [],
   "source": [
    "class LRUCache:\n",
    "    def __init__(self, capacity:int):\n",
    "        self.capacity = capacity\n",
    "        self.cache = dict()\n",
    "        \n",
    "        self.head = DLinkedList(0, 0)\n",
    "        self.tail = DLinkedList(0, 0)\n",
    "        \n",
    "        self.head.next = self.tail\n",
    "        self.tail.prev = self.head\n",
    "    \n",
    "    # add a node at the begining of the list\n",
    "    def __add_node(self, node: DLinkedList):\n",
    "        node.prev = head\n",
    "        node.next = head.next\n",
    "        \n",
    "        self.head.next.prev = node\n",
    "        self.head.next = node\n",
    "    \n",
    "    # remove a node from the list\n",
    "    def __remove_node(self, node):\n",
    "        node.prev.next = node.next\n",
    "        node.next.prev = node.prev\n",
    "    \n",
    "    # remove the node at the right most end \n",
    "    # this node will be the least used node\n",
    "    def __pop_tail(self):\n",
    "        if self.tail.prev != self.head:\n",
    "            node = self.tail.prev\n",
    "            self.__remove_node(node)\n",
    "            return node\n",
    "    \n",
    "    \n",
    "    # move a existing node to the begining\n",
    "    def __move_to_head(self, node: DLinkedList):\n",
    "        # remove the node first \n",
    "        self.__remove_node(node)\n",
    "        \n",
    "        # this will add back the node to the begining\n",
    "        self.__add_node(node)\n",
    "        \n",
    "    \n",
    "    def get(self, key: int):\n",
    "        node = self.cache.get(key, None)\n",
    "        if not node:\n",
    "            return -1 \n",
    "        \n",
    "        # move the node to the begining to indicate that it is mostly recently used\n",
    "        self.__move_to_head(node)\n",
    "        \n",
    "        return node.value\n",
    "    \n",
    "    def put(self, key: int, value: int):\n",
    "        node = self.cache.get(key)\n",
    "        if not node:\n",
    "            newNode = DLinkedList(key, value)\n",
    "            self.cache[key] = newNode\n",
    "            \n",
    "            self.__add_node(newNode)\n",
    "            \n",
    "            print(\"length of cache \", len(self.cache))\n",
    "            if len(self.cache) > self.capacity:\n",
    "               # remove the right most node\n",
    "\n",
    "                tail = self.__pop_tail()\n",
    "                print(\"tail key \", tail.key)\n",
    "                del self.cache[tail.key]\n",
    "        else:\n",
    "            # update the value of the existing node\n",
    "            node.value = value\n",
    "            \n",
    "            # move to the begining \n",
    "            self.__move_to_head(node)"
   ]
  },
  {
   "cell_type": "code",
   "execution_count": 56,
   "metadata": {},
   "outputs": [
    {
     "name": "stdout",
     "output_type": "stream",
     "text": [
      "length of cache  1\n",
      "length of cache  2\n",
      "1\n",
      "length of cache  3\n",
      "tail key  1\n",
      "2\n",
      "length of cache  3\n",
      "tail key  1\n"
     ]
    },
    {
     "ename": "KeyError",
     "evalue": "1",
     "output_type": "error",
     "traceback": [
      "\u001b[0;31m---------------------------------------------------------------------------\u001b[0m",
      "\u001b[0;31mKeyError\u001b[0m                                  Traceback (most recent call last)",
      "\u001b[0;32m<ipython-input-56-df8269f69413>\u001b[0m in \u001b[0;36m<module>\u001b[0;34m()\u001b[0m\n\u001b[1;32m      5\u001b[0m \u001b[0mobj\u001b[0m\u001b[0;34m.\u001b[0m\u001b[0mput\u001b[0m\u001b[0;34m(\u001b[0m\u001b[0;36m3\u001b[0m\u001b[0;34m,\u001b[0m \u001b[0;36m3\u001b[0m\u001b[0;34m)\u001b[0m\u001b[0;34m\u001b[0m\u001b[0;34m\u001b[0m\u001b[0m\n\u001b[1;32m      6\u001b[0m \u001b[0mprint\u001b[0m\u001b[0;34m(\u001b[0m\u001b[0mobj\u001b[0m\u001b[0;34m.\u001b[0m\u001b[0mget\u001b[0m\u001b[0;34m(\u001b[0m\u001b[0;36m2\u001b[0m\u001b[0;34m)\u001b[0m\u001b[0;34m)\u001b[0m\u001b[0;34m\u001b[0m\u001b[0;34m\u001b[0m\u001b[0m\n\u001b[0;32m----> 7\u001b[0;31m \u001b[0mobj\u001b[0m\u001b[0;34m.\u001b[0m\u001b[0mput\u001b[0m\u001b[0;34m(\u001b[0m\u001b[0;36m4\u001b[0m\u001b[0;34m,\u001b[0m \u001b[0;36m4\u001b[0m\u001b[0;34m)\u001b[0m\u001b[0;34m\u001b[0m\u001b[0;34m\u001b[0m\u001b[0m\n\u001b[0m\u001b[1;32m      8\u001b[0m \u001b[0mprint\u001b[0m\u001b[0;34m(\u001b[0m\u001b[0mobj\u001b[0m\u001b[0;34m.\u001b[0m\u001b[0mget\u001b[0m\u001b[0;34m(\u001b[0m\u001b[0;36m1\u001b[0m\u001b[0;34m)\u001b[0m\u001b[0;34m)\u001b[0m\u001b[0;34m\u001b[0m\u001b[0;34m\u001b[0m\u001b[0m\n\u001b[1;32m      9\u001b[0m \u001b[0mprint\u001b[0m\u001b[0;34m(\u001b[0m\u001b[0mobj\u001b[0m\u001b[0;34m.\u001b[0m\u001b[0mget\u001b[0m\u001b[0;34m(\u001b[0m\u001b[0;36m3\u001b[0m\u001b[0;34m)\u001b[0m\u001b[0;34m)\u001b[0m\u001b[0;34m\u001b[0m\u001b[0;34m\u001b[0m\u001b[0m\n",
      "\u001b[0;32m<ipython-input-55-d65a77249dc5>\u001b[0m in \u001b[0;36mput\u001b[0;34m(self, key, value)\u001b[0m\n\u001b[1;32m     65\u001b[0m                 \u001b[0mtail\u001b[0m \u001b[0;34m=\u001b[0m \u001b[0mself\u001b[0m\u001b[0;34m.\u001b[0m\u001b[0m__pop_tail\u001b[0m\u001b[0;34m(\u001b[0m\u001b[0;34m)\u001b[0m\u001b[0;34m\u001b[0m\u001b[0;34m\u001b[0m\u001b[0m\n\u001b[1;32m     66\u001b[0m                 \u001b[0mprint\u001b[0m\u001b[0;34m(\u001b[0m\u001b[0;34m\"tail key \"\u001b[0m\u001b[0;34m,\u001b[0m \u001b[0mtail\u001b[0m\u001b[0;34m.\u001b[0m\u001b[0mkey\u001b[0m\u001b[0;34m)\u001b[0m\u001b[0;34m\u001b[0m\u001b[0;34m\u001b[0m\u001b[0m\n\u001b[0;32m---> 67\u001b[0;31m                 \u001b[0;32mdel\u001b[0m \u001b[0mself\u001b[0m\u001b[0;34m.\u001b[0m\u001b[0mcache\u001b[0m\u001b[0;34m[\u001b[0m\u001b[0mtail\u001b[0m\u001b[0;34m.\u001b[0m\u001b[0mkey\u001b[0m\u001b[0;34m]\u001b[0m\u001b[0;34m\u001b[0m\u001b[0;34m\u001b[0m\u001b[0m\n\u001b[0m\u001b[1;32m     68\u001b[0m         \u001b[0;32melse\u001b[0m\u001b[0;34m:\u001b[0m\u001b[0;34m\u001b[0m\u001b[0;34m\u001b[0m\u001b[0m\n\u001b[1;32m     69\u001b[0m             \u001b[0;31m# update the value of the existing node\u001b[0m\u001b[0;34m\u001b[0m\u001b[0;34m\u001b[0m\u001b[0;34m\u001b[0m\u001b[0m\n",
      "\u001b[0;31mKeyError\u001b[0m: 1"
     ]
    }
   ],
   "source": [
    "obj = LRUCache(2)\n",
    "obj.put(1, 1)\n",
    "obj.put(2, 2)\n",
    "print(obj.get(1))\n",
    "obj.put(3, 3)\n",
    "print(obj.get(2))\n",
    "obj.put(4, 4)\n",
    "print(obj.get(1))\n",
    "print(obj.get(3))\n",
    "print(obj.get(4))"
   ]
  },
  {
   "cell_type": "code",
   "execution_count": 46,
   "metadata": {},
   "outputs": [
    {
     "ename": "KeyboardInterrupt",
     "evalue": "",
     "output_type": "error",
     "traceback": [
      "\u001b[0;31m---------------------------------------------------------------------------\u001b[0m",
      "\u001b[0;31mKeyboardInterrupt\u001b[0m                         Traceback (most recent call last)",
      "\u001b[0;32m<ipython-input-46-43cd6ccde262>\u001b[0m in \u001b[0;36m<module>\u001b[0;34m()\u001b[0m\n\u001b[0;32m----> 1\u001b[0;31m \u001b[0mprintLinkedList\u001b[0m\u001b[0;34m(\u001b[0m\u001b[0mobj\u001b[0m\u001b[0;34m.\u001b[0m\u001b[0mhead\u001b[0m\u001b[0;34m)\u001b[0m\u001b[0;34m\u001b[0m\u001b[0;34m\u001b[0m\u001b[0m\n\u001b[0m",
      "\u001b[0;32m<ipython-input-13-d2165d208fe5>\u001b[0m in \u001b[0;36mprintLinkedList\u001b[0;34m(head)\u001b[0m\n\u001b[1;32m      4\u001b[0m     \u001b[0;32mwhile\u001b[0m\u001b[0;34m(\u001b[0m\u001b[0mcur\u001b[0m \u001b[0;34m!=\u001b[0m \u001b[0;32mNone\u001b[0m\u001b[0;34m)\u001b[0m\u001b[0;34m:\u001b[0m\u001b[0;34m\u001b[0m\u001b[0;34m\u001b[0m\u001b[0m\n\u001b[1;32m      5\u001b[0m         \u001b[0mstr_list\u001b[0m \u001b[0;34m+=\u001b[0m \u001b[0;34m\"(\"\u001b[0m \u001b[0;34m+\u001b[0m \u001b[0mstr\u001b[0m\u001b[0;34m(\u001b[0m\u001b[0mcur\u001b[0m\u001b[0;34m.\u001b[0m\u001b[0mkey\u001b[0m\u001b[0;34m)\u001b[0m \u001b[0;34m+\u001b[0m \u001b[0;34m\", \"\u001b[0m \u001b[0;34m+\u001b[0m \u001b[0mstr\u001b[0m\u001b[0;34m(\u001b[0m\u001b[0mcur\u001b[0m\u001b[0;34m.\u001b[0m\u001b[0mvalue\u001b[0m\u001b[0;34m)\u001b[0m \u001b[0;34m+\u001b[0m \u001b[0;34m\")\"\u001b[0m\u001b[0;34m\u001b[0m\u001b[0;34m\u001b[0m\u001b[0m\n\u001b[0;32m----> 6\u001b[0;31m         \u001b[0mstr_list\u001b[0m \u001b[0;34m+=\u001b[0m \u001b[0;34m\"->\"\u001b[0m\u001b[0;34m\u001b[0m\u001b[0;34m\u001b[0m\u001b[0m\n\u001b[0m\u001b[1;32m      7\u001b[0m         \u001b[0mcur\u001b[0m \u001b[0;34m=\u001b[0m \u001b[0mcur\u001b[0m\u001b[0;34m.\u001b[0m\u001b[0mnext\u001b[0m\u001b[0;34m\u001b[0m\u001b[0;34m\u001b[0m\u001b[0m\n\u001b[1;32m      8\u001b[0m \u001b[0;34m\u001b[0m\u001b[0m\n",
      "\u001b[0;31mKeyboardInterrupt\u001b[0m: "
     ]
    }
   ],
   "source": [
    "printLinkedList(obj.head)"
   ]
  },
  {
   "cell_type": "code",
   "execution_count": null,
   "metadata": {
    "collapsed": true
   },
   "outputs": [],
   "source": []
  }
 ],
 "metadata": {
  "kernelspec": {
   "display_name": "Python 3",
   "language": "python",
   "name": "python3"
  },
  "language_info": {
   "codemirror_mode": {
    "name": "ipython",
    "version": 3
   },
   "file_extension": ".py",
   "mimetype": "text/x-python",
   "name": "python",
   "nbconvert_exporter": "python",
   "pygments_lexer": "ipython3",
   "version": "3.6.10"
  }
 },
 "nbformat": 4,
 "nbformat_minor": 2
}
