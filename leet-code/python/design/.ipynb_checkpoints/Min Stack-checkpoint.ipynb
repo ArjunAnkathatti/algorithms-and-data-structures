{
 "cells": [
  {
   "cell_type": "markdown",
   "metadata": {},
   "source": [
    "### Solution 01 - Using Two Stacks\n",
    "Stack 01 - for storing actual elements\n",
    "<br>\n",
    "Stack 02 - for storing only the minimum values\n",
    "<br>"
   ]
  },
  {
   "cell_type": "code",
   "execution_count": 3,
   "metadata": {
    "collapsed": true
   },
   "outputs": [],
   "source": [
    "class MinStack01:\n",
    "    def __init__(self):\n",
    "        self.stack = []\n",
    "        self.min_stack = []\n",
    "        self.min_stack.append(2**31-1)\n",
    "    \n",
    "    def push(self, x: int):\n",
    "        if x <= self.min_stack[-1]:\n",
    "            self.min_stack.append(x)\n",
    "        \n",
    "        self.stack.append(x)\n",
    "    \n",
    "    def pop(self):\n",
    "        cur_min = self.min_stack[-1]\n",
    "        if cur_min == self.top():\n",
    "            self.min_stack.pop()\n",
    "        \n",
    "        self.stack.pop()\n",
    "    \n",
    "    def top(self):\n",
    "        return self.stack[-1]\n",
    "    \n",
    "    def getMin(self):\n",
    "        return self.min_stack[-1]\n",
    "            "
   ]
  },
  {
   "cell_type": "code",
   "execution_count": 8,
   "metadata": {},
   "outputs": [
    {
     "name": "stdout",
     "output_type": "stream",
     "text": [
      "minimum so far is  10\n",
      "minimum so far is  6\n",
      "minimum so far is  8\n",
      "minimum so far is  10\n"
     ]
    }
   ],
   "source": [
    "s1 = MinStack01()\n",
    "s1.push(10)\n",
    "s1.push(20)\n",
    "print(\"minimum so far is \", s1.getMin())\n",
    "s1.push(8)\n",
    "s1.push(6)\n",
    "print(\"minimum so far is \", s1.getMin())\n",
    "s1.pop()\n",
    "print(\"minimum so far is \", s1.getMin())\n",
    "s1.pop()\n",
    "print(\"minimum so far is \", s1.getMin())"
   ]
  },
  {
   "cell_type": "markdown",
   "metadata": {},
   "source": [
    "### Solution 02 - Using Two Stacks (Improved)\n",
    "To reduce the size of the min stack when there are duplicates, we can insert a tuple into min stack instead of just the value. The tuple will have the value and it's frequency. \n",
    "<br>\n",
    "If a min item has only one frequency we pop it or else we decrease the frequency by 1.'"
   ]
  },
  {
   "cell_type": "code",
   "execution_count": 11,
   "metadata": {
    "collapsed": true
   },
   "outputs": [],
   "source": [
    "class MinStack02:\n",
    "    def __init__(self):\n",
    "        self.stack = []\n",
    "        self.min_stack = []\n",
    "        self.min_stack.append((2**31-1, 1))\n",
    "    \n",
    "    def push(self, x: int):\n",
    "        if x < self.min_stack[-1][0]:\n",
    "            self.min_stack.append((x,1))\n",
    "        elif x == self.min_stack[-1][0]:\n",
    "            count = self.min_stack[-1][1]\n",
    "            self.min_stack[-1] = (x, count+1)\n",
    "            \n",
    "        self.stack.append(x)\n",
    "    \n",
    "    def pop(self):\n",
    "        cur_min = self.min_stack[-1]\n",
    "        if cur_min[0] == self.top():\n",
    "            if cur_min[1] > 1:\n",
    "                self.min_stack[-1] = (cur_min[0], cur_min[1] -1)\n",
    "            else:\n",
    "                self.min_stack.pop()\n",
    "        \n",
    "        self.stack.pop()\n",
    "    \n",
    "    def top(self):\n",
    "        return self.stack[-1]\n",
    "    \n",
    "    def getMin(self):\n",
    "        return self.min_stack[-1][0]\n",
    "            "
   ]
  },
  {
   "cell_type": "code",
   "execution_count": 12,
   "metadata": {},
   "outputs": [
    {
     "name": "stdout",
     "output_type": "stream",
     "text": [
      "minimum so far is  10\n",
      "minimum so far is  6\n",
      "minimum so far is  8\n",
      "minimum so far is  10\n"
     ]
    }
   ],
   "source": [
    "s2 = MinStack02()\n",
    "s2.push(10)\n",
    "s2.push(20)\n",
    "print(\"minimum so far is \", s2.getMin())\n",
    "s2.push(8)\n",
    "s2.push(6)\n",
    "print(\"minimum so far is \", s2.getMin())\n",
    "s2.pop()\n",
    "print(\"minimum so far is \", s2.getMin())\n",
    "s2.pop()\n",
    "print(\"minimum so far is \", s2.getMin())"
   ]
  },
  {
   "cell_type": "code",
   "execution_count": null,
   "metadata": {
    "collapsed": true
   },
   "outputs": [],
   "source": []
  }
 ],
 "metadata": {
  "kernelspec": {
   "display_name": "Python 3",
   "language": "python",
   "name": "python3"
  },
  "language_info": {
   "codemirror_mode": {
    "name": "ipython",
    "version": 3
   },
   "file_extension": ".py",
   "mimetype": "text/x-python",
   "name": "python",
   "nbconvert_exporter": "python",
   "pygments_lexer": "ipython3",
   "version": "3.6.10"
  }
 },
 "nbformat": 4,
 "nbformat_minor": 2
}
