{
 "cells": [
  {
   "cell_type": "markdown",
   "metadata": {},
   "source": [
    "### All negative numbers are not palindromes.\n",
    "### Also, if last digit is zero then first also needs to be zero. Hence, we can assume that numbers ending with zeros are not palindrome.\n",
    "\n",
    "### Algorithm:\n",
    "Divide the number into two halfs. Reverse the second half of the number. If the reversed second half is same as the first half then it is a palindrome.\n",
    "\n",
    "For example, 1221, by dividing equally we would get 12 and 21. Now, the reverse of the 21 = 12. This 12 is same as the first half of the number which is 12. Hence the number 1221 is a palindrome.\n",
    "\n",
    "We are suppose to solve this by just using integer and not the string. We can easily reverse a number but the challenge is to reverse only the half. \n",
    "\n",
    "To know when to stop reversing, all we have to do is just compare the original number with the reversed number. If the original number is less than reversed number it means we have reach half the number"
   ]
  },
  {
   "cell_type": "markdown",
   "metadata": {},
   "source": [
    "#### Using String"
   ]
  },
  {
   "cell_type": "code",
   "execution_count": 6,
   "metadata": {
    "collapsed": true
   },
   "outputs": [],
   "source": [
    "def isPalindrome(x: int) -> bool:\n",
    "        strx = str(x)\n",
    "        revx = strx[::-1]\n",
    "        return strx == revx"
   ]
  },
  {
   "cell_type": "code",
   "execution_count": 7,
   "metadata": {},
   "outputs": [
    {
     "name": "stdout",
     "output_type": "stream",
     "text": [
      "True\n"
     ]
    }
   ],
   "source": [
    "print(isPalindrome(1221))"
   ]
  },
  {
   "cell_type": "markdown",
   "metadata": {},
   "source": [
    "#### Using Integer Math"
   ]
  },
  {
   "cell_type": "code",
   "execution_count": 19,
   "metadata": {},
   "outputs": [],
   "source": [
    "def isPalindrome(x: int) -> bool:\n",
    "    if (x < 0 or (x %10 == 0 and x != 0)):\n",
    "        return False\n",
    "    else:\n",
    "        rev = 0\n",
    "        while(x > rev):\n",
    "            rev = rev * 10 + x % 10\n",
    "            x = x // 10\n",
    "            \n",
    "        # When the length is an odd number, we can get rid of the middle digit by revertedNumber/10\n",
    "        # For example when the input is 12321, at the end of the while loop we get x = 12, revertedNumber = 123,\n",
    "        # since the middle digit doesn't matter in palidrome(it will always equal to itself), \n",
    "        # - we can simply get rid of it.\n",
    "        return (x == rev or x == rev/10)"
   ]
  },
  {
   "cell_type": "code",
   "execution_count": 20,
   "metadata": {},
   "outputs": [
    {
     "data": {
      "text/plain": [
       "False"
      ]
     },
     "execution_count": 20,
     "metadata": {},
     "output_type": "execute_result"
    }
   ],
   "source": [
    "isPalindrome(121)"
   ]
  },
  {
   "cell_type": "code",
   "execution_count": null,
   "metadata": {
    "collapsed": true
   },
   "outputs": [],
   "source": []
  }
 ],
 "metadata": {
  "kernelspec": {
   "display_name": "Python 3",
   "language": "python",
   "name": "python3"
  },
  "language_info": {
   "codemirror_mode": {
    "name": "ipython",
    "version": 3
   },
   "file_extension": ".py",
   "mimetype": "text/x-python",
   "name": "python",
   "nbconvert_exporter": "python",
   "pygments_lexer": "ipython3",
   "version": "3.6.10"
  }
 },
 "nbformat": 4,
 "nbformat_minor": 2
}
