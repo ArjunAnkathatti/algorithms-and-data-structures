{
 "cells": [
  {
   "cell_type": "markdown",
   "metadata": {},
   "source": [
    "### K-th Symbol in Grammar\n",
    "<pre>\n",
    "Examples:\n",
    "Input: N = 1, K = 1\n",
    "Output: 0\n",
    "\n",
    "Input: N = 2, K = 1\n",
    "Output: 0\n",
    "\n",
    "Input: N = 2, K = 2\n",
    "Output: 1\n",
    "\n",
    "Input: N = 4, K = 5\n",
    "Output: 1\n",
    "\n",
    "Explanation:\n",
    "row 1: 0\n",
    "row 2: 01\n",
    "row 3: 0110\n",
    "row 4: 01101001\n",
    "</pre>"
   ]
  },
  {
   "cell_type": "markdown",
   "metadata": {},
   "source": [
    "### Solution - Recursion\n",
    "<pre>\n",
    "Trick is to represent the current (N, K) in terms of some (N-1, prevK).\n",
    "We just have to find out the previous K.\n",
    "N is 0 based index\n",
    "K is 1 based index\n",
    "<pre>"
   ]
  },
  {
   "cell_type": "code",
   "execution_count": 14,
   "metadata": {
    "collapsed": true
   },
   "outputs": [],
   "source": [
    "def kthGrammar(n, k):\n",
    "    if n == 0 and k == 1:\n",
    "        return 0\n",
    "    \n",
    "    if k % 2 == 0:\n",
    "        sy = kthGrammar(n-1, k/2)\n",
    "        if sy == 1:\n",
    "            sy = 0\n",
    "        else:\n",
    "            sy = 1\n",
    "    else:\n",
    "        sy = kthGrammar(n-1, (k // 2) + 1)\n",
    "    \n",
    "    return sy"
   ]
  },
  {
   "cell_type": "code",
   "execution_count": 15,
   "metadata": {},
   "outputs": [
    {
     "name": "stdout",
     "output_type": "stream",
     "text": [
      "1\n"
     ]
    }
   ],
   "source": [
    "sy = kthGrammar(4, 5)\n",
    "print(sy)"
   ]
  },
  {
   "cell_type": "code",
   "execution_count": null,
   "metadata": {
    "collapsed": true
   },
   "outputs": [],
   "source": []
  }
 ],
 "metadata": {
  "kernelspec": {
   "display_name": "Python 3",
   "language": "python",
   "name": "python3"
  },
  "language_info": {
   "codemirror_mode": {
    "name": "ipython",
    "version": 3
   },
   "file_extension": ".py",
   "mimetype": "text/x-python",
   "name": "python",
   "nbconvert_exporter": "python",
   "pygments_lexer": "ipython3",
   "version": "3.6.10"
  }
 },
 "nbformat": 4,
 "nbformat_minor": 2
}
