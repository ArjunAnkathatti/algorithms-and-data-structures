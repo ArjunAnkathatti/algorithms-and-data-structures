{
 "cells": [
  {
   "cell_type": "markdown",
   "metadata": {},
   "source": [
    "### Number of Islands\n",
    "Given a 2d grid map of '1's (land) and '0's (water), count the number of islands. An island is surrounded by water and is formed by connecting adjacent lands horizontally or vertically. You may assume all four edges of the grid are all surrounded by water.\n",
    "\n",
    "#### Example 01\n",
    "##### Input:\n",
    "11110\n",
    "11010\n",
    "11000\n",
    "00000\n",
    "\n",
    "##### Output: 1"
   ]
  },
  {
   "cell_type": "markdown",
   "metadata": {},
   "source": [
    "### Solution 01 - Using DFS\n",
    "DFS uses recursion to fill or sink the visited cells."
   ]
  },
  {
   "cell_type": "code",
   "execution_count": 14,
   "metadata": {
    "collapsed": true
   },
   "outputs": [],
   "source": [
    "class Solution1:\n",
    "    def numIslands(self, grid) -> int:\n",
    "        if len(grid) == 0: return 0\n",
    "        rows = len(grid)\n",
    "        cols = len(grid[0])\n",
    "        \n",
    "        islands = 0\n",
    "        for row in range(rows):\n",
    "            for col in range(cols):\n",
    "                if grid[row][col] == \"1\":\n",
    "                    islands += 1\n",
    "                    self.sinkIsland(grid, row, col)\n",
    "                    \n",
    "        return islands\n",
    "    \n",
    "    def sinkIsland(self, grid, row, col):\n",
    "        if grid[row][col] == \"0\":\n",
    "            return \n",
    "        \n",
    "        grid[row][col] = \"0\"\n",
    "        \n",
    "        rowMax = len(grid)\n",
    "        colMax = len(grid[0])\n",
    "        \n",
    "        # top\n",
    "        if (col+1 < colMax and grid[row][col+1] == \"1\"):\n",
    "            self.sinkIsland(grid, row, col+1)\n",
    "        \n",
    "        # bottom\n",
    "        if (col-1 >= 0 and grid[row][col-1] == \"1\"):\n",
    "            self.sinkIsland(grid, row, col-1)\n",
    "        \n",
    "        # left\n",
    "        if(row-1 >= 0 and grid[row-1][col] == \"1\"):\n",
    "            self.sinkIsland(grid, row-1, col)\n",
    "        \n",
    "        # right\n",
    "        if(row+1 < rowMax and grid[row+1][col] == \"1\"):\n",
    "            self.sinkIsland(grid, row+1, col)\n",
    "            \n",
    "        return "
   ]
  },
  {
   "cell_type": "code",
   "execution_count": 15,
   "metadata": {},
   "outputs": [
    {
     "name": "stdout",
     "output_type": "stream",
     "text": [
      "Expected output = 1\n"
     ]
    },
    {
     "data": {
      "text/plain": [
       "1"
      ]
     },
     "execution_count": 15,
     "metadata": {},
     "output_type": "execute_result"
    }
   ],
   "source": [
    "grid = [[\"1\",\"1\",\"1\",\"1\",\"0\"],[\"1\",\"1\",\"0\",\"1\",\"0\"],[\"1\",\"1\",\"0\",\"0\",\"0\"],[\"0\",\"0\",\"0\",\"0\",\"0\"]]\n",
    "s1 = Solution1()\n",
    "print(\"Expected output = 1\")\n",
    "s1.numIslands(grid)"
   ]
  },
  {
   "cell_type": "markdown",
   "metadata": {},
   "source": [
    "### Solution 02 - Using BFS \n",
    "BFS uses lops and queue to fill or sink the visited cells"
   ]
  },
  {
   "cell_type": "code",
   "execution_count": 16,
   "metadata": {
    "collapsed": true
   },
   "outputs": [],
   "source": [
    "class Solution2:\n",
    "    class Cell:\n",
    "        def __init__(self, row, col):\n",
    "            self.row = row\n",
    "            self.col = col\n",
    "        \n",
    "    def numIslands(self, grid) -> int:\n",
    "        if len(grid) == 0: return 0\n",
    "        rows = len(grid)\n",
    "        cols = len(grid[0])\n",
    "        \n",
    "        islands = 0\n",
    "        for row in range(rows):\n",
    "            for col in range(cols):\n",
    "                if grid[row][col] == \"1\":\n",
    "                    islands += 1\n",
    "                    grid[row][col] = \"0\"\n",
    "                    neighbors = [self.Cell(row, col)]\n",
    "                    while(len(neighbors) > 0):\n",
    "                        cell = neighbors.pop(0)\n",
    "                        rowMax = len(grid)\n",
    "                        colMax = len(grid[0])\n",
    "\n",
    "                        # top\n",
    "                        if (cell.col+1 < colMax and grid[cell.row][cell.col+1] == \"1\"):\n",
    "                            grid[cell.row][cell.col+1] = \"0\"\n",
    "                            neighbors.append(self.Cell(cell.row, cell.col+1))\n",
    "\n",
    "                        # bottom\n",
    "                        if (cell.col-1 >= 0 and grid[cell.row][cell.col-1] == \"1\"):\n",
    "                            grid[cell.row][cell.col-1] = \"0\"\n",
    "                            neighbors.append(self.Cell(cell.row, cell.col-1))\n",
    "\n",
    "                        # left\n",
    "                        if(cell.row-1 >= 0 and grid[cell.row-1][cell.col] == \"1\"):\n",
    "                            grid[cell.row-1][cell.col] = \"0\"\n",
    "                            neighbors.append(self.Cell(cell.row -1, cell.col))\n",
    "\n",
    "                        # right\n",
    "                        if(cell.row+1 < rowMax and grid[cell.row+1][cell.col] == \"1\"):\n",
    "                            grid[cell.row+1][cell.col] = \"0\"\n",
    "                            neighbors.append(self.Cell(cell.row +1, cell.col))\n",
    "                    \n",
    "        return islands    "
   ]
  },
  {
   "cell_type": "code",
   "execution_count": 17,
   "metadata": {},
   "outputs": [
    {
     "name": "stdout",
     "output_type": "stream",
     "text": [
      "Expected output = 1\n"
     ]
    },
    {
     "data": {
      "text/plain": [
       "1"
      ]
     },
     "execution_count": 17,
     "metadata": {},
     "output_type": "execute_result"
    }
   ],
   "source": [
    "grid = [[\"1\",\"1\",\"1\",\"1\",\"0\"],[\"1\",\"1\",\"0\",\"1\",\"0\"],[\"1\",\"1\",\"0\",\"0\",\"0\"],[\"0\",\"0\",\"0\",\"0\",\"0\"]]\n",
    "s2 = Solution2()\n",
    "print(\"Expected output = 1\")\n",
    "s2.numIslands(grid)"
   ]
  }
 ],
 "metadata": {
  "kernelspec": {
   "display_name": "Python 3",
   "language": "python",
   "name": "python3"
  },
  "language_info": {
   "codemirror_mode": {
    "name": "ipython",
    "version": 3
   },
   "file_extension": ".py",
   "mimetype": "text/x-python",
   "name": "python",
   "nbconvert_exporter": "python",
   "pygments_lexer": "ipython3",
   "version": "3.6.10"
  }
 },
 "nbformat": 4,
 "nbformat_minor": 2
}
