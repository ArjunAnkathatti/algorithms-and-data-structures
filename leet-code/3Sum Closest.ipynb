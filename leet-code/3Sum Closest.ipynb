{
 "cells": [
  {
   "cell_type": "markdown",
   "metadata": {},
   "source": [
    "### 3Sum Closest\n",
    "Given an array nums of n integers and an integer target, find three integers in nums such that the sum is closest to target. Return the sum of the three integers. You may assume that each input would have exactly one solution.\n",
    "<br>\n",
    "<br>\n",
    "__Example 1:__\n",
    "<br>\n",
    "Input: nums = [-1,2,1,-4], target = 1<br>\n",
    "Output: 2<br>\n",
    "Explanation: The sum that is closest to the target is 2. (-1 + 2 + 1 = 2).<br>"
   ]
  },
  {
   "cell_type": "code",
   "execution_count": 25,
   "metadata": {},
   "outputs": [],
   "source": [
    "from typing import List\n",
    "def threeSumClosest(nums: List[int], target: int) -> int:\n",
    "    # sort the given array\n",
    "    nums.sort()\n",
    "    \n",
    "    # variable to store the minimum difference between the target and the sum of triplets\n",
    "    diff = float(\"inf\")\n",
    "    \n",
    "    for i, v in enumerate(nums):\n",
    "        lo = i+1\n",
    "        hi = len(nums) - 1\n",
    "        \n",
    "        while lo < hi:\n",
    "            _sum = v + nums[lo] + nums[hi]\n",
    "            if abs(target - _sum) < abs(diff):\n",
    "                # update diff if it is less the prev diff\n",
    "                diff = target - _sum\n",
    "            \n",
    "            if _sum < target:\n",
    "                lo += 1\n",
    "            else:\n",
    "                hi -= 1\n",
    "        \n",
    "        if diff == 0:\n",
    "            break\n",
    "        \n",
    "    return target - diff\n",
    "            "
   ]
  },
  {
   "cell_type": "code",
   "execution_count": 27,
   "metadata": {},
   "outputs": [
    {
     "name": "stdout",
     "output_type": "stream",
     "text": [
      "Expected uutput: 2\n",
      "Explanation: The sum that is closest to the target is 2. (-1 + 2 + 1 = 2).\n"
     ]
    },
    {
     "data": {
      "text/plain": [
       "2"
      ]
     },
     "execution_count": 27,
     "metadata": {},
     "output_type": "execute_result"
    }
   ],
   "source": [
    "nums = [-1,2,1,-4]\n",
    "target = 1\n",
    "print(\"Expected uutput: 2\")\n",
    "print(\"Explanation: The sum that is closest to the target is 2. (-1 + 2 + 1 = 2).\")\n",
    "threeSumClosest(nums, target)"
   ]
  },
  {
   "cell_type": "code",
   "execution_count": null,
   "metadata": {
    "collapsed": true
   },
   "outputs": [],
   "source": []
  }
 ],
 "metadata": {
  "kernelspec": {
   "display_name": "Python 3",
   "language": "python",
   "name": "python3"
  },
  "language_info": {
   "codemirror_mode": {
    "name": "ipython",
    "version": 3
   },
   "file_extension": ".py",
   "mimetype": "text/x-python",
   "name": "python",
   "nbconvert_exporter": "python",
   "pygments_lexer": "ipython3",
   "version": "3.6.10"
  }
 },
 "nbformat": 4,
 "nbformat_minor": 2
}
